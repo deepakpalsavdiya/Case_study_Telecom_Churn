{
 "cells": [
  {
   "cell_type": "markdown",
   "metadata": {},
   "source": [
    "# Telecom Churn - Group Case Study"
   ]
  },
  {
   "cell_type": "code",
   "execution_count": 42,
   "metadata": {},
   "outputs": [],
   "source": [
    "# Import required lib and packages\n",
    "\n",
    "import numpy as np\n",
    "import pandas as pd\n",
    "import matplotlib.pyplot as plt\n",
    "%matplotlib inline\n",
    "\n",
    "import seaborn as sns\n",
    "from sklearn import linear_model\n",
    "from sklearn.linear_model import LinearRegression\n",
    "from sklearn.model_selection import train_test_split\n",
    "from sklearn.pipeline import Pipeline\n",
    "from sklearn.decomposition import PCA\n",
    "from sklearn.preprocessing import StandardScaler\n",
    "from sklearn.pipeline import FeatureUnion\n",
    "from sklearn.model_selection import StratifiedKFold\n",
    "from sklearn.model_selection import cross_val_score\n",
    "from sklearn.metrics import confusion_matrix\n",
    "from sklearn.model_selection import GridSearchCV\n",
    "from sklearn.ensemble import RandomForestClassifier\n",
    "from sklearn.ensemble import GradientBoostingClassifier\n",
    "from sklearn.svm import SVC\n",
    "\n",
    "from sklearn.base import BaseEstimator, TransformerMixin\n",
    "from sklearn.linear_model import LogisticRegression\n",
    "from sklearn.metrics import classification_report\n",
    "from sklearn.metrics import roc_auc_score\n",
    "\n",
    "import warnings\n",
    "warnings.filterwarnings('ignore')"
   ]
  },
  {
   "cell_type": "code",
   "execution_count": 67,
   "metadata": {},
   "outputs": [],
   "source": [
    "\n",
    "tc_data = pd.read_csv('telecom_churn_data.csv')"
   ]
  },
  {
   "cell_type": "code",
   "execution_count": 68,
   "metadata": {},
   "outputs": [
    {
     "data": {
      "text/html": [
       "<div>\n",
       "<style scoped>\n",
       "    .dataframe tbody tr th:only-of-type {\n",
       "        vertical-align: middle;\n",
       "    }\n",
       "\n",
       "    .dataframe tbody tr th {\n",
       "        vertical-align: top;\n",
       "    }\n",
       "\n",
       "    .dataframe thead th {\n",
       "        text-align: right;\n",
       "    }\n",
       "</style>\n",
       "<table border=\"1\" class=\"dataframe\">\n",
       "  <thead>\n",
       "    <tr style=\"text-align: right;\">\n",
       "      <th></th>\n",
       "      <th>mobile_number</th>\n",
       "      <th>circle_id</th>\n",
       "      <th>loc_og_t2o_mou</th>\n",
       "      <th>std_og_t2o_mou</th>\n",
       "      <th>loc_ic_t2o_mou</th>\n",
       "      <th>last_date_of_month_6</th>\n",
       "      <th>last_date_of_month_7</th>\n",
       "      <th>last_date_of_month_8</th>\n",
       "      <th>last_date_of_month_9</th>\n",
       "      <th>arpu_6</th>\n",
       "      <th>...</th>\n",
       "      <th>sachet_3g_9</th>\n",
       "      <th>fb_user_6</th>\n",
       "      <th>fb_user_7</th>\n",
       "      <th>fb_user_8</th>\n",
       "      <th>fb_user_9</th>\n",
       "      <th>aon</th>\n",
       "      <th>aug_vbc_3g</th>\n",
       "      <th>jul_vbc_3g</th>\n",
       "      <th>jun_vbc_3g</th>\n",
       "      <th>sep_vbc_3g</th>\n",
       "    </tr>\n",
       "  </thead>\n",
       "  <tbody>\n",
       "    <tr>\n",
       "      <th>0</th>\n",
       "      <td>7000842753</td>\n",
       "      <td>109</td>\n",
       "      <td>0.0</td>\n",
       "      <td>0.0</td>\n",
       "      <td>0.0</td>\n",
       "      <td>6/30/2014</td>\n",
       "      <td>7/31/2014</td>\n",
       "      <td>8/31/2014</td>\n",
       "      <td>9/30/2014</td>\n",
       "      <td>197.385</td>\n",
       "      <td>...</td>\n",
       "      <td>0</td>\n",
       "      <td>1.0</td>\n",
       "      <td>1.0</td>\n",
       "      <td>1.0</td>\n",
       "      <td>NaN</td>\n",
       "      <td>968</td>\n",
       "      <td>30.4</td>\n",
       "      <td>0.0</td>\n",
       "      <td>101.20</td>\n",
       "      <td>3.58</td>\n",
       "    </tr>\n",
       "    <tr>\n",
       "      <th>1</th>\n",
       "      <td>7001865778</td>\n",
       "      <td>109</td>\n",
       "      <td>0.0</td>\n",
       "      <td>0.0</td>\n",
       "      <td>0.0</td>\n",
       "      <td>6/30/2014</td>\n",
       "      <td>7/31/2014</td>\n",
       "      <td>8/31/2014</td>\n",
       "      <td>9/30/2014</td>\n",
       "      <td>34.047</td>\n",
       "      <td>...</td>\n",
       "      <td>0</td>\n",
       "      <td>NaN</td>\n",
       "      <td>1.0</td>\n",
       "      <td>1.0</td>\n",
       "      <td>NaN</td>\n",
       "      <td>1006</td>\n",
       "      <td>0.0</td>\n",
       "      <td>0.0</td>\n",
       "      <td>0.00</td>\n",
       "      <td>0.00</td>\n",
       "    </tr>\n",
       "    <tr>\n",
       "      <th>2</th>\n",
       "      <td>7001625959</td>\n",
       "      <td>109</td>\n",
       "      <td>0.0</td>\n",
       "      <td>0.0</td>\n",
       "      <td>0.0</td>\n",
       "      <td>6/30/2014</td>\n",
       "      <td>7/31/2014</td>\n",
       "      <td>8/31/2014</td>\n",
       "      <td>9/30/2014</td>\n",
       "      <td>167.690</td>\n",
       "      <td>...</td>\n",
       "      <td>0</td>\n",
       "      <td>NaN</td>\n",
       "      <td>NaN</td>\n",
       "      <td>NaN</td>\n",
       "      <td>1.0</td>\n",
       "      <td>1103</td>\n",
       "      <td>0.0</td>\n",
       "      <td>0.0</td>\n",
       "      <td>4.17</td>\n",
       "      <td>0.00</td>\n",
       "    </tr>\n",
       "    <tr>\n",
       "      <th>3</th>\n",
       "      <td>7001204172</td>\n",
       "      <td>109</td>\n",
       "      <td>0.0</td>\n",
       "      <td>0.0</td>\n",
       "      <td>0.0</td>\n",
       "      <td>6/30/2014</td>\n",
       "      <td>7/31/2014</td>\n",
       "      <td>8/31/2014</td>\n",
       "      <td>9/30/2014</td>\n",
       "      <td>221.338</td>\n",
       "      <td>...</td>\n",
       "      <td>0</td>\n",
       "      <td>NaN</td>\n",
       "      <td>NaN</td>\n",
       "      <td>NaN</td>\n",
       "      <td>NaN</td>\n",
       "      <td>2491</td>\n",
       "      <td>0.0</td>\n",
       "      <td>0.0</td>\n",
       "      <td>0.00</td>\n",
       "      <td>0.00</td>\n",
       "    </tr>\n",
       "    <tr>\n",
       "      <th>4</th>\n",
       "      <td>7000142493</td>\n",
       "      <td>109</td>\n",
       "      <td>0.0</td>\n",
       "      <td>0.0</td>\n",
       "      <td>0.0</td>\n",
       "      <td>6/30/2014</td>\n",
       "      <td>7/31/2014</td>\n",
       "      <td>8/31/2014</td>\n",
       "      <td>9/30/2014</td>\n",
       "      <td>261.636</td>\n",
       "      <td>...</td>\n",
       "      <td>0</td>\n",
       "      <td>0.0</td>\n",
       "      <td>NaN</td>\n",
       "      <td>NaN</td>\n",
       "      <td>NaN</td>\n",
       "      <td>1526</td>\n",
       "      <td>0.0</td>\n",
       "      <td>0.0</td>\n",
       "      <td>0.00</td>\n",
       "      <td>0.00</td>\n",
       "    </tr>\n",
       "  </tbody>\n",
       "</table>\n",
       "<p>5 rows × 226 columns</p>\n",
       "</div>"
      ],
      "text/plain": [
       "   mobile_number  circle_id  loc_og_t2o_mou  std_og_t2o_mou  loc_ic_t2o_mou  \\\n",
       "0     7000842753        109             0.0             0.0             0.0   \n",
       "1     7001865778        109             0.0             0.0             0.0   \n",
       "2     7001625959        109             0.0             0.0             0.0   \n",
       "3     7001204172        109             0.0             0.0             0.0   \n",
       "4     7000142493        109             0.0             0.0             0.0   \n",
       "\n",
       "  last_date_of_month_6 last_date_of_month_7 last_date_of_month_8  \\\n",
       "0            6/30/2014            7/31/2014            8/31/2014   \n",
       "1            6/30/2014            7/31/2014            8/31/2014   \n",
       "2            6/30/2014            7/31/2014            8/31/2014   \n",
       "3            6/30/2014            7/31/2014            8/31/2014   \n",
       "4            6/30/2014            7/31/2014            8/31/2014   \n",
       "\n",
       "  last_date_of_month_9   arpu_6  ...  sachet_3g_9  fb_user_6  fb_user_7  \\\n",
       "0            9/30/2014  197.385  ...            0        1.0        1.0   \n",
       "1            9/30/2014   34.047  ...            0        NaN        1.0   \n",
       "2            9/30/2014  167.690  ...            0        NaN        NaN   \n",
       "3            9/30/2014  221.338  ...            0        NaN        NaN   \n",
       "4            9/30/2014  261.636  ...            0        0.0        NaN   \n",
       "\n",
       "   fb_user_8  fb_user_9   aon  aug_vbc_3g  jul_vbc_3g  jun_vbc_3g  sep_vbc_3g  \n",
       "0        1.0        NaN   968        30.4         0.0      101.20        3.58  \n",
       "1        1.0        NaN  1006         0.0         0.0        0.00        0.00  \n",
       "2        NaN        1.0  1103         0.0         0.0        4.17        0.00  \n",
       "3        NaN        NaN  2491         0.0         0.0        0.00        0.00  \n",
       "4        NaN        NaN  1526         0.0         0.0        0.00        0.00  \n",
       "\n",
       "[5 rows x 226 columns]"
      ]
     },
     "execution_count": 68,
     "metadata": {},
     "output_type": "execute_result"
    }
   ],
   "source": [
    "\n",
    "tc_data.head()"
   ]
  },
  {
   "cell_type": "code",
   "execution_count": 69,
   "metadata": {},
   "outputs": [
    {
     "data": {
      "text/plain": [
       "(99999, 226)"
      ]
     },
     "execution_count": 69,
     "metadata": {},
     "output_type": "execute_result"
    }
   ],
   "source": [
    "\n",
    "tc_data.shape"
   ]
  },
  {
   "cell_type": "code",
   "execution_count": 70,
   "metadata": {},
   "outputs": [
    {
     "data": {
      "text/html": [
       "<div>\n",
       "<style scoped>\n",
       "    .dataframe tbody tr th:only-of-type {\n",
       "        vertical-align: middle;\n",
       "    }\n",
       "\n",
       "    .dataframe tbody tr th {\n",
       "        vertical-align: top;\n",
       "    }\n",
       "\n",
       "    .dataframe thead th {\n",
       "        text-align: right;\n",
       "    }\n",
       "</style>\n",
       "<table border=\"1\" class=\"dataframe\">\n",
       "  <thead>\n",
       "    <tr style=\"text-align: right;\">\n",
       "      <th></th>\n",
       "      <th>mobile_number</th>\n",
       "      <th>circle_id</th>\n",
       "      <th>loc_og_t2o_mou</th>\n",
       "      <th>std_og_t2o_mou</th>\n",
       "      <th>loc_ic_t2o_mou</th>\n",
       "      <th>arpu_6</th>\n",
       "      <th>arpu_7</th>\n",
       "      <th>arpu_8</th>\n",
       "      <th>arpu_9</th>\n",
       "      <th>onnet_mou_6</th>\n",
       "      <th>...</th>\n",
       "      <th>sachet_3g_9</th>\n",
       "      <th>fb_user_6</th>\n",
       "      <th>fb_user_7</th>\n",
       "      <th>fb_user_8</th>\n",
       "      <th>fb_user_9</th>\n",
       "      <th>aon</th>\n",
       "      <th>aug_vbc_3g</th>\n",
       "      <th>jul_vbc_3g</th>\n",
       "      <th>jun_vbc_3g</th>\n",
       "      <th>sep_vbc_3g</th>\n",
       "    </tr>\n",
       "  </thead>\n",
       "  <tbody>\n",
       "    <tr>\n",
       "      <th>count</th>\n",
       "      <td>9.999900e+04</td>\n",
       "      <td>99999.0</td>\n",
       "      <td>98981.0</td>\n",
       "      <td>98981.0</td>\n",
       "      <td>98981.0</td>\n",
       "      <td>99999.000000</td>\n",
       "      <td>99999.000000</td>\n",
       "      <td>99999.000000</td>\n",
       "      <td>99999.000000</td>\n",
       "      <td>96062.000000</td>\n",
       "      <td>...</td>\n",
       "      <td>99999.000000</td>\n",
       "      <td>25153.000000</td>\n",
       "      <td>25571.000000</td>\n",
       "      <td>26339.000000</td>\n",
       "      <td>25922.000000</td>\n",
       "      <td>99999.000000</td>\n",
       "      <td>99999.000000</td>\n",
       "      <td>99999.000000</td>\n",
       "      <td>99999.000000</td>\n",
       "      <td>99999.000000</td>\n",
       "    </tr>\n",
       "    <tr>\n",
       "      <th>mean</th>\n",
       "      <td>7.001207e+09</td>\n",
       "      <td>109.0</td>\n",
       "      <td>0.0</td>\n",
       "      <td>0.0</td>\n",
       "      <td>0.0</td>\n",
       "      <td>282.987358</td>\n",
       "      <td>278.536648</td>\n",
       "      <td>279.154731</td>\n",
       "      <td>261.645069</td>\n",
       "      <td>132.395875</td>\n",
       "      <td>...</td>\n",
       "      <td>0.084581</td>\n",
       "      <td>0.914404</td>\n",
       "      <td>0.908764</td>\n",
       "      <td>0.890808</td>\n",
       "      <td>0.860968</td>\n",
       "      <td>1219.854749</td>\n",
       "      <td>68.170248</td>\n",
       "      <td>66.839062</td>\n",
       "      <td>60.021204</td>\n",
       "      <td>3.299373</td>\n",
       "    </tr>\n",
       "    <tr>\n",
       "      <th>std</th>\n",
       "      <td>6.956694e+05</td>\n",
       "      <td>0.0</td>\n",
       "      <td>0.0</td>\n",
       "      <td>0.0</td>\n",
       "      <td>0.0</td>\n",
       "      <td>328.439770</td>\n",
       "      <td>338.156291</td>\n",
       "      <td>344.474791</td>\n",
       "      <td>341.998630</td>\n",
       "      <td>297.207406</td>\n",
       "      <td>...</td>\n",
       "      <td>0.650457</td>\n",
       "      <td>0.279772</td>\n",
       "      <td>0.287950</td>\n",
       "      <td>0.311885</td>\n",
       "      <td>0.345987</td>\n",
       "      <td>954.733842</td>\n",
       "      <td>267.580450</td>\n",
       "      <td>271.201856</td>\n",
       "      <td>253.938223</td>\n",
       "      <td>32.408353</td>\n",
       "    </tr>\n",
       "    <tr>\n",
       "      <th>min</th>\n",
       "      <td>7.000000e+09</td>\n",
       "      <td>109.0</td>\n",
       "      <td>0.0</td>\n",
       "      <td>0.0</td>\n",
       "      <td>0.0</td>\n",
       "      <td>-2258.709000</td>\n",
       "      <td>-2014.045000</td>\n",
       "      <td>-945.808000</td>\n",
       "      <td>-1899.505000</td>\n",
       "      <td>0.000000</td>\n",
       "      <td>...</td>\n",
       "      <td>0.000000</td>\n",
       "      <td>0.000000</td>\n",
       "      <td>0.000000</td>\n",
       "      <td>0.000000</td>\n",
       "      <td>0.000000</td>\n",
       "      <td>180.000000</td>\n",
       "      <td>0.000000</td>\n",
       "      <td>0.000000</td>\n",
       "      <td>0.000000</td>\n",
       "      <td>0.000000</td>\n",
       "    </tr>\n",
       "    <tr>\n",
       "      <th>25%</th>\n",
       "      <td>7.000606e+09</td>\n",
       "      <td>109.0</td>\n",
       "      <td>0.0</td>\n",
       "      <td>0.0</td>\n",
       "      <td>0.0</td>\n",
       "      <td>93.411500</td>\n",
       "      <td>86.980500</td>\n",
       "      <td>84.126000</td>\n",
       "      <td>62.685000</td>\n",
       "      <td>7.380000</td>\n",
       "      <td>...</td>\n",
       "      <td>0.000000</td>\n",
       "      <td>1.000000</td>\n",
       "      <td>1.000000</td>\n",
       "      <td>1.000000</td>\n",
       "      <td>1.000000</td>\n",
       "      <td>467.000000</td>\n",
       "      <td>0.000000</td>\n",
       "      <td>0.000000</td>\n",
       "      <td>0.000000</td>\n",
       "      <td>0.000000</td>\n",
       "    </tr>\n",
       "    <tr>\n",
       "      <th>50%</th>\n",
       "      <td>7.001205e+09</td>\n",
       "      <td>109.0</td>\n",
       "      <td>0.0</td>\n",
       "      <td>0.0</td>\n",
       "      <td>0.0</td>\n",
       "      <td>197.704000</td>\n",
       "      <td>191.640000</td>\n",
       "      <td>192.080000</td>\n",
       "      <td>176.849000</td>\n",
       "      <td>34.310000</td>\n",
       "      <td>...</td>\n",
       "      <td>0.000000</td>\n",
       "      <td>1.000000</td>\n",
       "      <td>1.000000</td>\n",
       "      <td>1.000000</td>\n",
       "      <td>1.000000</td>\n",
       "      <td>863.000000</td>\n",
       "      <td>0.000000</td>\n",
       "      <td>0.000000</td>\n",
       "      <td>0.000000</td>\n",
       "      <td>0.000000</td>\n",
       "    </tr>\n",
       "    <tr>\n",
       "      <th>75%</th>\n",
       "      <td>7.001812e+09</td>\n",
       "      <td>109.0</td>\n",
       "      <td>0.0</td>\n",
       "      <td>0.0</td>\n",
       "      <td>0.0</td>\n",
       "      <td>371.060000</td>\n",
       "      <td>365.344500</td>\n",
       "      <td>369.370500</td>\n",
       "      <td>353.466500</td>\n",
       "      <td>118.740000</td>\n",
       "      <td>...</td>\n",
       "      <td>0.000000</td>\n",
       "      <td>1.000000</td>\n",
       "      <td>1.000000</td>\n",
       "      <td>1.000000</td>\n",
       "      <td>1.000000</td>\n",
       "      <td>1807.500000</td>\n",
       "      <td>0.000000</td>\n",
       "      <td>0.000000</td>\n",
       "      <td>0.000000</td>\n",
       "      <td>0.000000</td>\n",
       "    </tr>\n",
       "    <tr>\n",
       "      <th>max</th>\n",
       "      <td>7.002411e+09</td>\n",
       "      <td>109.0</td>\n",
       "      <td>0.0</td>\n",
       "      <td>0.0</td>\n",
       "      <td>0.0</td>\n",
       "      <td>27731.088000</td>\n",
       "      <td>35145.834000</td>\n",
       "      <td>33543.624000</td>\n",
       "      <td>38805.617000</td>\n",
       "      <td>7376.710000</td>\n",
       "      <td>...</td>\n",
       "      <td>49.000000</td>\n",
       "      <td>1.000000</td>\n",
       "      <td>1.000000</td>\n",
       "      <td>1.000000</td>\n",
       "      <td>1.000000</td>\n",
       "      <td>4337.000000</td>\n",
       "      <td>12916.220000</td>\n",
       "      <td>9165.600000</td>\n",
       "      <td>11166.210000</td>\n",
       "      <td>2618.570000</td>\n",
       "    </tr>\n",
       "  </tbody>\n",
       "</table>\n",
       "<p>8 rows × 214 columns</p>\n",
       "</div>"
      ],
      "text/plain": [
       "       mobile_number  circle_id  loc_og_t2o_mou  std_og_t2o_mou  \\\n",
       "count   9.999900e+04    99999.0         98981.0         98981.0   \n",
       "mean    7.001207e+09      109.0             0.0             0.0   \n",
       "std     6.956694e+05        0.0             0.0             0.0   \n",
       "min     7.000000e+09      109.0             0.0             0.0   \n",
       "25%     7.000606e+09      109.0             0.0             0.0   \n",
       "50%     7.001205e+09      109.0             0.0             0.0   \n",
       "75%     7.001812e+09      109.0             0.0             0.0   \n",
       "max     7.002411e+09      109.0             0.0             0.0   \n",
       "\n",
       "       loc_ic_t2o_mou        arpu_6        arpu_7        arpu_8        arpu_9  \\\n",
       "count         98981.0  99999.000000  99999.000000  99999.000000  99999.000000   \n",
       "mean              0.0    282.987358    278.536648    279.154731    261.645069   \n",
       "std               0.0    328.439770    338.156291    344.474791    341.998630   \n",
       "min               0.0  -2258.709000  -2014.045000   -945.808000  -1899.505000   \n",
       "25%               0.0     93.411500     86.980500     84.126000     62.685000   \n",
       "50%               0.0    197.704000    191.640000    192.080000    176.849000   \n",
       "75%               0.0    371.060000    365.344500    369.370500    353.466500   \n",
       "max               0.0  27731.088000  35145.834000  33543.624000  38805.617000   \n",
       "\n",
       "        onnet_mou_6  ...   sachet_3g_9     fb_user_6     fb_user_7  \\\n",
       "count  96062.000000  ...  99999.000000  25153.000000  25571.000000   \n",
       "mean     132.395875  ...      0.084581      0.914404      0.908764   \n",
       "std      297.207406  ...      0.650457      0.279772      0.287950   \n",
       "min        0.000000  ...      0.000000      0.000000      0.000000   \n",
       "25%        7.380000  ...      0.000000      1.000000      1.000000   \n",
       "50%       34.310000  ...      0.000000      1.000000      1.000000   \n",
       "75%      118.740000  ...      0.000000      1.000000      1.000000   \n",
       "max     7376.710000  ...     49.000000      1.000000      1.000000   \n",
       "\n",
       "          fb_user_8     fb_user_9           aon    aug_vbc_3g    jul_vbc_3g  \\\n",
       "count  26339.000000  25922.000000  99999.000000  99999.000000  99999.000000   \n",
       "mean       0.890808      0.860968   1219.854749     68.170248     66.839062   \n",
       "std        0.311885      0.345987    954.733842    267.580450    271.201856   \n",
       "min        0.000000      0.000000    180.000000      0.000000      0.000000   \n",
       "25%        1.000000      1.000000    467.000000      0.000000      0.000000   \n",
       "50%        1.000000      1.000000    863.000000      0.000000      0.000000   \n",
       "75%        1.000000      1.000000   1807.500000      0.000000      0.000000   \n",
       "max        1.000000      1.000000   4337.000000  12916.220000   9165.600000   \n",
       "\n",
       "         jun_vbc_3g    sep_vbc_3g  \n",
       "count  99999.000000  99999.000000  \n",
       "mean      60.021204      3.299373  \n",
       "std      253.938223     32.408353  \n",
       "min        0.000000      0.000000  \n",
       "25%        0.000000      0.000000  \n",
       "50%        0.000000      0.000000  \n",
       "75%        0.000000      0.000000  \n",
       "max    11166.210000   2618.570000  \n",
       "\n",
       "[8 rows x 214 columns]"
      ]
     },
     "execution_count": 70,
     "metadata": {},
     "output_type": "execute_result"
    }
   ],
   "source": [
    "\n",
    "tc_data.describe()"
   ]
  },
  {
   "cell_type": "code",
   "execution_count": 47,
   "metadata": {},
   "outputs": [
    {
     "name": "stdout",
     "output_type": "stream",
     "text": [
      "<class 'pandas.core.frame.DataFrame'>\n",
      "RangeIndex: 99999 entries, 0 to 99998\n",
      "Columns: 226 entries, mobile_number to sep_vbc_3g\n",
      "dtypes: float64(179), int64(35), object(12)\n",
      "memory usage: 172.4+ MB\n"
     ]
    }
   ],
   "source": [
    "\n",
    "tc_data.info()"
   ]
  },
  {
   "cell_type": "code",
   "execution_count": 71,
   "metadata": {},
   "outputs": [
    {
     "data": {
      "text/plain": [
       "mobile_number       int64\n",
       "circle_id           int64\n",
       "loc_og_t2o_mou    float64\n",
       "std_og_t2o_mou    float64\n",
       "loc_ic_t2o_mou    float64\n",
       "                   ...   \n",
       "aon                 int64\n",
       "aug_vbc_3g        float64\n",
       "jul_vbc_3g        float64\n",
       "jun_vbc_3g        float64\n",
       "sep_vbc_3g        float64\n",
       "Length: 226, dtype: object"
      ]
     },
     "execution_count": 71,
     "metadata": {},
     "output_type": "execute_result"
    }
   ],
   "source": [
    "tc_data.dtypes"
   ]
  },
  {
   "cell_type": "code",
   "execution_count": 49,
   "metadata": {},
   "outputs": [],
   "source": [
    "#categoring columns "
   ]
  },
  {
   "cell_type": "code",
   "execution_count": 72,
   "metadata": {},
   "outputs": [],
   "source": [
    "# Creating column name list by types of columns\n",
    "id_cols = ['mobile_number', 'circle_id']\n",
    "date_cols = ['last_date_of_month_6','last_date_of_month_7','last_date_of_month_8','last_date_of_month_9','date_of_last_rech_6','date_of_last_rech_7','date_of_last_rech_8','date_of_last_rech_9','date_of_last_rech_data_6','date_of_last_rech_data_7','date_of_last_rech_data_8','date_of_last_rech_data_9']\n",
    "cat_cols =  ['night_pck_user_6','night_pck_user_7','night_pck_user_8','night_pck_user_9','fb_user_6','fb_user_7','fb_user_8','fb_user_9']\n",
    "num_cols = [column for column in df.columns if column not in id_cols + date_cols + cat_cols]"
   ]
  },
  {
   "cell_type": "code",
   "execution_count": null,
   "metadata": {},
   "outputs": [],
   "source": []
  },
  {
   "cell_type": "code",
   "execution_count": 73,
   "metadata": {},
   "outputs": [
    {
     "name": "stdout",
     "output_type": "stream",
     "text": [
      "#id_cols: 2\n",
      "#date_cols:12\n",
      "#cat_cols:8\n",
      "#num_cols:204\n"
     ]
    }
   ],
   "source": [
    "# The number of columns in each list\n",
    "print(\"#id_cols: %d\\n#date_cols:%d\\n#cat_cols:%d\\n#num_cols:%d\" % (len(id_cols), len(date_cols), len(cat_cols), len(num_cols)))"
   ]
  },
  {
   "cell_type": "code",
   "execution_count": 74,
   "metadata": {},
   "outputs": [
    {
     "name": "stdout",
     "output_type": "stream",
     "text": [
      "226\n",
      "226\n"
     ]
    }
   ],
   "source": [
    "# checking to see if any columnns are missed\n",
    "print(len(id_cols) + len(date_cols) + len(num_cols) + len(cat_cols) )\n",
    "print(len(tc_data.columns))"
   ]
  },
  {
   "cell_type": "code",
   "execution_count": null,
   "metadata": {},
   "outputs": [],
   "source": []
  },
  {
   "cell_type": "code",
   "execution_count": 75,
   "metadata": {
    "scrolled": false
   },
   "outputs": [
    {
     "data": {
      "text/plain": [
       "arpu_3g_6            74.846748\n",
       "night_pck_user_6     74.846748\n",
       "total_rech_data_6    74.846748\n",
       "arpu_2g_6            74.846748\n",
       "max_rech_data_6      74.846748\n",
       "                       ...    \n",
       "max_rech_amt_7        0.000000\n",
       "max_rech_amt_6        0.000000\n",
       "total_rech_amt_9      0.000000\n",
       "total_rech_amt_8      0.000000\n",
       "sep_vbc_3g            0.000000\n",
       "Length: 226, dtype: float64"
      ]
     },
     "execution_count": 75,
     "metadata": {},
     "output_type": "execute_result"
    }
   ],
   "source": [
    "# Check missing/null values\n",
    "(tc_data.isnull().sum()*100/df.shape[0]).sort_values(ascending=False)"
   ]
  },
  {
   "cell_type": "code",
   "execution_count": 76,
   "metadata": {},
   "outputs": [],
   "source": [
    "## Because we don't have data for average recharge amount, maximum recharge data, total recharge date, \n",
    "##and mobile internet data recharge date,\n",
    "## we can say that roughly 74-75% of the entries in these columns are empty or missing."
   ]
  },
  {
   "cell_type": "code",
   "execution_count": 77,
   "metadata": {},
   "outputs": [
    {
     "data": {
      "text/html": [
       "<div>\n",
       "<style scoped>\n",
       "    .dataframe tbody tr th:only-of-type {\n",
       "        vertical-align: middle;\n",
       "    }\n",
       "\n",
       "    .dataframe tbody tr th {\n",
       "        vertical-align: top;\n",
       "    }\n",
       "\n",
       "    .dataframe thead th {\n",
       "        text-align: right;\n",
       "    }\n",
       "</style>\n",
       "<table border=\"1\" class=\"dataframe\">\n",
       "  <thead>\n",
       "    <tr style=\"text-align: right;\">\n",
       "      <th></th>\n",
       "      <th>total_rech_data_6</th>\n",
       "      <th>total_rech_data_7</th>\n",
       "      <th>total_rech_data_8</th>\n",
       "      <th>total_rech_data_9</th>\n",
       "      <th>count_rech_2g_6</th>\n",
       "      <th>count_rech_2g_7</th>\n",
       "      <th>count_rech_2g_8</th>\n",
       "      <th>count_rech_2g_9</th>\n",
       "      <th>count_rech_3g_6</th>\n",
       "      <th>count_rech_3g_7</th>\n",
       "      <th>count_rech_3g_8</th>\n",
       "      <th>count_rech_3g_9</th>\n",
       "      <th>max_rech_data_6</th>\n",
       "      <th>max_rech_data_7</th>\n",
       "      <th>max_rech_data_8</th>\n",
       "      <th>max_rech_data_9</th>\n",
       "      <th>av_rech_amt_data_6</th>\n",
       "      <th>av_rech_amt_data_7</th>\n",
       "      <th>av_rech_amt_data_8</th>\n",
       "      <th>av_rech_amt_data_9</th>\n",
       "    </tr>\n",
       "  </thead>\n",
       "  <tbody>\n",
       "    <tr>\n",
       "      <th>count</th>\n",
       "      <td>25153.000000</td>\n",
       "      <td>25571.000000</td>\n",
       "      <td>26339.000000</td>\n",
       "      <td>25922.000000</td>\n",
       "      <td>25153.000000</td>\n",
       "      <td>25571.000000</td>\n",
       "      <td>26339.000000</td>\n",
       "      <td>25922.000000</td>\n",
       "      <td>25153.000000</td>\n",
       "      <td>25571.000000</td>\n",
       "      <td>26339.000000</td>\n",
       "      <td>25922.000000</td>\n",
       "      <td>25153.000000</td>\n",
       "      <td>25571.000000</td>\n",
       "      <td>26339.000000</td>\n",
       "      <td>25922.00000</td>\n",
       "      <td>25153.000000</td>\n",
       "      <td>25571.000000</td>\n",
       "      <td>26339.000000</td>\n",
       "      <td>25922.000000</td>\n",
       "    </tr>\n",
       "    <tr>\n",
       "      <th>mean</th>\n",
       "      <td>2.463802</td>\n",
       "      <td>2.666419</td>\n",
       "      <td>2.651999</td>\n",
       "      <td>2.441170</td>\n",
       "      <td>1.864668</td>\n",
       "      <td>2.044699</td>\n",
       "      <td>2.016288</td>\n",
       "      <td>1.781807</td>\n",
       "      <td>0.599133</td>\n",
       "      <td>0.621720</td>\n",
       "      <td>0.635711</td>\n",
       "      <td>0.659363</td>\n",
       "      <td>126.393392</td>\n",
       "      <td>126.729459</td>\n",
       "      <td>125.717301</td>\n",
       "      <td>124.94144</td>\n",
       "      <td>192.600982</td>\n",
       "      <td>200.981292</td>\n",
       "      <td>197.526489</td>\n",
       "      <td>192.734315</td>\n",
       "    </tr>\n",
       "    <tr>\n",
       "      <th>std</th>\n",
       "      <td>2.789128</td>\n",
       "      <td>3.031593</td>\n",
       "      <td>3.074987</td>\n",
       "      <td>2.516339</td>\n",
       "      <td>2.570254</td>\n",
       "      <td>2.768332</td>\n",
       "      <td>2.720132</td>\n",
       "      <td>2.214701</td>\n",
       "      <td>1.274428</td>\n",
       "      <td>1.394524</td>\n",
       "      <td>1.422827</td>\n",
       "      <td>1.411513</td>\n",
       "      <td>108.477235</td>\n",
       "      <td>109.765267</td>\n",
       "      <td>109.437851</td>\n",
       "      <td>111.36376</td>\n",
       "      <td>192.646318</td>\n",
       "      <td>196.791224</td>\n",
       "      <td>191.301305</td>\n",
       "      <td>188.400286</td>\n",
       "    </tr>\n",
       "    <tr>\n",
       "      <th>min</th>\n",
       "      <td>1.000000</td>\n",
       "      <td>1.000000</td>\n",
       "      <td>1.000000</td>\n",
       "      <td>1.000000</td>\n",
       "      <td>0.000000</td>\n",
       "      <td>0.000000</td>\n",
       "      <td>0.000000</td>\n",
       "      <td>0.000000</td>\n",
       "      <td>0.000000</td>\n",
       "      <td>0.000000</td>\n",
       "      <td>0.000000</td>\n",
       "      <td>0.000000</td>\n",
       "      <td>1.000000</td>\n",
       "      <td>1.000000</td>\n",
       "      <td>1.000000</td>\n",
       "      <td>1.00000</td>\n",
       "      <td>1.000000</td>\n",
       "      <td>0.500000</td>\n",
       "      <td>0.500000</td>\n",
       "      <td>1.000000</td>\n",
       "    </tr>\n",
       "    <tr>\n",
       "      <th>25%</th>\n",
       "      <td>1.000000</td>\n",
       "      <td>1.000000</td>\n",
       "      <td>1.000000</td>\n",
       "      <td>1.000000</td>\n",
       "      <td>1.000000</td>\n",
       "      <td>1.000000</td>\n",
       "      <td>1.000000</td>\n",
       "      <td>1.000000</td>\n",
       "      <td>0.000000</td>\n",
       "      <td>0.000000</td>\n",
       "      <td>0.000000</td>\n",
       "      <td>0.000000</td>\n",
       "      <td>25.000000</td>\n",
       "      <td>25.000000</td>\n",
       "      <td>25.000000</td>\n",
       "      <td>25.00000</td>\n",
       "      <td>82.000000</td>\n",
       "      <td>92.000000</td>\n",
       "      <td>87.000000</td>\n",
       "      <td>69.000000</td>\n",
       "    </tr>\n",
       "    <tr>\n",
       "      <th>50%</th>\n",
       "      <td>1.000000</td>\n",
       "      <td>1.000000</td>\n",
       "      <td>1.000000</td>\n",
       "      <td>2.000000</td>\n",
       "      <td>1.000000</td>\n",
       "      <td>1.000000</td>\n",
       "      <td>1.000000</td>\n",
       "      <td>1.000000</td>\n",
       "      <td>0.000000</td>\n",
       "      <td>0.000000</td>\n",
       "      <td>0.000000</td>\n",
       "      <td>0.000000</td>\n",
       "      <td>145.000000</td>\n",
       "      <td>145.000000</td>\n",
       "      <td>145.000000</td>\n",
       "      <td>145.00000</td>\n",
       "      <td>154.000000</td>\n",
       "      <td>154.000000</td>\n",
       "      <td>154.000000</td>\n",
       "      <td>164.000000</td>\n",
       "    </tr>\n",
       "    <tr>\n",
       "      <th>75%</th>\n",
       "      <td>3.000000</td>\n",
       "      <td>3.000000</td>\n",
       "      <td>3.000000</td>\n",
       "      <td>3.000000</td>\n",
       "      <td>2.000000</td>\n",
       "      <td>2.000000</td>\n",
       "      <td>2.000000</td>\n",
       "      <td>2.000000</td>\n",
       "      <td>1.000000</td>\n",
       "      <td>1.000000</td>\n",
       "      <td>1.000000</td>\n",
       "      <td>1.000000</td>\n",
       "      <td>177.000000</td>\n",
       "      <td>177.000000</td>\n",
       "      <td>179.000000</td>\n",
       "      <td>179.00000</td>\n",
       "      <td>252.000000</td>\n",
       "      <td>252.000000</td>\n",
       "      <td>252.000000</td>\n",
       "      <td>252.000000</td>\n",
       "    </tr>\n",
       "    <tr>\n",
       "      <th>max</th>\n",
       "      <td>61.000000</td>\n",
       "      <td>54.000000</td>\n",
       "      <td>60.000000</td>\n",
       "      <td>84.000000</td>\n",
       "      <td>42.000000</td>\n",
       "      <td>48.000000</td>\n",
       "      <td>44.000000</td>\n",
       "      <td>40.000000</td>\n",
       "      <td>29.000000</td>\n",
       "      <td>35.000000</td>\n",
       "      <td>45.000000</td>\n",
       "      <td>49.000000</td>\n",
       "      <td>1555.000000</td>\n",
       "      <td>1555.000000</td>\n",
       "      <td>1555.000000</td>\n",
       "      <td>1555.00000</td>\n",
       "      <td>7546.000000</td>\n",
       "      <td>4365.000000</td>\n",
       "      <td>4076.000000</td>\n",
       "      <td>4061.000000</td>\n",
       "    </tr>\n",
       "  </tbody>\n",
       "</table>\n",
       "</div>"
      ],
      "text/plain": [
       "       total_rech_data_6  total_rech_data_7  total_rech_data_8  \\\n",
       "count       25153.000000       25571.000000       26339.000000   \n",
       "mean            2.463802           2.666419           2.651999   \n",
       "std             2.789128           3.031593           3.074987   \n",
       "min             1.000000           1.000000           1.000000   \n",
       "25%             1.000000           1.000000           1.000000   \n",
       "50%             1.000000           1.000000           1.000000   \n",
       "75%             3.000000           3.000000           3.000000   \n",
       "max            61.000000          54.000000          60.000000   \n",
       "\n",
       "       total_rech_data_9  count_rech_2g_6  count_rech_2g_7  count_rech_2g_8  \\\n",
       "count       25922.000000     25153.000000     25571.000000     26339.000000   \n",
       "mean            2.441170         1.864668         2.044699         2.016288   \n",
       "std             2.516339         2.570254         2.768332         2.720132   \n",
       "min             1.000000         0.000000         0.000000         0.000000   \n",
       "25%             1.000000         1.000000         1.000000         1.000000   \n",
       "50%             2.000000         1.000000         1.000000         1.000000   \n",
       "75%             3.000000         2.000000         2.000000         2.000000   \n",
       "max            84.000000        42.000000        48.000000        44.000000   \n",
       "\n",
       "       count_rech_2g_9  count_rech_3g_6  count_rech_3g_7  count_rech_3g_8  \\\n",
       "count     25922.000000     25153.000000     25571.000000     26339.000000   \n",
       "mean          1.781807         0.599133         0.621720         0.635711   \n",
       "std           2.214701         1.274428         1.394524         1.422827   \n",
       "min           0.000000         0.000000         0.000000         0.000000   \n",
       "25%           1.000000         0.000000         0.000000         0.000000   \n",
       "50%           1.000000         0.000000         0.000000         0.000000   \n",
       "75%           2.000000         1.000000         1.000000         1.000000   \n",
       "max          40.000000        29.000000        35.000000        45.000000   \n",
       "\n",
       "       count_rech_3g_9  max_rech_data_6  max_rech_data_7  max_rech_data_8  \\\n",
       "count     25922.000000     25153.000000     25571.000000     26339.000000   \n",
       "mean          0.659363       126.393392       126.729459       125.717301   \n",
       "std           1.411513       108.477235       109.765267       109.437851   \n",
       "min           0.000000         1.000000         1.000000         1.000000   \n",
       "25%           0.000000        25.000000        25.000000        25.000000   \n",
       "50%           0.000000       145.000000       145.000000       145.000000   \n",
       "75%           1.000000       177.000000       177.000000       179.000000   \n",
       "max          49.000000      1555.000000      1555.000000      1555.000000   \n",
       "\n",
       "       max_rech_data_9  av_rech_amt_data_6  av_rech_amt_data_7  \\\n",
       "count      25922.00000        25153.000000        25571.000000   \n",
       "mean         124.94144          192.600982          200.981292   \n",
       "std          111.36376          192.646318          196.791224   \n",
       "min            1.00000            1.000000            0.500000   \n",
       "25%           25.00000           82.000000           92.000000   \n",
       "50%          145.00000          154.000000          154.000000   \n",
       "75%          179.00000          252.000000          252.000000   \n",
       "max         1555.00000         7546.000000         4365.000000   \n",
       "\n",
       "       av_rech_amt_data_8  av_rech_amt_data_9  \n",
       "count        26339.000000        25922.000000  \n",
       "mean           197.526489          192.734315  \n",
       "std            191.301305          188.400286  \n",
       "min              0.500000            1.000000  \n",
       "25%             87.000000           69.000000  \n",
       "50%            154.000000          164.000000  \n",
       "75%            252.000000          252.000000  \n",
       "max           4076.000000         4061.000000  "
      ]
     },
     "execution_count": 77,
     "metadata": {},
     "output_type": "execute_result"
    }
   ],
   "source": [
    "# 1 is the min value for recharge column\n",
    "recharge_cols = ['total_rech_data_6', 'total_rech_data_7', 'total_rech_data_8', 'total_rech_data_9',\n",
    "                 'count_rech_2g_6', 'count_rech_2g_7', 'count_rech_2g_8', 'count_rech_2g_9',\n",
    "                 'count_rech_3g_6', 'count_rech_3g_7', 'count_rech_3g_8', 'count_rech_3g_9',\n",
    "                 'max_rech_data_6', 'max_rech_data_7', 'max_rech_data_8', 'max_rech_data_9',\n",
    "                 'av_rech_amt_data_6', 'av_rech_amt_data_7', 'av_rech_amt_data_8', 'av_rech_amt_data_9',\n",
    "                 ]\n",
    "\n",
    "tc_data[recharge_cols].describe(include='all')"
   ]
  },
  {
   "cell_type": "code",
   "execution_count": null,
   "metadata": {},
   "outputs": [],
   "source": []
  },
  {
   "cell_type": "code",
   "execution_count": 16,
   "metadata": {},
   "outputs": [],
   "source": [
    "# we observe from above that there are 3 set of values for\n",
    "\n",
    "#total recharge amount,\n",
    "#maximum recharge amount and\n",
    "#average recharge amount for data.\n",
    "#total recharge for data\n",
    "#maximum recharge for data"
   ]
  },
  {
   "cell_type": "code",
   "execution_count": 78,
   "metadata": {},
   "outputs": [
    {
     "data": {
      "text/html": [
       "<div>\n",
       "<style scoped>\n",
       "    .dataframe tbody tr th:only-of-type {\n",
       "        vertical-align: middle;\n",
       "    }\n",
       "\n",
       "    .dataframe tbody tr th {\n",
       "        vertical-align: top;\n",
       "    }\n",
       "\n",
       "    .dataframe thead th {\n",
       "        text-align: right;\n",
       "    }\n",
       "</style>\n",
       "<table border=\"1\" class=\"dataframe\">\n",
       "  <thead>\n",
       "    <tr style=\"text-align: right;\">\n",
       "      <th></th>\n",
       "      <th>total_rech_data_7</th>\n",
       "      <th>date_of_last_rech_data_7</th>\n",
       "    </tr>\n",
       "  </thead>\n",
       "  <tbody>\n",
       "    <tr>\n",
       "      <th>2</th>\n",
       "      <td>NaN</td>\n",
       "      <td>NaN</td>\n",
       "    </tr>\n",
       "    <tr>\n",
       "      <th>3</th>\n",
       "      <td>NaN</td>\n",
       "      <td>NaN</td>\n",
       "    </tr>\n",
       "    <tr>\n",
       "      <th>4</th>\n",
       "      <td>NaN</td>\n",
       "      <td>NaN</td>\n",
       "    </tr>\n",
       "    <tr>\n",
       "      <th>5</th>\n",
       "      <td>NaN</td>\n",
       "      <td>NaN</td>\n",
       "    </tr>\n",
       "    <tr>\n",
       "      <th>6</th>\n",
       "      <td>NaN</td>\n",
       "      <td>NaN</td>\n",
       "    </tr>\n",
       "    <tr>\n",
       "      <th>7</th>\n",
       "      <td>NaN</td>\n",
       "      <td>NaN</td>\n",
       "    </tr>\n",
       "    <tr>\n",
       "      <th>10</th>\n",
       "      <td>NaN</td>\n",
       "      <td>NaN</td>\n",
       "    </tr>\n",
       "    <tr>\n",
       "      <th>11</th>\n",
       "      <td>NaN</td>\n",
       "      <td>NaN</td>\n",
       "    </tr>\n",
       "    <tr>\n",
       "      <th>12</th>\n",
       "      <td>NaN</td>\n",
       "      <td>NaN</td>\n",
       "    </tr>\n",
       "    <tr>\n",
       "      <th>13</th>\n",
       "      <td>NaN</td>\n",
       "      <td>NaN</td>\n",
       "    </tr>\n",
       "  </tbody>\n",
       "</table>\n",
       "</div>"
      ],
      "text/plain": [
       "    total_rech_data_7 date_of_last_rech_data_7\n",
       "2                 NaN                      NaN\n",
       "3                 NaN                      NaN\n",
       "4                 NaN                      NaN\n",
       "5                 NaN                      NaN\n",
       "6                 NaN                      NaN\n",
       "7                 NaN                      NaN\n",
       "10                NaN                      NaN\n",
       "11                NaN                      NaN\n",
       "12                NaN                      NaN\n",
       "13                NaN                      NaN"
      ]
     },
     "execution_count": 78,
     "metadata": {},
     "output_type": "execute_result"
    }
   ],
   "source": [
    "# recharge date and the recharge value are missing because customer didn't recharge \n",
    "  \n",
    "tc_data.loc[tc_data.total_rech_data_7.isnull() & tc_data.date_of_last_rech_data_7.isnull(),\\\n",
    "          [\"total_rech_data_7\", \"date_of_last_rech_data_7\"]].head(10)"
   ]
  },
  {
   "cell_type": "code",
   "execution_count": 79,
   "metadata": {},
   "outputs": [],
   "source": [
    "#Let's impute 0 in recharge columns as cuustomer didn't recharge\n",
    "zero_impute_rch = ['total_rech_data_6', 'total_rech_data_7', 'total_rech_data_8', 'total_rech_data_9',\n",
    "        'av_rech_amt_data_6', 'av_rech_amt_data_7', 'av_rech_amt_data_8', 'av_rech_amt_data_9',\n",
    "        'max_rech_data_6', 'max_rech_data_7', 'max_rech_data_8', 'max_rech_data_9'\n",
    "       ]"
   ]
  },
  {
   "cell_type": "code",
   "execution_count": 80,
   "metadata": {},
   "outputs": [],
   "source": [
    "# Now impute missing values with 0\n",
    "tc_data[zero_impute_rch] = tc_data[zero_impute_rch].apply(lambda x: x.fillna(0))"
   ]
  },
  {
   "cell_type": "code",
   "execution_count": 81,
   "metadata": {},
   "outputs": [
    {
     "name": "stdout",
     "output_type": "stream",
     "text": [
      "total_rech_data_6     0.0\n",
      "total_rech_data_7     0.0\n",
      "total_rech_data_8     0.0\n",
      "total_rech_data_9     0.0\n",
      "av_rech_amt_data_6    0.0\n",
      "av_rech_amt_data_7    0.0\n",
      "av_rech_amt_data_8    0.0\n",
      "av_rech_amt_data_9    0.0\n",
      "max_rech_data_6       0.0\n",
      "max_rech_data_7       0.0\n",
      "max_rech_data_8       0.0\n",
      "max_rech_data_9       0.0\n",
      "dtype: float64\n"
     ]
    }
   ],
   "source": [
    "print(tc_data[zero_impute_rch].isnull().sum()*100/tc_data.shape[1])"
   ]
  },
  {
   "cell_type": "code",
   "execution_count": 82,
   "metadata": {},
   "outputs": [
    {
     "data": {
      "text/plain": [
       "mobile_number       99999\n",
       "arpu_6              85681\n",
       "arpu_7              85308\n",
       "arpu_8              83615\n",
       "arpu_9              79937\n",
       "                    ...  \n",
       "std_og_t2c_mou_9        1\n",
       "std_ic_t2o_mou_7        1\n",
       "std_ic_t2o_mou_9        1\n",
       "std_ic_t2o_mou_8        1\n",
       "std_ic_t2o_mou_6        1\n",
       "Length: 226, dtype: int64"
      ]
     },
     "execution_count": 82,
     "metadata": {},
     "output_type": "execute_result"
    }
   ],
   "source": [
    "#  checking unique values in each column\n",
    "tc_data.nunique().sort_values(ascending=False)"
   ]
  },
  {
   "cell_type": "code",
   "execution_count": null,
   "metadata": {},
   "outputs": [],
   "source": []
  },
  {
   "cell_type": "code",
   "execution_count": 83,
   "metadata": {},
   "outputs": [
    {
     "data": {
      "text/plain": [
       "(99999, 226)"
      ]
     },
     "execution_count": 83,
     "metadata": {},
     "output_type": "execute_result"
    }
   ],
   "source": [
    "# Dropping the id_cols and date_cols\n",
    "tc_data = tc_data.drop(id_cols + date_cols, axis=1)\n",
    "df.shape"
   ]
  },
  {
   "cell_type": "code",
   "execution_count": 84,
   "metadata": {},
   "outputs": [],
   "source": [
    "# replace missing values with '-1' in categorical columns\n",
    "tc_data[cat_cols] = tc_data[cat_cols].apply(lambda x: x.fillna(-1))"
   ]
  },
  {
   "cell_type": "code",
   "execution_count": 85,
   "metadata": {},
   "outputs": [
    {
     "name": "stdout",
     "output_type": "stream",
     "text": [
      "night_pck_user_6    0.0\n",
      "night_pck_user_7    0.0\n",
      "night_pck_user_8    0.0\n",
      "night_pck_user_9    0.0\n",
      "fb_user_6           0.0\n",
      "fb_user_7           0.0\n",
      "fb_user_8           0.0\n",
      "fb_user_9           0.0\n",
      "dtype: float64\n"
     ]
    }
   ],
   "source": [
    "# check data once again\n",
    "\n",
    "print(tc_data[cat_cols].isnull().sum()*100/tc_data.shape[0])"
   ]
  },
  {
   "cell_type": "code",
   "execution_count": 87,
   "metadata": {},
   "outputs": [
    {
     "data": {
      "text/html": [
       "<div>\n",
       "<style scoped>\n",
       "    .dataframe tbody tr th:only-of-type {\n",
       "        vertical-align: middle;\n",
       "    }\n",
       "\n",
       "    .dataframe tbody tr th {\n",
       "        vertical-align: top;\n",
       "    }\n",
       "\n",
       "    .dataframe thead th {\n",
       "        text-align: right;\n",
       "    }\n",
       "</style>\n",
       "<table border=\"1\" class=\"dataframe\">\n",
       "  <thead>\n",
       "    <tr style=\"text-align: right;\">\n",
       "      <th></th>\n",
       "      <th>features</th>\n",
       "      <th>include</th>\n",
       "    </tr>\n",
       "  </thead>\n",
       "  <tbody>\n",
       "    <tr>\n",
       "      <th>0</th>\n",
       "      <td>loc_og_t2o_mou</td>\n",
       "      <td>True</td>\n",
       "    </tr>\n",
       "    <tr>\n",
       "      <th>1</th>\n",
       "      <td>std_og_t2o_mou</td>\n",
       "      <td>True</td>\n",
       "    </tr>\n",
       "    <tr>\n",
       "      <th>2</th>\n",
       "      <td>loc_ic_t2o_mou</td>\n",
       "      <td>True</td>\n",
       "    </tr>\n",
       "    <tr>\n",
       "      <th>3</th>\n",
       "      <td>arpu_6</td>\n",
       "      <td>True</td>\n",
       "    </tr>\n",
       "    <tr>\n",
       "      <th>4</th>\n",
       "      <td>arpu_7</td>\n",
       "      <td>True</td>\n",
       "    </tr>\n",
       "    <tr>\n",
       "      <th>...</th>\n",
       "      <td>...</td>\n",
       "      <td>...</td>\n",
       "    </tr>\n",
       "    <tr>\n",
       "      <th>207</th>\n",
       "      <td>aon</td>\n",
       "      <td>True</td>\n",
       "    </tr>\n",
       "    <tr>\n",
       "      <th>208</th>\n",
       "      <td>aug_vbc_3g</td>\n",
       "      <td>True</td>\n",
       "    </tr>\n",
       "    <tr>\n",
       "      <th>209</th>\n",
       "      <td>jul_vbc_3g</td>\n",
       "      <td>True</td>\n",
       "    </tr>\n",
       "    <tr>\n",
       "      <th>210</th>\n",
       "      <td>jun_vbc_3g</td>\n",
       "      <td>True</td>\n",
       "    </tr>\n",
       "    <tr>\n",
       "      <th>211</th>\n",
       "      <td>sep_vbc_3g</td>\n",
       "      <td>True</td>\n",
       "    </tr>\n",
       "  </tbody>\n",
       "</table>\n",
       "<p>196 rows × 2 columns</p>\n",
       "</div>"
      ],
      "text/plain": [
       "           features  include\n",
       "0    loc_og_t2o_mou     True\n",
       "1    std_og_t2o_mou     True\n",
       "2    loc_ic_t2o_mou     True\n",
       "3            arpu_6     True\n",
       "4            arpu_7     True\n",
       "..              ...      ...\n",
       "207             aon     True\n",
       "208      aug_vbc_3g     True\n",
       "209      jul_vbc_3g     True\n",
       "210      jun_vbc_3g     True\n",
       "211      sep_vbc_3g     True\n",
       "\n",
       "[196 rows x 2 columns]"
      ]
     },
     "execution_count": 87,
     "metadata": {},
     "output_type": "execute_result"
    }
   ],
   "source": [
    "#Drop variables with more than a 70% of missing values\n",
    "\n",
    "initial_cols = tc_data.shape[1]\n",
    "\n",
    "MISSING_THRESHOLD = 0.7\n",
    "\n",
    "include_cols = list(tc_data.apply(lambda column: True if column.isnull().sum()/tc_data.shape[0] < MISSING_THRESHOLD else False))\n",
    "\n",
    "drop_missing = pd.DataFrame({'features':tc_data.columns , 'include': include_cols})\n",
    "drop_missing.loc[drop_missing.include == True,:]\n"
   ]
  },
  {
   "cell_type": "code",
   "execution_count": null,
   "metadata": {},
   "outputs": [],
   "source": []
  },
  {
   "cell_type": "code",
   "execution_count": 88,
   "metadata": {},
   "outputs": [
    {
     "name": "stdout",
     "output_type": "stream",
     "text": [
      "-16 columns dropped.\n"
     ]
    }
   ],
   "source": [
    "# drop columns\n",
    "tc_data = tc_data.loc[:, include_cols]\n",
    "\n",
    "dropped_cols = tc_data.shape[1] - initial_cols\n",
    "print(\"{0} columns dropped.\".format(dropped_cols))"
   ]
  },
  {
   "cell_type": "code",
   "execution_count": 89,
   "metadata": {},
   "outputs": [],
   "source": [
    "# imputing the respective null columns as 0. \n",
    "tc_data[tc_data.select_dtypes(exclude=['datetime64[ns]','category']).columns.tolist()] = tc_data[tc_data.select_dtypes(exclude=['datetime64[ns]','category']).columns.tolist()].fillna(0, axis=1)"
   ]
  },
  {
   "cell_type": "code",
   "execution_count": 90,
   "metadata": {},
   "outputs": [
    {
     "data": {
      "text/plain": [
       "Index(['total_rech_amt_6', 'total_rech_amt_7', 'total_rech_amt_8',\n",
       "       'total_rech_amt_9', 'max_rech_amt_6', 'max_rech_amt_7',\n",
       "       'max_rech_amt_8', 'max_rech_amt_9', 'total_rech_data_6',\n",
       "       'total_rech_data_7', 'total_rech_data_8', 'total_rech_data_9',\n",
       "       'max_rech_data_6', 'max_rech_data_7', 'max_rech_data_8',\n",
       "       'max_rech_data_9', 'av_rech_amt_data_6', 'av_rech_amt_data_7',\n",
       "       'av_rech_amt_data_8', 'av_rech_amt_data_9'],\n",
       "      dtype='object')"
      ]
     },
     "execution_count": 90,
     "metadata": {},
     "output_type": "execute_result"
    }
   ],
   "source": [
    "# Filter high-value customers by Observing recharge columns\n",
    "rch_df=tc_data.columns[tc_data.columns.str.contains('rech_amt|rech_data')]\n",
    "rch_df"
   ]
  },
  {
   "cell_type": "code",
   "execution_count": 91,
   "metadata": {},
   "outputs": [
    {
     "data": {
      "text/plain": [
       "total_rech_amt_6      0.0\n",
       "total_rech_amt_7      0.0\n",
       "total_rech_amt_8      0.0\n",
       "total_rech_amt_9      0.0\n",
       "max_rech_amt_6        0.0\n",
       "max_rech_amt_7        0.0\n",
       "max_rech_amt_8        0.0\n",
       "max_rech_amt_9        0.0\n",
       "total_rech_data_6     0.0\n",
       "total_rech_data_7     0.0\n",
       "total_rech_data_8     0.0\n",
       "total_rech_data_9     0.0\n",
       "max_rech_data_6       0.0\n",
       "max_rech_data_7       0.0\n",
       "max_rech_data_8       0.0\n",
       "max_rech_data_9       0.0\n",
       "av_rech_amt_data_6    0.0\n",
       "av_rech_amt_data_7    0.0\n",
       "av_rech_amt_data_8    0.0\n",
       "av_rech_amt_data_9    0.0\n",
       "dtype: float64"
      ]
     },
     "execution_count": 91,
     "metadata": {},
     "output_type": "execute_result"
    }
   ],
   "source": [
    "# checking for missing/null values in recharge columns\n",
    "100*tc_data.loc[:,rch_df].isnull().sum()/len(tc_data)"
   ]
  },
  {
   "cell_type": "code",
   "execution_count": null,
   "metadata": {},
   "outputs": [],
   "source": [
    "#no missing values "
   ]
  },
  {
   "cell_type": "code",
   "execution_count": 92,
   "metadata": {},
   "outputs": [
    {
     "data": {
      "text/html": [
       "<div>\n",
       "<style scoped>\n",
       "    .dataframe tbody tr th:only-of-type {\n",
       "        vertical-align: middle;\n",
       "    }\n",
       "\n",
       "    .dataframe tbody tr th {\n",
       "        vertical-align: top;\n",
       "    }\n",
       "\n",
       "    .dataframe thead th {\n",
       "        text-align: right;\n",
       "    }\n",
       "</style>\n",
       "<table border=\"1\" class=\"dataframe\">\n",
       "  <thead>\n",
       "    <tr style=\"text-align: right;\">\n",
       "      <th></th>\n",
       "      <th>total_rech_amt_6</th>\n",
       "      <th>total_rech_amt_7</th>\n",
       "      <th>total_rech_amt_8</th>\n",
       "      <th>total_rech_amt_9</th>\n",
       "      <th>max_rech_amt_6</th>\n",
       "      <th>max_rech_amt_7</th>\n",
       "      <th>max_rech_amt_8</th>\n",
       "      <th>max_rech_amt_9</th>\n",
       "      <th>total_rech_data_6</th>\n",
       "      <th>total_rech_data_7</th>\n",
       "      <th>total_rech_data_8</th>\n",
       "      <th>total_rech_data_9</th>\n",
       "      <th>max_rech_data_6</th>\n",
       "      <th>max_rech_data_7</th>\n",
       "      <th>max_rech_data_8</th>\n",
       "      <th>max_rech_data_9</th>\n",
       "      <th>av_rech_amt_data_6</th>\n",
       "      <th>av_rech_amt_data_7</th>\n",
       "      <th>av_rech_amt_data_8</th>\n",
       "      <th>av_rech_amt_data_9</th>\n",
       "    </tr>\n",
       "  </thead>\n",
       "  <tbody>\n",
       "    <tr>\n",
       "      <th>count</th>\n",
       "      <td>99999.000000</td>\n",
       "      <td>99999.000000</td>\n",
       "      <td>99999.000000</td>\n",
       "      <td>99999.000000</td>\n",
       "      <td>99999.000000</td>\n",
       "      <td>99999.000000</td>\n",
       "      <td>99999.000000</td>\n",
       "      <td>99999.000000</td>\n",
       "      <td>99999.000000</td>\n",
       "      <td>99999.000000</td>\n",
       "      <td>99999.000000</td>\n",
       "      <td>99999.000000</td>\n",
       "      <td>99999.000000</td>\n",
       "      <td>99999.000000</td>\n",
       "      <td>99999.000000</td>\n",
       "      <td>99999.000000</td>\n",
       "      <td>99999.000000</td>\n",
       "      <td>99999.000000</td>\n",
       "      <td>99999.000000</td>\n",
       "      <td>99999.000000</td>\n",
       "    </tr>\n",
       "    <tr>\n",
       "      <th>mean</th>\n",
       "      <td>327.514615</td>\n",
       "      <td>322.962970</td>\n",
       "      <td>324.157122</td>\n",
       "      <td>303.345673</td>\n",
       "      <td>104.637486</td>\n",
       "      <td>104.752398</td>\n",
       "      <td>107.728207</td>\n",
       "      <td>101.943889</td>\n",
       "      <td>0.619726</td>\n",
       "      <td>0.681837</td>\n",
       "      <td>0.698517</td>\n",
       "      <td>0.632806</td>\n",
       "      <td>31.792048</td>\n",
       "      <td>32.406314</td>\n",
       "      <td>33.113011</td>\n",
       "      <td>32.387644</td>\n",
       "      <td>48.445409</td>\n",
       "      <td>51.393440</td>\n",
       "      <td>52.027022</td>\n",
       "      <td>49.961089</td>\n",
       "    </tr>\n",
       "    <tr>\n",
       "      <th>std</th>\n",
       "      <td>398.019701</td>\n",
       "      <td>408.114237</td>\n",
       "      <td>416.540455</td>\n",
       "      <td>404.588583</td>\n",
       "      <td>120.614894</td>\n",
       "      <td>124.523970</td>\n",
       "      <td>126.902505</td>\n",
       "      <td>125.375109</td>\n",
       "      <td>1.760541</td>\n",
       "      <td>1.924382</td>\n",
       "      <td>1.963417</td>\n",
       "      <td>1.669040</td>\n",
       "      <td>77.248778</td>\n",
       "      <td>78.342435</td>\n",
       "      <td>78.872739</td>\n",
       "      <td>78.818696</td>\n",
       "      <td>127.743863</td>\n",
       "      <td>132.629365</td>\n",
       "      <td>131.182609</td>\n",
       "      <td>127.804280</td>\n",
       "    </tr>\n",
       "    <tr>\n",
       "      <th>min</th>\n",
       "      <td>0.000000</td>\n",
       "      <td>0.000000</td>\n",
       "      <td>0.000000</td>\n",
       "      <td>0.000000</td>\n",
       "      <td>0.000000</td>\n",
       "      <td>0.000000</td>\n",
       "      <td>0.000000</td>\n",
       "      <td>0.000000</td>\n",
       "      <td>0.000000</td>\n",
       "      <td>0.000000</td>\n",
       "      <td>0.000000</td>\n",
       "      <td>0.000000</td>\n",
       "      <td>0.000000</td>\n",
       "      <td>0.000000</td>\n",
       "      <td>0.000000</td>\n",
       "      <td>0.000000</td>\n",
       "      <td>0.000000</td>\n",
       "      <td>0.000000</td>\n",
       "      <td>0.000000</td>\n",
       "      <td>0.000000</td>\n",
       "    </tr>\n",
       "    <tr>\n",
       "      <th>25%</th>\n",
       "      <td>109.000000</td>\n",
       "      <td>100.000000</td>\n",
       "      <td>90.000000</td>\n",
       "      <td>52.000000</td>\n",
       "      <td>30.000000</td>\n",
       "      <td>30.000000</td>\n",
       "      <td>30.000000</td>\n",
       "      <td>28.000000</td>\n",
       "      <td>0.000000</td>\n",
       "      <td>0.000000</td>\n",
       "      <td>0.000000</td>\n",
       "      <td>0.000000</td>\n",
       "      <td>0.000000</td>\n",
       "      <td>0.000000</td>\n",
       "      <td>0.000000</td>\n",
       "      <td>0.000000</td>\n",
       "      <td>0.000000</td>\n",
       "      <td>0.000000</td>\n",
       "      <td>0.000000</td>\n",
       "      <td>0.000000</td>\n",
       "    </tr>\n",
       "    <tr>\n",
       "      <th>50%</th>\n",
       "      <td>230.000000</td>\n",
       "      <td>220.000000</td>\n",
       "      <td>225.000000</td>\n",
       "      <td>200.000000</td>\n",
       "      <td>110.000000</td>\n",
       "      <td>110.000000</td>\n",
       "      <td>98.000000</td>\n",
       "      <td>61.000000</td>\n",
       "      <td>0.000000</td>\n",
       "      <td>0.000000</td>\n",
       "      <td>0.000000</td>\n",
       "      <td>0.000000</td>\n",
       "      <td>0.000000</td>\n",
       "      <td>0.000000</td>\n",
       "      <td>0.000000</td>\n",
       "      <td>0.000000</td>\n",
       "      <td>0.000000</td>\n",
       "      <td>0.000000</td>\n",
       "      <td>0.000000</td>\n",
       "      <td>0.000000</td>\n",
       "    </tr>\n",
       "    <tr>\n",
       "      <th>75%</th>\n",
       "      <td>437.500000</td>\n",
       "      <td>428.000000</td>\n",
       "      <td>434.500000</td>\n",
       "      <td>415.000000</td>\n",
       "      <td>120.000000</td>\n",
       "      <td>128.000000</td>\n",
       "      <td>144.000000</td>\n",
       "      <td>144.000000</td>\n",
       "      <td>1.000000</td>\n",
       "      <td>1.000000</td>\n",
       "      <td>1.000000</td>\n",
       "      <td>1.000000</td>\n",
       "      <td>8.000000</td>\n",
       "      <td>14.000000</td>\n",
       "      <td>17.000000</td>\n",
       "      <td>17.000000</td>\n",
       "      <td>8.250000</td>\n",
       "      <td>17.000000</td>\n",
       "      <td>23.000000</td>\n",
       "      <td>17.000000</td>\n",
       "    </tr>\n",
       "    <tr>\n",
       "      <th>max</th>\n",
       "      <td>35190.000000</td>\n",
       "      <td>40335.000000</td>\n",
       "      <td>45320.000000</td>\n",
       "      <td>37235.000000</td>\n",
       "      <td>4010.000000</td>\n",
       "      <td>4010.000000</td>\n",
       "      <td>4449.000000</td>\n",
       "      <td>3399.000000</td>\n",
       "      <td>61.000000</td>\n",
       "      <td>54.000000</td>\n",
       "      <td>60.000000</td>\n",
       "      <td>84.000000</td>\n",
       "      <td>1555.000000</td>\n",
       "      <td>1555.000000</td>\n",
       "      <td>1555.000000</td>\n",
       "      <td>1555.000000</td>\n",
       "      <td>7546.000000</td>\n",
       "      <td>4365.000000</td>\n",
       "      <td>4076.000000</td>\n",
       "      <td>4061.000000</td>\n",
       "    </tr>\n",
       "  </tbody>\n",
       "</table>\n",
       "</div>"
      ],
      "text/plain": [
       "       total_rech_amt_6  total_rech_amt_7  total_rech_amt_8  total_rech_amt_9  \\\n",
       "count      99999.000000      99999.000000      99999.000000      99999.000000   \n",
       "mean         327.514615        322.962970        324.157122        303.345673   \n",
       "std          398.019701        408.114237        416.540455        404.588583   \n",
       "min            0.000000          0.000000          0.000000          0.000000   \n",
       "25%          109.000000        100.000000         90.000000         52.000000   \n",
       "50%          230.000000        220.000000        225.000000        200.000000   \n",
       "75%          437.500000        428.000000        434.500000        415.000000   \n",
       "max        35190.000000      40335.000000      45320.000000      37235.000000   \n",
       "\n",
       "       max_rech_amt_6  max_rech_amt_7  max_rech_amt_8  max_rech_amt_9  \\\n",
       "count    99999.000000    99999.000000    99999.000000    99999.000000   \n",
       "mean       104.637486      104.752398      107.728207      101.943889   \n",
       "std        120.614894      124.523970      126.902505      125.375109   \n",
       "min          0.000000        0.000000        0.000000        0.000000   \n",
       "25%         30.000000       30.000000       30.000000       28.000000   \n",
       "50%        110.000000      110.000000       98.000000       61.000000   \n",
       "75%        120.000000      128.000000      144.000000      144.000000   \n",
       "max       4010.000000     4010.000000     4449.000000     3399.000000   \n",
       "\n",
       "       total_rech_data_6  total_rech_data_7  total_rech_data_8  \\\n",
       "count       99999.000000       99999.000000       99999.000000   \n",
       "mean            0.619726           0.681837           0.698517   \n",
       "std             1.760541           1.924382           1.963417   \n",
       "min             0.000000           0.000000           0.000000   \n",
       "25%             0.000000           0.000000           0.000000   \n",
       "50%             0.000000           0.000000           0.000000   \n",
       "75%             1.000000           1.000000           1.000000   \n",
       "max            61.000000          54.000000          60.000000   \n",
       "\n",
       "       total_rech_data_9  max_rech_data_6  max_rech_data_7  max_rech_data_8  \\\n",
       "count       99999.000000     99999.000000     99999.000000     99999.000000   \n",
       "mean            0.632806        31.792048        32.406314        33.113011   \n",
       "std             1.669040        77.248778        78.342435        78.872739   \n",
       "min             0.000000         0.000000         0.000000         0.000000   \n",
       "25%             0.000000         0.000000         0.000000         0.000000   \n",
       "50%             0.000000         0.000000         0.000000         0.000000   \n",
       "75%             1.000000         8.000000        14.000000        17.000000   \n",
       "max            84.000000      1555.000000      1555.000000      1555.000000   \n",
       "\n",
       "       max_rech_data_9  av_rech_amt_data_6  av_rech_amt_data_7  \\\n",
       "count     99999.000000        99999.000000        99999.000000   \n",
       "mean         32.387644           48.445409           51.393440   \n",
       "std          78.818696          127.743863          132.629365   \n",
       "min           0.000000            0.000000            0.000000   \n",
       "25%           0.000000            0.000000            0.000000   \n",
       "50%           0.000000            0.000000            0.000000   \n",
       "75%          17.000000            8.250000           17.000000   \n",
       "max        1555.000000         7546.000000         4365.000000   \n",
       "\n",
       "       av_rech_amt_data_8  av_rech_amt_data_9  \n",
       "count        99999.000000        99999.000000  \n",
       "mean            52.027022           49.961089  \n",
       "std            131.182609          127.804280  \n",
       "min              0.000000            0.000000  \n",
       "25%              0.000000            0.000000  \n",
       "50%              0.000000            0.000000  \n",
       "75%             23.000000           17.000000  \n",
       "max           4076.000000         4061.000000  "
      ]
     },
     "execution_count": 92,
     "metadata": {},
     "output_type": "execute_result"
    }
   ],
   "source": [
    "tc_data.loc[:,rch_df].describe()"
   ]
  },
  {
   "cell_type": "code",
   "execution_count": 94,
   "metadata": {},
   "outputs": [
    {
     "data": {
      "text/html": [
       "<div>\n",
       "<style scoped>\n",
       "    .dataframe tbody tr th:only-of-type {\n",
       "        vertical-align: middle;\n",
       "    }\n",
       "\n",
       "    .dataframe tbody tr th {\n",
       "        vertical-align: top;\n",
       "    }\n",
       "\n",
       "    .dataframe thead th {\n",
       "        text-align: right;\n",
       "    }\n",
       "</style>\n",
       "<table border=\"1\" class=\"dataframe\">\n",
       "  <thead>\n",
       "    <tr style=\"text-align: right;\">\n",
       "      <th></th>\n",
       "      <th>total_rech_amt_6</th>\n",
       "      <th>total_rech_amt_7</th>\n",
       "      <th>total_rech_amt_8</th>\n",
       "      <th>total_rech_amt_9</th>\n",
       "      <th>max_rech_amt_6</th>\n",
       "      <th>max_rech_amt_7</th>\n",
       "      <th>max_rech_amt_8</th>\n",
       "      <th>max_rech_amt_9</th>\n",
       "      <th>total_rech_data_6</th>\n",
       "      <th>total_rech_data_7</th>\n",
       "      <th>total_rech_data_8</th>\n",
       "      <th>total_rech_data_9</th>\n",
       "      <th>max_rech_data_6</th>\n",
       "      <th>max_rech_data_7</th>\n",
       "      <th>max_rech_data_8</th>\n",
       "      <th>max_rech_data_9</th>\n",
       "      <th>av_rech_amt_data_6</th>\n",
       "      <th>av_rech_amt_data_7</th>\n",
       "      <th>av_rech_amt_data_8</th>\n",
       "      <th>av_rech_amt_data_9</th>\n",
       "    </tr>\n",
       "  </thead>\n",
       "  <tbody>\n",
       "    <tr>\n",
       "      <th>0</th>\n",
       "      <td>362.0</td>\n",
       "      <td>252.0</td>\n",
       "      <td>252.0</td>\n",
       "      <td>0.0</td>\n",
       "      <td>252.0</td>\n",
       "      <td>252.0</td>\n",
       "      <td>252.0</td>\n",
       "      <td>0.0</td>\n",
       "      <td>1.0</td>\n",
       "      <td>1.0</td>\n",
       "      <td>1.0</td>\n",
       "      <td>0.0</td>\n",
       "      <td>252.0</td>\n",
       "      <td>252.0</td>\n",
       "      <td>252.0</td>\n",
       "      <td>0.0</td>\n",
       "      <td>252.0</td>\n",
       "      <td>252.0</td>\n",
       "      <td>252.0</td>\n",
       "      <td>0.0</td>\n",
       "    </tr>\n",
       "    <tr>\n",
       "      <th>1</th>\n",
       "      <td>74.0</td>\n",
       "      <td>384.0</td>\n",
       "      <td>283.0</td>\n",
       "      <td>121.0</td>\n",
       "      <td>44.0</td>\n",
       "      <td>154.0</td>\n",
       "      <td>65.0</td>\n",
       "      <td>50.0</td>\n",
       "      <td>0.0</td>\n",
       "      <td>1.0</td>\n",
       "      <td>2.0</td>\n",
       "      <td>0.0</td>\n",
       "      <td>0.0</td>\n",
       "      <td>154.0</td>\n",
       "      <td>25.0</td>\n",
       "      <td>0.0</td>\n",
       "      <td>0.0</td>\n",
       "      <td>154.0</td>\n",
       "      <td>50.0</td>\n",
       "      <td>0.0</td>\n",
       "    </tr>\n",
       "    <tr>\n",
       "      <th>2</th>\n",
       "      <td>168.0</td>\n",
       "      <td>315.0</td>\n",
       "      <td>116.0</td>\n",
       "      <td>358.0</td>\n",
       "      <td>86.0</td>\n",
       "      <td>200.0</td>\n",
       "      <td>86.0</td>\n",
       "      <td>100.0</td>\n",
       "      <td>0.0</td>\n",
       "      <td>0.0</td>\n",
       "      <td>0.0</td>\n",
       "      <td>1.0</td>\n",
       "      <td>0.0</td>\n",
       "      <td>0.0</td>\n",
       "      <td>0.0</td>\n",
       "      <td>46.0</td>\n",
       "      <td>0.0</td>\n",
       "      <td>0.0</td>\n",
       "      <td>0.0</td>\n",
       "      <td>46.0</td>\n",
       "    </tr>\n",
       "    <tr>\n",
       "      <th>3</th>\n",
       "      <td>230.0</td>\n",
       "      <td>310.0</td>\n",
       "      <td>601.0</td>\n",
       "      <td>410.0</td>\n",
       "      <td>60.0</td>\n",
       "      <td>50.0</td>\n",
       "      <td>50.0</td>\n",
       "      <td>50.0</td>\n",
       "      <td>0.0</td>\n",
       "      <td>0.0</td>\n",
       "      <td>0.0</td>\n",
       "      <td>0.0</td>\n",
       "      <td>0.0</td>\n",
       "      <td>0.0</td>\n",
       "      <td>0.0</td>\n",
       "      <td>0.0</td>\n",
       "      <td>0.0</td>\n",
       "      <td>0.0</td>\n",
       "      <td>0.0</td>\n",
       "      <td>0.0</td>\n",
       "    </tr>\n",
       "    <tr>\n",
       "      <th>4</th>\n",
       "      <td>196.0</td>\n",
       "      <td>350.0</td>\n",
       "      <td>287.0</td>\n",
       "      <td>200.0</td>\n",
       "      <td>56.0</td>\n",
       "      <td>110.0</td>\n",
       "      <td>110.0</td>\n",
       "      <td>50.0</td>\n",
       "      <td>1.0</td>\n",
       "      <td>0.0</td>\n",
       "      <td>0.0</td>\n",
       "      <td>0.0</td>\n",
       "      <td>56.0</td>\n",
       "      <td>0.0</td>\n",
       "      <td>0.0</td>\n",
       "      <td>0.0</td>\n",
       "      <td>56.0</td>\n",
       "      <td>0.0</td>\n",
       "      <td>0.0</td>\n",
       "      <td>0.0</td>\n",
       "    </tr>\n",
       "  </tbody>\n",
       "</table>\n",
       "</div>"
      ],
      "text/plain": [
       "   total_rech_amt_6  total_rech_amt_7  total_rech_amt_8  total_rech_amt_9  \\\n",
       "0             362.0             252.0             252.0               0.0   \n",
       "1              74.0             384.0             283.0             121.0   \n",
       "2             168.0             315.0             116.0             358.0   \n",
       "3             230.0             310.0             601.0             410.0   \n",
       "4             196.0             350.0             287.0             200.0   \n",
       "\n",
       "   max_rech_amt_6  max_rech_amt_7  max_rech_amt_8  max_rech_amt_9  \\\n",
       "0           252.0           252.0           252.0             0.0   \n",
       "1            44.0           154.0            65.0            50.0   \n",
       "2            86.0           200.0            86.0           100.0   \n",
       "3            60.0            50.0            50.0            50.0   \n",
       "4            56.0           110.0           110.0            50.0   \n",
       "\n",
       "   total_rech_data_6  total_rech_data_7  total_rech_data_8  total_rech_data_9  \\\n",
       "0                1.0                1.0                1.0                0.0   \n",
       "1                0.0                1.0                2.0                0.0   \n",
       "2                0.0                0.0                0.0                1.0   \n",
       "3                0.0                0.0                0.0                0.0   \n",
       "4                1.0                0.0                0.0                0.0   \n",
       "\n",
       "   max_rech_data_6  max_rech_data_7  max_rech_data_8  max_rech_data_9  \\\n",
       "0            252.0            252.0            252.0              0.0   \n",
       "1              0.0            154.0             25.0              0.0   \n",
       "2              0.0              0.0              0.0             46.0   \n",
       "3              0.0              0.0              0.0              0.0   \n",
       "4             56.0              0.0              0.0              0.0   \n",
       "\n",
       "   av_rech_amt_data_6  av_rech_amt_data_7  av_rech_amt_data_8  \\\n",
       "0               252.0               252.0               252.0   \n",
       "1                 0.0               154.0                50.0   \n",
       "2                 0.0                 0.0                 0.0   \n",
       "3                 0.0                 0.0                 0.0   \n",
       "4                56.0                 0.0                 0.0   \n",
       "\n",
       "   av_rech_amt_data_9  \n",
       "0                 0.0  \n",
       "1                 0.0  \n",
       "2                46.0  \n",
       "3                 0.0  \n",
       "4                 0.0  "
      ]
     },
     "execution_count": 94,
     "metadata": {},
     "output_type": "execute_result"
    }
   ],
   "source": [
    "tc_data.loc[:,rch_df].head()"
   ]
  },
  {
   "cell_type": "code",
   "execution_count": 95,
   "metadata": {},
   "outputs": [
    {
     "data": {
      "text/html": [
       "<div>\n",
       "<style scoped>\n",
       "    .dataframe tbody tr th:only-of-type {\n",
       "        vertical-align: middle;\n",
       "    }\n",
       "\n",
       "    .dataframe tbody tr th {\n",
       "        vertical-align: top;\n",
       "    }\n",
       "\n",
       "    .dataframe thead th {\n",
       "        text-align: right;\n",
       "    }\n",
       "</style>\n",
       "<table border=\"1\" class=\"dataframe\">\n",
       "  <thead>\n",
       "    <tr style=\"text-align: right;\">\n",
       "      <th></th>\n",
       "      <th>total_rech_amt_6</th>\n",
       "      <th>max_rech_amt_6</th>\n",
       "      <th>total_rech_data_6</th>\n",
       "      <th>max_rech_data_6</th>\n",
       "      <th>av_rech_amt_data_6</th>\n",
       "    </tr>\n",
       "  </thead>\n",
       "  <tbody>\n",
       "    <tr>\n",
       "      <th>0</th>\n",
       "      <td>362.0</td>\n",
       "      <td>252.0</td>\n",
       "      <td>1.0</td>\n",
       "      <td>252.0</td>\n",
       "      <td>252.0</td>\n",
       "    </tr>\n",
       "    <tr>\n",
       "      <th>1</th>\n",
       "      <td>74.0</td>\n",
       "      <td>44.0</td>\n",
       "      <td>0.0</td>\n",
       "      <td>0.0</td>\n",
       "      <td>0.0</td>\n",
       "    </tr>\n",
       "    <tr>\n",
       "      <th>2</th>\n",
       "      <td>168.0</td>\n",
       "      <td>86.0</td>\n",
       "      <td>0.0</td>\n",
       "      <td>0.0</td>\n",
       "      <td>0.0</td>\n",
       "    </tr>\n",
       "    <tr>\n",
       "      <th>3</th>\n",
       "      <td>230.0</td>\n",
       "      <td>60.0</td>\n",
       "      <td>0.0</td>\n",
       "      <td>0.0</td>\n",
       "      <td>0.0</td>\n",
       "    </tr>\n",
       "    <tr>\n",
       "      <th>4</th>\n",
       "      <td>196.0</td>\n",
       "      <td>56.0</td>\n",
       "      <td>1.0</td>\n",
       "      <td>56.0</td>\n",
       "      <td>56.0</td>\n",
       "    </tr>\n",
       "    <tr>\n",
       "      <th>5</th>\n",
       "      <td>120.0</td>\n",
       "      <td>120.0</td>\n",
       "      <td>0.0</td>\n",
       "      <td>0.0</td>\n",
       "      <td>0.0</td>\n",
       "    </tr>\n",
       "    <tr>\n",
       "      <th>6</th>\n",
       "      <td>499.0</td>\n",
       "      <td>90.0</td>\n",
       "      <td>0.0</td>\n",
       "      <td>0.0</td>\n",
       "      <td>0.0</td>\n",
       "    </tr>\n",
       "    <tr>\n",
       "      <th>7</th>\n",
       "      <td>1580.0</td>\n",
       "      <td>1580.0</td>\n",
       "      <td>0.0</td>\n",
       "      <td>0.0</td>\n",
       "      <td>0.0</td>\n",
       "    </tr>\n",
       "    <tr>\n",
       "      <th>8</th>\n",
       "      <td>437.0</td>\n",
       "      <td>90.0</td>\n",
       "      <td>0.0</td>\n",
       "      <td>0.0</td>\n",
       "      <td>0.0</td>\n",
       "    </tr>\n",
       "    <tr>\n",
       "      <th>9</th>\n",
       "      <td>220.0</td>\n",
       "      <td>110.0</td>\n",
       "      <td>0.0</td>\n",
       "      <td>0.0</td>\n",
       "      <td>0.0</td>\n",
       "    </tr>\n",
       "  </tbody>\n",
       "</table>\n",
       "</div>"
      ],
      "text/plain": [
       "   total_rech_amt_6  max_rech_amt_6  total_rech_data_6  max_rech_data_6  \\\n",
       "0             362.0           252.0                1.0            252.0   \n",
       "1              74.0            44.0                0.0              0.0   \n",
       "2             168.0            86.0                0.0              0.0   \n",
       "3             230.0            60.0                0.0              0.0   \n",
       "4             196.0            56.0                1.0             56.0   \n",
       "5             120.0           120.0                0.0              0.0   \n",
       "6             499.0            90.0                0.0              0.0   \n",
       "7            1580.0          1580.0                0.0              0.0   \n",
       "8             437.0            90.0                0.0              0.0   \n",
       "9             220.0           110.0                0.0              0.0   \n",
       "\n",
       "   av_rech_amt_data_6  \n",
       "0               252.0  \n",
       "1                 0.0  \n",
       "2                 0.0  \n",
       "3                 0.0  \n",
       "4                56.0  \n",
       "5                 0.0  \n",
       "6                 0.0  \n",
       "7                 0.0  \n",
       "8                 0.0  \n",
       "9                 0.0  "
      ]
     },
     "execution_count": 95,
     "metadata": {},
     "output_type": "execute_result"
    }
   ],
   "source": [
    "# checking values for june month only\n",
    "rch_df_6=tc_data.columns[tc_data.columns.str.contains('rech_amt_6|rech_data_6|rech_amt_data_6')]\n",
    "tc_data.loc[:,rch_df_6].head(10)"
   ]
  },
  {
   "cell_type": "code",
   "execution_count": 97,
   "metadata": {},
   "outputs": [],
   "source": [
    "# let's add a new derived variable total recharge amount for data: total_rech_amt_data\n",
    "tc_data['total_data_rech_6'] = tc_data.total_rech_data_6 * tc_data.av_rech_amt_data_6\n",
    "tc_data['total_data_rech_7'] = tc_data.total_rech_data_7 * tc_data.av_rech_amt_data_7"
   ]
  },
  {
   "cell_type": "code",
   "execution_count": 98,
   "metadata": {},
   "outputs": [
    {
     "data": {
      "text/plain": [
       "False"
      ]
     },
     "execution_count": 98,
     "metadata": {},
     "output_type": "execute_result"
    }
   ],
   "source": [
    "any(df.total_rech_amt_6.isna())"
   ]
  },
  {
   "cell_type": "code",
   "execution_count": 99,
   "metadata": {},
   "outputs": [
    {
     "data": {
      "text/plain": [
       "False"
      ]
     },
     "execution_count": 99,
     "metadata": {},
     "output_type": "execute_result"
    }
   ],
   "source": [
    "any(df.total_rech_amt_7.isna())"
   ]
  },
  {
   "cell_type": "code",
   "execution_count": 100,
   "metadata": {},
   "outputs": [],
   "source": [
    "# Total recharge amount for June and July \n",
    "tc_data['amt_data_6'] = tc_data.total_rech_amt_6 + df.total_data_rech_6\n",
    "tc_data['amt_data_7'] = tc_data.total_rech_amt_7 + df.total_data_rech_7"
   ]
  },
  {
   "cell_type": "code",
   "execution_count": 101,
   "metadata": {},
   "outputs": [],
   "source": [
    "# average recharge done by customer in June and July\n",
    "tc_data['av_amt_data_6_7'] = (tc_data.amt_data_6 + tc_data.amt_data_7)/2"
   ]
  },
  {
   "cell_type": "code",
   "execution_count": 102,
   "metadata": {},
   "outputs": [
    {
     "data": {
      "text/html": [
       "<div>\n",
       "<style scoped>\n",
       "    .dataframe tbody tr th:only-of-type {\n",
       "        vertical-align: middle;\n",
       "    }\n",
       "\n",
       "    .dataframe tbody tr th {\n",
       "        vertical-align: top;\n",
       "    }\n",
       "\n",
       "    .dataframe thead th {\n",
       "        text-align: right;\n",
       "    }\n",
       "</style>\n",
       "<table border=\"1\" class=\"dataframe\">\n",
       "  <thead>\n",
       "    <tr style=\"text-align: right;\">\n",
       "      <th></th>\n",
       "      <th>loc_og_t2o_mou</th>\n",
       "      <th>std_og_t2o_mou</th>\n",
       "      <th>loc_ic_t2o_mou</th>\n",
       "      <th>arpu_6</th>\n",
       "      <th>arpu_7</th>\n",
       "      <th>arpu_8</th>\n",
       "      <th>arpu_9</th>\n",
       "      <th>onnet_mou_6</th>\n",
       "      <th>onnet_mou_7</th>\n",
       "      <th>onnet_mou_8</th>\n",
       "      <th>...</th>\n",
       "      <th>aon</th>\n",
       "      <th>aug_vbc_3g</th>\n",
       "      <th>jul_vbc_3g</th>\n",
       "      <th>jun_vbc_3g</th>\n",
       "      <th>sep_vbc_3g</th>\n",
       "      <th>total_data_rech_6</th>\n",
       "      <th>total_data_rech_7</th>\n",
       "      <th>amt_data_6</th>\n",
       "      <th>amt_data_7</th>\n",
       "      <th>av_amt_data_6_7</th>\n",
       "    </tr>\n",
       "  </thead>\n",
       "  <tbody>\n",
       "    <tr>\n",
       "      <th>0</th>\n",
       "      <td>0.0</td>\n",
       "      <td>0.0</td>\n",
       "      <td>0.0</td>\n",
       "      <td>197.385</td>\n",
       "      <td>214.816</td>\n",
       "      <td>213.803</td>\n",
       "      <td>21.100</td>\n",
       "      <td>0.00</td>\n",
       "      <td>0.00</td>\n",
       "      <td>0.00</td>\n",
       "      <td>...</td>\n",
       "      <td>968.0</td>\n",
       "      <td>30.4</td>\n",
       "      <td>0.0</td>\n",
       "      <td>101.20</td>\n",
       "      <td>3.58</td>\n",
       "      <td>252.0</td>\n",
       "      <td>252.0</td>\n",
       "      <td>614.0</td>\n",
       "      <td>504.0</td>\n",
       "      <td>559.0</td>\n",
       "    </tr>\n",
       "    <tr>\n",
       "      <th>1</th>\n",
       "      <td>0.0</td>\n",
       "      <td>0.0</td>\n",
       "      <td>0.0</td>\n",
       "      <td>34.047</td>\n",
       "      <td>355.074</td>\n",
       "      <td>268.321</td>\n",
       "      <td>86.285</td>\n",
       "      <td>24.11</td>\n",
       "      <td>78.68</td>\n",
       "      <td>7.68</td>\n",
       "      <td>...</td>\n",
       "      <td>1006.0</td>\n",
       "      <td>0.0</td>\n",
       "      <td>0.0</td>\n",
       "      <td>0.00</td>\n",
       "      <td>0.00</td>\n",
       "      <td>0.0</td>\n",
       "      <td>154.0</td>\n",
       "      <td>NaN</td>\n",
       "      <td>538.0</td>\n",
       "      <td>NaN</td>\n",
       "    </tr>\n",
       "    <tr>\n",
       "      <th>2</th>\n",
       "      <td>0.0</td>\n",
       "      <td>0.0</td>\n",
       "      <td>0.0</td>\n",
       "      <td>167.690</td>\n",
       "      <td>189.058</td>\n",
       "      <td>210.226</td>\n",
       "      <td>290.714</td>\n",
       "      <td>11.54</td>\n",
       "      <td>55.24</td>\n",
       "      <td>37.26</td>\n",
       "      <td>...</td>\n",
       "      <td>1103.0</td>\n",
       "      <td>0.0</td>\n",
       "      <td>0.0</td>\n",
       "      <td>4.17</td>\n",
       "      <td>0.00</td>\n",
       "      <td>0.0</td>\n",
       "      <td>0.0</td>\n",
       "      <td>NaN</td>\n",
       "      <td>NaN</td>\n",
       "      <td>NaN</td>\n",
       "    </tr>\n",
       "    <tr>\n",
       "      <th>3</th>\n",
       "      <td>0.0</td>\n",
       "      <td>0.0</td>\n",
       "      <td>0.0</td>\n",
       "      <td>221.338</td>\n",
       "      <td>251.102</td>\n",
       "      <td>508.054</td>\n",
       "      <td>389.500</td>\n",
       "      <td>99.91</td>\n",
       "      <td>54.39</td>\n",
       "      <td>310.98</td>\n",
       "      <td>...</td>\n",
       "      <td>2491.0</td>\n",
       "      <td>0.0</td>\n",
       "      <td>0.0</td>\n",
       "      <td>0.00</td>\n",
       "      <td>0.00</td>\n",
       "      <td>0.0</td>\n",
       "      <td>0.0</td>\n",
       "      <td>NaN</td>\n",
       "      <td>NaN</td>\n",
       "      <td>NaN</td>\n",
       "    </tr>\n",
       "    <tr>\n",
       "      <th>4</th>\n",
       "      <td>0.0</td>\n",
       "      <td>0.0</td>\n",
       "      <td>0.0</td>\n",
       "      <td>261.636</td>\n",
       "      <td>309.876</td>\n",
       "      <td>238.174</td>\n",
       "      <td>163.426</td>\n",
       "      <td>50.31</td>\n",
       "      <td>149.44</td>\n",
       "      <td>83.89</td>\n",
       "      <td>...</td>\n",
       "      <td>1526.0</td>\n",
       "      <td>0.0</td>\n",
       "      <td>0.0</td>\n",
       "      <td>0.00</td>\n",
       "      <td>0.00</td>\n",
       "      <td>56.0</td>\n",
       "      <td>0.0</td>\n",
       "      <td>252.0</td>\n",
       "      <td>NaN</td>\n",
       "      <td>NaN</td>\n",
       "    </tr>\n",
       "  </tbody>\n",
       "</table>\n",
       "<p>5 rows × 201 columns</p>\n",
       "</div>"
      ],
      "text/plain": [
       "   loc_og_t2o_mou  std_og_t2o_mou  loc_ic_t2o_mou   arpu_6   arpu_7   arpu_8  \\\n",
       "0             0.0             0.0             0.0  197.385  214.816  213.803   \n",
       "1             0.0             0.0             0.0   34.047  355.074  268.321   \n",
       "2             0.0             0.0             0.0  167.690  189.058  210.226   \n",
       "3             0.0             0.0             0.0  221.338  251.102  508.054   \n",
       "4             0.0             0.0             0.0  261.636  309.876  238.174   \n",
       "\n",
       "    arpu_9  onnet_mou_6  onnet_mou_7  onnet_mou_8  ...     aon  aug_vbc_3g  \\\n",
       "0   21.100         0.00         0.00         0.00  ...   968.0        30.4   \n",
       "1   86.285        24.11        78.68         7.68  ...  1006.0         0.0   \n",
       "2  290.714        11.54        55.24        37.26  ...  1103.0         0.0   \n",
       "3  389.500        99.91        54.39       310.98  ...  2491.0         0.0   \n",
       "4  163.426        50.31       149.44        83.89  ...  1526.0         0.0   \n",
       "\n",
       "   jul_vbc_3g  jun_vbc_3g  sep_vbc_3g  total_data_rech_6  total_data_rech_7  \\\n",
       "0         0.0      101.20        3.58              252.0              252.0   \n",
       "1         0.0        0.00        0.00                0.0              154.0   \n",
       "2         0.0        4.17        0.00                0.0                0.0   \n",
       "3         0.0        0.00        0.00                0.0                0.0   \n",
       "4         0.0        0.00        0.00               56.0                0.0   \n",
       "\n",
       "   amt_data_6  amt_data_7  av_amt_data_6_7  \n",
       "0       614.0       504.0            559.0  \n",
       "1         NaN       538.0              NaN  \n",
       "2         NaN         NaN              NaN  \n",
       "3         NaN         NaN              NaN  \n",
       "4       252.0         NaN              NaN  \n",
       "\n",
       "[5 rows x 201 columns]"
      ]
     },
     "execution_count": 102,
     "metadata": {},
     "output_type": "execute_result"
    }
   ],
   "source": [
    "tc_data.head()"
   ]
  },
  {
   "cell_type": "code",
   "execution_count": 108,
   "metadata": {},
   "outputs": [
    {
     "data": {
      "text/html": [
       "<div>\n",
       "<style scoped>\n",
       "    .dataframe tbody tr th:only-of-type {\n",
       "        vertical-align: middle;\n",
       "    }\n",
       "\n",
       "    .dataframe tbody tr th {\n",
       "        vertical-align: top;\n",
       "    }\n",
       "\n",
       "    .dataframe thead th {\n",
       "        text-align: right;\n",
       "    }\n",
       "</style>\n",
       "<table border=\"1\" class=\"dataframe\">\n",
       "  <thead>\n",
       "    <tr style=\"text-align: right;\">\n",
       "      <th></th>\n",
       "      <th>av_amt_data_6_7</th>\n",
       "      <th>total_data_rech_6</th>\n",
       "      <th>total_data_rech_7</th>\n",
       "      <th>amt_data_6</th>\n",
       "      <th>amt_data_7</th>\n",
       "    </tr>\n",
       "  </thead>\n",
       "  <tbody>\n",
       "    <tr>\n",
       "      <th>0</th>\n",
       "      <td>559.0</td>\n",
       "      <td>252.0</td>\n",
       "      <td>252.0</td>\n",
       "      <td>614.0</td>\n",
       "      <td>504.0</td>\n",
       "    </tr>\n",
       "    <tr>\n",
       "      <th>1</th>\n",
       "      <td>NaN</td>\n",
       "      <td>0.0</td>\n",
       "      <td>154.0</td>\n",
       "      <td>NaN</td>\n",
       "      <td>538.0</td>\n",
       "    </tr>\n",
       "    <tr>\n",
       "      <th>2</th>\n",
       "      <td>NaN</td>\n",
       "      <td>0.0</td>\n",
       "      <td>0.0</td>\n",
       "      <td>NaN</td>\n",
       "      <td>NaN</td>\n",
       "    </tr>\n",
       "    <tr>\n",
       "      <th>3</th>\n",
       "      <td>NaN</td>\n",
       "      <td>0.0</td>\n",
       "      <td>0.0</td>\n",
       "      <td>NaN</td>\n",
       "      <td>NaN</td>\n",
       "    </tr>\n",
       "    <tr>\n",
       "      <th>4</th>\n",
       "      <td>NaN</td>\n",
       "      <td>56.0</td>\n",
       "      <td>0.0</td>\n",
       "      <td>252.0</td>\n",
       "      <td>NaN</td>\n",
       "    </tr>\n",
       "  </tbody>\n",
       "</table>\n",
       "</div>"
      ],
      "text/plain": [
       "   av_amt_data_6_7  total_data_rech_6  total_data_rech_7  amt_data_6  \\\n",
       "0            559.0              252.0              252.0       614.0   \n",
       "1              NaN                0.0              154.0         NaN   \n",
       "2              NaN                0.0                0.0         NaN   \n",
       "3              NaN                0.0                0.0         NaN   \n",
       "4              NaN               56.0                0.0       252.0   \n",
       "\n",
       "   amt_data_7  \n",
       "0       504.0  \n",
       "1       538.0  \n",
       "2         NaN  \n",
       "3         NaN  \n",
       "4         NaN  "
      ]
     },
     "execution_count": 108,
     "metadata": {},
     "output_type": "execute_result"
    }
   ],
   "source": [
    "tc_data[['av_amt_data_6_7', 'total_data_rech_6', 'total_data_rech_7', 'amt_data_6', 'amt_data_7']].head()"
   ]
  },
  {
   "cell_type": "code",
   "execution_count": 46,
   "metadata": {},
   "outputs": [],
   "source": [
    "## High Value customers - those customers who recharged for more than equal to 'a', \n",
    "## where a is 70th perce percentile of the average recharge amount in the first two months (the good phase)\n",
    "#Filter high-value customers\n"
   ]
  },
  {
   "cell_type": "code",
   "execution_count": 104,
   "metadata": {},
   "outputs": [
    {
     "name": "stdout",
     "output_type": "stream",
     "text": [
      "Recharge amount at 70th percentile: 1212.0\n"
     ]
    }
   ],
   "source": [
    "# 70th percentile recharge amount\n",
    "print(\"Recharge amount at 70th percentile: {0}\".format(tc_data.av_amt_data_6_7.quantile(0.7)))"
   ]
  },
  {
   "cell_type": "code",
   "execution_count": 106,
   "metadata": {},
   "outputs": [
    {
     "data": {
      "text/plain": [
       "(5572, 201)"
      ]
     },
     "execution_count": 106,
     "metadata": {},
     "output_type": "execute_result"
    }
   ],
   "source": [
    "# Extracting High value customers where total average recharge amount for good phase > 70th percentile\n",
    "high_val_cust = tc_data.loc[tc_data.av_amt_data_6_7 > tc_data.av_amt_data_6_7.quantile(0.7), :]\n",
    "high_val_cust = high_val_cust.reset_index(drop=True)\n",
    "high_val_cust.shape"
   ]
  },
  {
   "cell_type": "code",
   "execution_count": 109,
   "metadata": {},
   "outputs": [
    {
     "name": "stdout",
     "output_type": "stream",
     "text": [
      "Number of rows before filtering the high value customers = 99999\n"
     ]
    }
   ],
   "source": [
    "print(\"Number of rows before filtering the high value customers =\", len(df))"
   ]
  },
  {
   "cell_type": "code",
   "execution_count": 110,
   "metadata": {},
   "outputs": [
    {
     "name": "stdout",
     "output_type": "stream",
     "text": [
      "Number of rows after filtering the high value customers = 5572\n"
     ]
    }
   ],
   "source": [
    "print(\"Number of rows after filtering the high value customers =\", len(high_val_cust))"
   ]
  },
  {
   "cell_type": "code",
   "execution_count": 111,
   "metadata": {},
   "outputs": [
    {
     "data": {
      "text/plain": [
       "(5572, 196)"
      ]
     },
     "execution_count": 111,
     "metadata": {},
     "output_type": "execute_result"
    }
   ],
   "source": [
    "# delete variables created to filter high-value customers\n",
    "high_val_cust = high_val_cust.drop(['total_data_rech_6', 'total_data_rech_7',\n",
    "                                      'amt_data_6', 'amt_data_7', 'av_amt_data_6_7'], axis=1)\n",
    "high_val_cust.shape"
   ]
  },
  {
   "cell_type": "code",
   "execution_count": 112,
   "metadata": {},
   "outputs": [
    {
     "name": "stdout",
     "output_type": "stream",
     "text": [
      "<class 'pandas.core.frame.DataFrame'>\n",
      "RangeIndex: 5572 entries, 0 to 5571\n",
      "Columns: 196 entries, loc_og_t2o_mou to sep_vbc_3g\n",
      "dtypes: float64(196)\n",
      "memory usage: 8.3 MB\n"
     ]
    }
   ],
   "source": [
    "high_val_cust.info()"
   ]
  },
  {
   "cell_type": "code",
   "execution_count": 53,
   "metadata": {},
   "outputs": [],
   "source": [
    "# Churn Derivation"
   ]
  },
  {
   "cell_type": "code",
   "execution_count": 113,
   "metadata": {},
   "outputs": [],
   "source": [
    "#  total incoming and outgoing minutes of usage\n",
    "high_val_cust['total_calls_mou_9'] = high_val_cust.total_ic_mou_9 + high_val_cust.total_og_mou_9"
   ]
  },
  {
   "cell_type": "code",
   "execution_count": 114,
   "metadata": {},
   "outputs": [],
   "source": [
    "#     2g and 3g data consumption\n",
    "high_val_cust['total_internet_mb_9'] =  high_val_cust.vol_2g_mb_9 + high_val_cust.vol_3g_mb_9"
   ]
  },
  {
   "cell_type": "code",
   "execution_count": 56,
   "metadata": {},
   "outputs": [],
   "source": [
    "\n",
    "#Now tag the churned customers (churn=1, else 0) based on the fourth month as follows: \n",
    "## Those who have not made any calls (either incoming or outgoing) AND have not used mobile internet even once in the churn phase.\n",
    "\n",
    "#The attributes you need to use to tag churners are:\n",
    "\n",
    "#total_ic_mou_9\n",
    "#total_og_mou_9\n",
    "#vol_2g_mb_9\n",
    "#vol_3g_mb_9"
   ]
  },
  {
   "cell_type": "code",
   "execution_count": 115,
   "metadata": {},
   "outputs": [],
   "source": [
    "# Those who have not used either calls or internet in  September are churned customers\n",
    "\n",
    "# Let's denote 0 as not churn and  1 as churn\n",
    "high_val_cust['churn'] = high_val_cust.apply(lambda row: 1 if (row.total_calls_mou_9 == 0 and row.total_internet_mb_9 == 0) else 0, axis=1)"
   ]
  },
  {
   "cell_type": "code",
   "execution_count": 58,
   "metadata": {},
   "outputs": [],
   "source": [
    "# cross checking if churn customers are tagged properly"
   ]
  },
  {
   "cell_type": "code",
   "execution_count": 116,
   "metadata": {},
   "outputs": [
    {
     "data": {
      "text/html": [
       "<div>\n",
       "<style scoped>\n",
       "    .dataframe tbody tr th:only-of-type {\n",
       "        vertical-align: middle;\n",
       "    }\n",
       "\n",
       "    .dataframe tbody tr th {\n",
       "        vertical-align: top;\n",
       "    }\n",
       "\n",
       "    .dataframe thead th {\n",
       "        text-align: right;\n",
       "    }\n",
       "</style>\n",
       "<table border=\"1\" class=\"dataframe\">\n",
       "  <thead>\n",
       "    <tr style=\"text-align: right;\">\n",
       "      <th></th>\n",
       "      <th>churn</th>\n",
       "      <th>total_ic_mou_9</th>\n",
       "      <th>total_og_mou_9</th>\n",
       "      <th>vol_2g_mb_9</th>\n",
       "      <th>vol_3g_mb_9</th>\n",
       "    </tr>\n",
       "  </thead>\n",
       "  <tbody>\n",
       "    <tr>\n",
       "      <th>0</th>\n",
       "      <td>0</td>\n",
       "      <td>114.16</td>\n",
       "      <td>1.70</td>\n",
       "      <td>30.92</td>\n",
       "      <td>5588.11</td>\n",
       "    </tr>\n",
       "    <tr>\n",
       "      <th>1</th>\n",
       "      <td>0</td>\n",
       "      <td>680.61</td>\n",
       "      <td>503.06</td>\n",
       "      <td>0.82</td>\n",
       "      <td>0.00</td>\n",
       "    </tr>\n",
       "    <tr>\n",
       "      <th>2</th>\n",
       "      <td>0</td>\n",
       "      <td>225.34</td>\n",
       "      <td>127.48</td>\n",
       "      <td>137.12</td>\n",
       "      <td>835.99</td>\n",
       "    </tr>\n",
       "    <tr>\n",
       "      <th>3</th>\n",
       "      <td>0</td>\n",
       "      <td>1047.41</td>\n",
       "      <td>326.29</td>\n",
       "      <td>22.05</td>\n",
       "      <td>4305.54</td>\n",
       "    </tr>\n",
       "    <tr>\n",
       "      <th>4</th>\n",
       "      <td>0</td>\n",
       "      <td>428.63</td>\n",
       "      <td>1252.48</td>\n",
       "      <td>14.59</td>\n",
       "      <td>135.70</td>\n",
       "    </tr>\n",
       "    <tr>\n",
       "      <th>...</th>\n",
       "      <td>...</td>\n",
       "      <td>...</td>\n",
       "      <td>...</td>\n",
       "      <td>...</td>\n",
       "      <td>...</td>\n",
       "    </tr>\n",
       "    <tr>\n",
       "      <th>5567</th>\n",
       "      <td>1</td>\n",
       "      <td>0.00</td>\n",
       "      <td>0.00</td>\n",
       "      <td>0.00</td>\n",
       "      <td>0.00</td>\n",
       "    </tr>\n",
       "    <tr>\n",
       "      <th>5568</th>\n",
       "      <td>0</td>\n",
       "      <td>189.38</td>\n",
       "      <td>2272.66</td>\n",
       "      <td>96.11</td>\n",
       "      <td>1708.91</td>\n",
       "    </tr>\n",
       "    <tr>\n",
       "      <th>5569</th>\n",
       "      <td>0</td>\n",
       "      <td>157.04</td>\n",
       "      <td>33.91</td>\n",
       "      <td>0.00</td>\n",
       "      <td>0.00</td>\n",
       "    </tr>\n",
       "    <tr>\n",
       "      <th>5570</th>\n",
       "      <td>0</td>\n",
       "      <td>135.29</td>\n",
       "      <td>1263.56</td>\n",
       "      <td>69.40</td>\n",
       "      <td>1777.24</td>\n",
       "    </tr>\n",
       "    <tr>\n",
       "      <th>5571</th>\n",
       "      <td>0</td>\n",
       "      <td>2.21</td>\n",
       "      <td>0.00</td>\n",
       "      <td>85.67</td>\n",
       "      <td>4177.14</td>\n",
       "    </tr>\n",
       "  </tbody>\n",
       "</table>\n",
       "<p>5572 rows × 5 columns</p>\n",
       "</div>"
      ],
      "text/plain": [
       "      churn  total_ic_mou_9  total_og_mou_9  vol_2g_mb_9  vol_3g_mb_9\n",
       "0         0          114.16            1.70        30.92      5588.11\n",
       "1         0          680.61          503.06         0.82         0.00\n",
       "2         0          225.34          127.48       137.12       835.99\n",
       "3         0         1047.41          326.29        22.05      4305.54\n",
       "4         0          428.63         1252.48        14.59       135.70\n",
       "...     ...             ...             ...          ...          ...\n",
       "5567      1            0.00            0.00         0.00         0.00\n",
       "5568      0          189.38         2272.66        96.11      1708.91\n",
       "5569      0          157.04           33.91         0.00         0.00\n",
       "5570      0          135.29         1263.56        69.40      1777.24\n",
       "5571      0            2.21            0.00        85.67      4177.14\n",
       "\n",
       "[5572 rows x 5 columns]"
      ]
     },
     "execution_count": 116,
     "metadata": {},
     "output_type": "execute_result"
    }
   ],
   "source": [
    "high_val_cust[['churn','total_ic_mou_9','total_og_mou_9','vol_2g_mb_9','vol_3g_mb_9']]"
   ]
  },
  {
   "cell_type": "code",
   "execution_count": 60,
   "metadata": {},
   "outputs": [],
   "source": [
    "#After defining the y variable by tagging churners delete the columns having _9 attribute in their name\n",
    "#After tagging churners, remove all the attributes corresponding to the churn phase\n",
    "#(all attributes having ‘ _9’, etc. in their names).\n",
    "#Get the list of columns which has name ends with _9 attribute"
   ]
  },
  {
   "cell_type": "code",
   "execution_count": 117,
   "metadata": {},
   "outputs": [
    {
     "name": "stdout",
     "output_type": "stream",
     "text": [
      "The columns names ends with _9 are given below...\n"
     ]
    },
    {
     "data": {
      "text/plain": [
       "Index(['arpu_9', 'onnet_mou_9', 'offnet_mou_9', 'roam_ic_mou_9',\n",
       "       'roam_og_mou_9', 'loc_og_t2t_mou_9', 'loc_og_t2m_mou_9',\n",
       "       'loc_og_t2f_mou_9', 'loc_og_t2c_mou_9', 'loc_og_mou_9',\n",
       "       'std_og_t2t_mou_9', 'std_og_t2m_mou_9', 'std_og_t2f_mou_9',\n",
       "       'std_og_t2c_mou_9', 'std_og_mou_9', 'isd_og_mou_9', 'spl_og_mou_9',\n",
       "       'og_others_9', 'total_og_mou_9', 'loc_ic_t2t_mou_9', 'loc_ic_t2m_mou_9',\n",
       "       'loc_ic_t2f_mou_9', 'loc_ic_mou_9', 'std_ic_t2t_mou_9',\n",
       "       'std_ic_t2m_mou_9', 'std_ic_t2f_mou_9', 'std_ic_t2o_mou_9',\n",
       "       'std_ic_mou_9', 'total_ic_mou_9', 'spl_ic_mou_9', 'isd_ic_mou_9',\n",
       "       'ic_others_9', 'total_rech_num_9', 'total_rech_amt_9', 'max_rech_amt_9',\n",
       "       'last_day_rch_amt_9', 'total_rech_data_9', 'max_rech_data_9',\n",
       "       'av_rech_amt_data_9', 'vol_2g_mb_9', 'vol_3g_mb_9', 'night_pck_user_9',\n",
       "       'monthly_2g_9', 'sachet_2g_9', 'monthly_3g_9', 'sachet_3g_9',\n",
       "       'fb_user_9', 'total_calls_mou_9', 'total_internet_mb_9'],\n",
       "      dtype='object')"
      ]
     },
     "execution_count": 117,
     "metadata": {},
     "output_type": "execute_result"
    }
   ],
   "source": [
    "# find the columns which has name ends with _9 attribute\n",
    "month_9_cols = high_val_cust.columns[high_val_cust.columns.str.endswith(pat = '_9')]\n",
    "print(\"The columns names ends with _9 are given below...\")\n",
    "month_9_cols"
   ]
  },
  {
   "cell_type": "code",
   "execution_count": 118,
   "metadata": {},
   "outputs": [],
   "source": [
    "# removing those columns\n",
    "high_val_cust = high_val_cust.drop(['total_calls_mou_9', 'total_internet_mb_9'], axis=1)"
   ]
  },
  {
   "cell_type": "code",
   "execution_count": 119,
   "metadata": {},
   "outputs": [
    {
     "name": "stdout",
     "output_type": "stream",
     "text": [
      "Churn Ratio:\n",
      "0    94.723618\n",
      "1     5.276382\n",
      "Name: churn, dtype: float64\n"
     ]
    }
   ],
   "source": [
    "# change data type to category\n",
    "high_val_cust.churn = high_val_cust.churn.astype(\"category\")\n",
    "\n",
    "# print churn ratio\n",
    "print(\"Churn Ratio:\")\n",
    "print(high_val_cust.churn.value_counts()*100/high_val_cust.shape[0])"
   ]
  },
  {
   "cell_type": "code",
   "execution_count": 64,
   "metadata": {},
   "outputs": [],
   "source": [
    "# We observee that approx 5% high value customers are chuurnned "
   ]
  },
  {
   "cell_type": "code",
   "execution_count": 65,
   "metadata": {},
   "outputs": [],
   "source": [
    "#calculate difference variable as the difference between 8th month and the average of 6th and 7th month."
   ]
  },
  {
   "cell_type": "code",
   "execution_count": 120,
   "metadata": {},
   "outputs": [],
   "source": [
    "high_val_cust['arpu_diff'] = high_val_cust.arpu_8 - ((high_val_cust.arpu_6 + high_val_cust.arpu_7)/2)\n",
    "\n",
    "high_val_cust['onnet_mou_diff'] = high_val_cust.onnet_mou_8 - ((high_val_cust.onnet_mou_6 + high_val_cust.onnet_mou_7)/2)\n",
    "\n",
    "high_val_cust['offnet_mou_diff'] = high_val_cust.offnet_mou_8 - ((high_val_cust.offnet_mou_6 + high_val_cust.offnet_mou_7)/2)\n",
    "\n",
    "high_val_cust['roam_ic_mou_diff'] = high_val_cust.roam_ic_mou_8 - ((high_val_cust.roam_ic_mou_6 + high_val_cust.roam_ic_mou_7)/2)\n",
    "\n",
    "high_val_cust['roam_og_mou_diff'] = high_val_cust.roam_og_mou_8 - ((high_val_cust.roam_og_mou_6 + high_val_cust.roam_og_mou_7)/2)\n",
    "\n",
    "high_val_cust['loc_og_mou_diff'] = high_val_cust.loc_og_mou_8 - ((high_val_cust.loc_og_mou_6 + high_val_cust.loc_og_mou_7)/2)\n",
    "\n",
    "high_val_cust['std_og_mou_diff'] = high_val_cust.std_og_mou_8 - ((high_val_cust.std_og_mou_6 + high_val_cust.std_og_mou_7)/2)\n",
    "\n",
    "high_val_cust['isd_og_mou_diff'] = high_val_cust.isd_og_mou_8 - ((high_val_cust.isd_og_mou_6 + high_val_cust.isd_og_mou_7)/2)\n",
    "\n",
    "high_val_cust['spl_og_mou_diff'] = high_val_cust.spl_og_mou_8 - ((high_val_cust.spl_og_mou_6 + high_val_cust.spl_og_mou_7)/2)\n",
    "\n",
    "high_val_cust['total_og_mou_diff'] = high_val_cust.total_og_mou_8 - ((high_val_cust.total_og_mou_6 + high_val_cust.total_og_mou_7)/2)\n",
    "\n",
    "high_val_cust['loc_ic_mou_diff'] = high_val_cust.loc_ic_mou_8 - ((high_val_cust.loc_ic_mou_6 + high_val_cust.loc_ic_mou_7)/2)\n",
    "\n",
    "high_val_cust['std_ic_mou_diff'] = high_val_cust.std_ic_mou_8 - ((high_val_cust.std_ic_mou_6 + high_val_cust.std_ic_mou_7)/2)\n",
    "\n",
    "high_val_cust['isd_ic_mou_diff'] = high_val_cust.isd_ic_mou_8 - ((high_val_cust.isd_ic_mou_6 + high_val_cust.isd_ic_mou_7)/2)\n",
    "\n",
    "high_val_cust['spl_ic_mou_diff'] = high_val_cust.spl_ic_mou_8 - ((high_val_cust.spl_ic_mou_6 + high_val_cust.spl_ic_mou_7)/2)\n",
    "\n",
    "high_val_cust['total_ic_mou_diff'] = high_val_cust.total_ic_mou_8 - ((high_val_cust.total_ic_mou_6 + high_val_cust.total_ic_mou_7)/2)\n",
    "\n",
    "high_val_cust['total_rech_num_diff'] = high_val_cust.total_rech_num_8 - ((high_val_cust.total_rech_num_6 + high_val_cust.total_rech_num_7)/2)\n",
    "\n",
    "high_val_cust['total_rech_amt_diff'] = high_val_cust.total_rech_amt_8 - ((high_val_cust.total_rech_amt_6 + high_val_cust.total_rech_amt_7)/2)\n",
    "\n",
    "high_val_cust['max_rech_amt_diff'] = high_val_cust.max_rech_amt_8 - ((high_val_cust.max_rech_amt_6 + high_val_cust.max_rech_amt_7)/2)\n",
    "\n",
    "high_val_cust['total_rech_data_diff'] = high_val_cust.total_rech_data_8 - ((high_val_cust.total_rech_data_6 + high_val_cust.total_rech_data_7)/2)\n",
    "\n",
    "high_val_cust['max_rech_data_diff'] = high_val_cust.max_rech_data_8 - ((high_val_cust.max_rech_data_6 + high_val_cust.max_rech_data_7)/2)\n",
    "\n",
    "high_val_cust['av_rech_amt_data_diff'] = high_val_cust.av_rech_amt_data_8 - ((high_val_cust.av_rech_amt_data_6 + high_val_cust.av_rech_amt_data_7)/2)\n",
    "\n",
    "high_val_cust['vol_2g_mb_diff'] = high_val_cust.vol_2g_mb_8 - ((high_val_cust.vol_2g_mb_6 + high_val_cust.vol_2g_mb_7)/2)\n",
    "\n",
    "high_val_cust['vol_3g_mb_diff'] = high_val_cust.vol_3g_mb_8 - ((high_val_cust.vol_3g_mb_6 + high_val_cust.vol_3g_mb_7)/2)"
   ]
  },
  {
   "cell_type": "code",
   "execution_count": 122,
   "metadata": {},
   "outputs": [
    {
     "data": {
      "text/plain": [
       "count    5572.000000\n",
       "mean      -37.946358\n",
       "std       425.343196\n",
       "min     -4639.405000\n",
       "25%       -95.650000\n",
       "50%        -5.535000\n",
       "75%        49.175000\n",
       "max      4890.815000\n",
       "Name: total_og_mou_diff, dtype: float64"
      ]
     },
     "execution_count": 122,
     "metadata": {},
     "output_type": "execute_result"
    }
   ],
   "source": [
    "high_val_cust['total_og_mou_diff'].describe()"
   ]
  },
  {
   "cell_type": "code",
   "execution_count": 123,
   "metadata": {},
   "outputs": [],
   "source": [
    "#  9th Month (churned month) Columns\n",
    "col_9 =  high_val_cust.columns[high_val_cust.columns.str.contains('_9')]"
   ]
  },
  {
   "cell_type": "code",
   "execution_count": 124,
   "metadata": {},
   "outputs": [],
   "source": [
    "#  all names ending with 9\n",
    "col_9 = high_val_cust.filter(regex='9$', axis=1).columns\n",
    "\n",
    "# update num_cols and cat_cols column name list\n",
    "cat_cols = [col for col in cat_cols if col not in col_9]\n",
    "cat_cols.append('churn')\n",
    "num_cols = [col for col in high_val_cust.columns if col not in cat_cols]"
   ]
  },
  {
   "cell_type": "code",
   "execution_count": 125,
   "metadata": {},
   "outputs": [],
   "source": [
    "# change column types\n",
    "high_val_cust[num_cols] = high_val_cust[num_cols].apply(pd.to_numeric)\n",
    "high_val_cust[cat_cols] = high_val_cust[cat_cols].apply(lambda column: column.astype(\"category\"), axis=0)"
   ]
  },
  {
   "cell_type": "markdown",
   "metadata": {},
   "source": [
    "# EDA"
   ]
  },
  {
   "cell_type": "code",
   "execution_count": 126,
   "metadata": {},
   "outputs": [],
   "source": [
    "#  checking data type and their respective couunts\n",
    "def data_type(variable):\n",
    "    if variable.dtype == np.int64 or variable.dtype == np.float64:\n",
    "        return 'numerical'\n",
    "    elif variable.dtype == 'category':\n",
    "        return 'categorical'\n",
    "    \n",
    "def univariate(variable, stats=True):\n",
    "    \n",
    "    if data_type(variable) == 'numerical':\n",
    "        sns.distplot(variable)\n",
    "        if stats == True:\n",
    "            print(variable.describe())\n",
    "    \n",
    "    elif data_type(variable) == 'categorical':\n",
    "        sns.countplot(variable)\n",
    "        if stats == True:\n",
    "            print(variable.value_counts())\n",
    "            \n",
    "    else:\n",
    "        print(\"Invalid variable passed: either pass a numeric variable or a categorical vairable.\")\n",
    "        \n",
    "def bivariate(var1, var2):\n",
    "    if data_type(var1) == 'numerical' and data_type(var2) == 'numerical':\n",
    "        sns.regplot(var1, var2)\n",
    "    elif (data_type(var1) == 'categorical' and data_type(var2) == 'numerical') or (data_type(var1) == 'numerical' and data_type(var2) == 'categorical'):        \n",
    "        sns.boxplot(var1, var2)"
   ]
  },
  {
   "cell_type": "code",
   "execution_count": 127,
   "metadata": {},
   "outputs": [
    {
     "name": "stdout",
     "output_type": "stream",
     "text": [
      "count    99999.000000\n",
      "mean       282.987358\n",
      "std        328.439770\n",
      "min      -2258.709000\n",
      "25%         93.411500\n",
      "50%        197.704000\n",
      "75%        371.060000\n",
      "max      27731.088000\n",
      "Name: arpu_6, dtype: float64\n"
     ]
    },
    {
     "data": {
      "image/png": "[encoded data removed]",
      "text/plain": [
       "<Figure size 640x480 with 1 Axes>"
      ]
     },
     "metadata": {},
     "output_type": "display_data"
    }
   ],
   "source": [
    "univariate(tc_data.arpu_6)"
   ]
  },
  {
   "cell_type": "code",
   "execution_count": 128,
   "metadata": {},
   "outputs": [
    {
     "data": {
      "image/png": "[encoded data removed]",
      "text/plain": [
       "<Figure size 640x480 with 1 Axes>"
      ]
     },
     "metadata": {},
     "output_type": "display_data"
    }
   ],
   "source": [
    "bivariate(high_val_cust.sep_vbc_3g, high_val_cust.churn)"
   ]
  },
  {
   "cell_type": "code",
   "execution_count": 129,
   "metadata": {},
   "outputs": [
    {
     "data": {
      "image/png": "[encoded data removed]",
      "text/plain": [
       "<Figure size 640x480 with 1 Axes>"
      ]
     },
     "metadata": {},
     "output_type": "display_data"
    }
   ],
   "source": [
    "bivariate(high_val_cust.churn, high_val_cust.aon)"
   ]
  },
  {
   "cell_type": "code",
   "execution_count": 130,
   "metadata": {},
   "outputs": [
    {
     "data": {
      "image/png": "[encoded data removed]",
      "text/plain": [
       "<Figure size 640x480 with 1 Axes>"
      ]
     },
     "metadata": {},
     "output_type": "display_data"
    }
   ],
   "source": [
    "bivariate(high_val_cust.spl_og_mou_8, high_val_cust.churn)"
   ]
  },
  {
   "cell_type": "code",
   "execution_count": 131,
   "metadata": {},
   "outputs": [
    {
     "name": "stdout",
     "output_type": "stream",
     "text": [
      "count    92254.000000\n",
      "mean       190.337222\n",
      "std        319.396092\n",
      "min          0.000000\n",
      "25%         27.130000\n",
      "50%         87.290000\n",
      "75%        220.505000\n",
      "max      10310.760000\n",
      "Name: offnet_mou_9, dtype: float64\n"
     ]
    },
    {
     "data": {
      "image/png": "[encoded data removed]",
      "text/plain": [
       "<Figure size 640x480 with 1 Axes>"
      ]
     },
     "metadata": {},
     "output_type": "display_data"
    }
   ],
   "source": [
    "univariate(df.offnet_mou_9)"
   ]
  },
  {
   "cell_type": "code",
   "execution_count": 132,
   "metadata": {},
   "outputs": [
    {
     "name": "stdout",
     "output_type": "stream",
     "text": [
      "count    94621.000000\n",
      "mean       133.018098\n",
      "std        308.951589\n",
      "min          0.000000\n",
      "25%          6.460000\n",
      "50%         32.360000\n",
      "75%        115.860000\n",
      "max      10752.560000\n",
      "Name: onnet_mou_8, dtype: float64\n"
     ]
    },
    {
     "data": {
      "image/png": "[encoded data removed]",
      "text/plain": [
       "<Figure size 640x480 with 1 Axes>"
      ]
     },
     "metadata": {},
     "output_type": "display_data"
    }
   ],
   "source": [
    "univariate(df.onnet_mou_8)"
   ]
  },
  {
   "cell_type": "code",
   "execution_count": 133,
   "metadata": {},
   "outputs": [
    {
     "data": {
      "text/plain": [
       "Index(['loc_og_t2o_mou', 'std_og_t2o_mou', 'loc_ic_t2o_mou', 'arpu_6',\n",
       "       'arpu_7', 'arpu_8', 'arpu_9', 'onnet_mou_6', 'onnet_mou_7',\n",
       "       'onnet_mou_8',\n",
       "       ...\n",
       "       'spl_ic_mou_diff', 'total_ic_mou_diff', 'total_rech_num_diff',\n",
       "       'total_rech_amt_diff', 'max_rech_amt_diff', 'total_rech_data_diff',\n",
       "       'max_rech_data_diff', 'av_rech_amt_data_diff', 'vol_2g_mb_diff',\n",
       "       'vol_3g_mb_diff'],\n",
       "      dtype='object', length=220)"
      ]
     },
     "execution_count": 133,
     "metadata": {},
     "output_type": "execute_result"
    }
   ],
   "source": [
    "high_val_cust.columns"
   ]
  },
  {
   "cell_type": "code",
   "execution_count": 134,
   "metadata": {},
   "outputs": [
    {
     "data": {
      "image/png": "[encoded data removed]",
      "text/plain": [
       "<Figure size 640x480 with 1 Axes>"
      ]
     },
     "metadata": {},
     "output_type": "display_data"
    }
   ],
   "source": [
    "bivariate(high_val_cust.spl_ic_mou_diff, high_val_cust.churn)"
   ]
  },
  {
   "cell_type": "code",
   "execution_count": 135,
   "metadata": {},
   "outputs": [
    {
     "data": {
      "image/png": "[encoded data removed]",
      "text/plain": [
       "<Figure size 640x480 with 1 Axes>"
      ]
     },
     "metadata": {},
     "output_type": "display_data"
    }
   ],
   "source": [
    "bivariate(high_val_cust.total_ic_mou_diff, high_val_cust.churn)"
   ]
  },
  {
   "cell_type": "code",
   "execution_count": 137,
   "metadata": {
    "scrolled": false
   },
   "outputs": [
    {
     "name": "stdout",
     "output_type": "stream",
     "text": [
      "Summary metrics - Numeric Variables\n",
      "       loc_og_t2o_mou  std_og_t2o_mou  loc_ic_t2o_mou       arpu_6  \\\n",
      "count          5572.0          5572.0          5572.0  5572.000000   \n",
      "mean              0.0             0.0             0.0   662.843068   \n",
      "std               0.0             0.0             0.0   503.084351   \n",
      "min               0.0             0.0             0.0     0.000000   \n",
      "25%               0.0             0.0             0.0   294.649250   \n",
      "50%               0.0             0.0             0.0   550.466000   \n",
      "75%               0.0             0.0             0.0   890.414750   \n",
      "max               0.0             0.0             0.0  6636.431000   \n",
      "\n",
      "            arpu_7       arpu_8       arpu_9  onnet_mou_6  onnet_mou_7  \\\n",
      "count  5572.000000  5572.000000  5572.000000  5572.000000  5572.000000   \n",
      "mean    674.643483   603.143303   560.397072   189.865551   194.891423   \n",
      "std     514.445355   523.688364   523.471586   428.605355   475.774905   \n",
      "min      -0.172000   -17.854000   -43.500000     0.000000     0.000000   \n",
      "25%     294.440250   230.646500   200.308500     6.137500     5.382500   \n",
      "50%     565.459000   462.343500   426.981500    42.485000    40.635000   \n",
      "75%     903.781000   830.591750   781.538000   168.145000   167.172500   \n",
      "max    6256.564000  6255.086000  7176.047000  6504.340000  8157.780000   \n",
      "\n",
      "       onnet_mou_8  onnet_mou_9  offnet_mou_6  offnet_mou_7  offnet_mou_8  \\\n",
      "count   5572.00000  5572.000000   5572.000000   5572.000000   5572.000000   \n",
      "mean     176.57353   162.574664    316.504347    314.573591    291.898327   \n",
      "std      438.65992   396.261603    488.463159    480.388785    458.226220   \n",
      "min        0.00000     0.000000      0.000000      0.000000      0.000000   \n",
      "25%        4.51000     2.360000     35.767500     31.482500     26.005000   \n",
      "50%       37.72500    31.750000    147.040000    145.985000    129.820000   \n",
      "75%      151.88750   138.650000    390.737500    403.852500    378.607500   \n",
      "max     9977.41000  7970.790000   6712.810000   7043.980000   7857.780000   \n",
      "\n",
      "       offnet_mou_9  roam_ic_mou_6  roam_ic_mou_7  roam_ic_mou_8  \\\n",
      "count   5572.000000    5572.000000    5572.000000    5572.000000   \n",
      "mean     269.220271      15.503241      12.735879      14.394607   \n",
      "std      426.526028      72.131571      82.078621      80.708375   \n",
      "min        0.000000       0.000000       0.000000       0.000000   \n",
      "25%       17.362500       0.000000       0.000000       0.000000   \n",
      "50%      114.580000       0.000000       0.000000       0.000000   \n",
      "75%      343.050000       0.000000       0.000000       0.000000   \n",
      "max     6613.680000    1256.790000    2877.060000    1968.490000   \n",
      "\n",
      "       roam_ic_mou_9  roam_og_mou_6  \n",
      "count    5572.000000    5572.000000  \n",
      "mean       12.453982      23.344192  \n",
      "std        74.487340     120.780573  \n",
      "min         0.000000       0.000000  \n",
      "25%         0.000000       0.000000  \n",
      "50%         0.000000       0.000000  \n",
      "75%         0.000000       0.000000  \n",
      "max      1639.530000    3775.110000  \n",
      "       roam_og_mou_7  roam_og_mou_8  roam_og_mou_9  loc_og_t2t_mou_6  \\\n",
      "count    5572.000000    5572.000000    5572.000000       5572.000000   \n",
      "mean       17.300183      19.041635      16.280144         90.198419   \n",
      "std        88.765387      97.161378      95.820933        278.026913   \n",
      "min         0.000000       0.000000       0.000000          0.000000   \n",
      "25%         0.000000       0.000000       0.000000          2.457500   \n",
      "50%         0.000000       0.000000       0.000000         19.670000   \n",
      "75%         0.000000       0.000000       0.000000         73.015000   \n",
      "max      1659.880000    2237.690000    2380.560000       6093.340000   \n",
      "\n",
      "       loc_og_t2t_mou_7  loc_og_t2t_mou_8  loc_og_t2t_mou_9  loc_og_t2m_mou_6  \\\n",
      "count       5572.000000       5572.000000       5572.000000       5572.000000   \n",
      "mean          94.409383         85.193918         79.891276        168.636534   \n",
      "std          323.268618        289.030433        266.051612        284.067974   \n",
      "min            0.000000          0.000000          0.000000          0.000000   \n",
      "25%            2.430000          1.560000          0.810000         14.865000   \n",
      "50%           19.530000         17.550000         15.190000         67.985000   \n",
      "75%           74.300000         69.672500         66.040000        210.795000   \n",
      "max         7400.660000       9760.560000       7781.340000       4729.740000   \n",
      "\n",
      "       loc_og_t2m_mou_7  loc_og_t2m_mou_8  loc_og_t2m_mou_9  loc_og_t2f_mou_6  \\\n",
      "count       5572.000000       5572.000000       5572.000000       5572.000000   \n",
      "mean         167.806204        159.137760        153.346312          6.543435   \n",
      "std          268.389896        252.111826        263.594080         19.427278   \n",
      "min            0.000000          0.000000          0.000000          0.000000   \n",
      "25%           13.827500         10.302500          6.525000          0.000000   \n",
      "50%           67.710000         62.085000         58.990000          0.110000   \n",
      "75%          209.050000        197.642500        183.537500          4.490000   \n",
      "max         3442.510000       2672.860000       3841.330000        486.060000   \n",
      "\n",
      "       loc_og_t2f_mou_7  loc_og_t2f_mou_8  loc_og_t2f_mou_9  loc_og_t2c_mou_6  \\\n",
      "count       5572.000000       5572.000000       5572.000000       5572.000000   \n",
      "mean           6.665831          5.892017          5.744106          1.769618   \n",
      "std           19.192216         17.497461         16.502239          6.092949   \n",
      "min            0.000000          0.000000          0.000000          0.000000   \n",
      "25%            0.000000          0.000000          0.000000          0.000000   \n",
      "50%            0.270000          0.000000          0.000000          0.000000   \n",
      "75%            4.730000          4.210000          3.890000          0.180000   \n",
      "max          426.030000        539.080000        547.190000        127.840000   \n",
      "\n",
      "       loc_og_t2c_mou_7  loc_og_t2c_mou_8  loc_og_t2c_mou_9  loc_og_mou_6  \n",
      "count       5572.000000       5572.000000       5572.000000   5572.000000  \n",
      "mean           2.084824          1.815214          1.496901    265.386513  \n",
      "std            8.635851          8.120430          5.308271    438.651209  \n",
      "min            0.000000          0.000000          0.000000      0.000000  \n",
      "25%            0.000000          0.000000          0.000000     23.410000  \n",
      "50%            0.000000          0.000000          0.000000    106.760000  \n",
      "75%            0.282500          0.080000          0.000000    328.490000  \n",
      "max          334.430000        351.830000        105.090000   6153.290000  \n",
      "       loc_og_mou_7  loc_og_mou_8  loc_og_mou_9  std_og_t2t_mou_6  \\\n",
      "count   5572.000000   5572.000000   5572.000000       5572.000000   \n",
      "mean     268.889519    250.231466    238.989171         90.338963   \n",
      "std      455.447438    423.670006    421.383294        313.190464   \n",
      "min        0.000000      0.000000      0.000000          0.000000   \n",
      "25%       22.537500     16.877500     10.870000          0.000000   \n",
      "50%      109.585000    100.605000     91.310000          0.000000   \n",
      "75%      333.430000    317.112500    291.700000         26.017500   \n",
      "max     7674.780000  10196.830000   8637.210000       6482.440000   \n",
      "\n",
      "       std_og_t2t_mou_7  std_og_t2t_mou_8  std_og_t2t_mou_9  std_og_t2m_mou_6  \\\n",
      "count       5572.000000       5572.000000       5572.000000       5572.000000   \n",
      "mean          93.692145         84.447531         76.133916        118.325673   \n",
      "std          340.455995        320.082537        281.537782        366.699782   \n",
      "min            0.000000          0.000000          0.000000          0.000000   \n",
      "25%            0.000000          0.000000          0.000000          0.000000   \n",
      "50%            0.000000          0.000000          0.000000          3.235000   \n",
      "75%           25.557500         18.510000         15.992500         64.472500   \n",
      "max         8133.660000       6755.040000       5768.630000       5351.090000   \n",
      "\n",
      "       std_og_t2m_mou_7  std_og_t2m_mou_8  std_og_t2m_mou_9  std_og_t2f_mou_6  \\\n",
      "count       5572.000000       5572.000000       5572.000000       5572.000000   \n",
      "mean         120.646678        106.691920         93.421201          1.693083   \n",
      "std          373.426816        353.429846        301.588485         10.590150   \n",
      "min            0.000000          0.000000          0.000000          0.000000   \n",
      "25%            0.000000          0.000000          0.000000          0.000000   \n",
      "50%            2.595000          1.650000          0.970000          0.000000   \n",
      "75%           62.780000         48.772500         44.865000          0.000000   \n",
      "max         6013.090000       7508.930000       5540.890000        314.560000   \n",
      "\n",
      "       std_og_t2f_mou_7  std_og_t2f_mou_8  std_og_t2f_mou_9  std_og_t2c_mou_6  \\\n",
      "count       5572.000000       5572.000000       5572.000000            5572.0   \n",
      "mean           1.888954          1.610106          1.519939               0.0   \n",
      "std           14.116751         11.569631         13.620248               0.0   \n",
      "min            0.000000          0.000000          0.000000               0.0   \n",
      "25%            0.000000          0.000000          0.000000               0.0   \n",
      "50%            0.000000          0.000000          0.000000               0.0   \n",
      "75%            0.000000          0.000000          0.000000               0.0   \n",
      "max          544.630000        516.910000        808.490000               0.0   \n",
      "\n",
      "       std_og_t2c_mou_7  std_og_t2c_mou_8  std_og_t2c_mou_9  std_og_mou_6  \n",
      "count            5572.0            5572.0            5572.0   5572.000000  \n",
      "mean                0.0               0.0               0.0    210.360727  \n",
      "std                 0.0               0.0               0.0    524.896970  \n",
      "min                 0.0               0.0               0.0      0.000000  \n",
      "25%                 0.0               0.0               0.0      0.000000  \n",
      "50%                 0.0               0.0               0.0      8.825000  \n",
      "75%                 0.0               0.0               0.0    145.700000  \n",
      "max                 0.0               0.0               0.0   6491.660000  \n",
      "       std_og_mou_7  std_og_mou_8  std_og_mou_9  isd_og_mou_6  isd_og_mou_7  \\\n",
      "count   5572.000000   5572.000000   5572.000000   5572.000000   5572.000000   \n",
      "mean     216.230721    192.752270    171.077505      1.964729      2.122880   \n",
      "std      548.825256    517.560864    448.311205     17.760277     20.637711   \n",
      "min        0.000000      0.000000      0.000000      0.000000      0.000000   \n",
      "25%        0.000000      0.000000      0.000000      0.000000      0.000000   \n",
      "50%        7.385000      6.140000      3.860000      0.000000      0.000000   \n",
      "75%      149.955000    123.537500    109.355000      0.000000      0.000000   \n",
      "max     8155.530000   7519.280000   5956.830000    459.440000    643.660000   \n",
      "\n",
      "       isd_og_mou_8  isd_og_mou_9  spl_og_mou_6  spl_og_mou_7  spl_og_mou_8  \\\n",
      "count   5572.000000   5572.000000   5572.000000   5572.000000   5572.000000   \n",
      "mean       2.050275      1.575646      6.577854      7.249600      6.724025   \n",
      "std       21.347414     16.870784     15.489512     17.706921     21.071955   \n",
      "min        0.000000      0.000000      0.000000      0.000000      0.000000   \n",
      "25%        0.000000      0.000000      0.000000      0.000000      0.000000   \n",
      "50%        0.000000      0.000000      0.760000      1.160000      0.900000   \n",
      "75%        0.000000      0.000000      6.892500      7.960000      6.815000   \n",
      "max      555.710000    422.780000    447.330000    481.090000    954.510000   \n",
      "\n",
      "       spl_og_mou_9  og_others_6  og_others_7  og_others_8  og_others_9  \\\n",
      "count   5572.000000  5572.000000   5572.00000  5572.000000  5572.000000   \n",
      "mean       5.915009     0.614257      0.06283     0.026511     0.213588   \n",
      "std       16.939940     1.764961      3.04996     1.017554    11.003983   \n",
      "min        0.000000     0.000000      0.00000     0.000000     0.000000   \n",
      "25%        0.000000     0.000000      0.00000     0.000000     0.000000   \n",
      "50%        0.630000     0.000000      0.00000     0.000000     0.000000   \n",
      "75%        5.595000     0.210000      0.00000     0.000000     0.000000   \n",
      "max      490.780000    41.160000    221.94000    73.730000   787.790000   \n",
      "\n",
      "       total_og_mou_6  total_og_mou_7  total_og_mou_8  total_og_mou_9  \\\n",
      "count     5572.000000     5572.000000     5572.000000     5572.000000   \n",
      "mean       484.912852      494.563015      451.791576      417.777674   \n",
      "std        696.950083      723.356405      683.967040      633.456541   \n",
      "min          0.000000        0.000000        0.000000        0.000000   \n",
      "25%         47.532500       43.720000       34.810000       22.402500   \n",
      "50%        235.835000      228.835000      206.410000      182.465000   \n",
      "75%        621.675000      659.230000      603.327500      555.505000   \n",
      "max       6597.940000     8285.640000    10882.860000     9109.190000   \n",
      "\n",
      "       loc_ic_t2t_mou_6  \n",
      "count       5572.000000  \n",
      "mean          68.897760  \n",
      "std          166.162875  \n",
      "min            0.000000  \n",
      "25%            5.890000  \n",
      "50%           24.545000  \n",
      "75%           66.865000  \n",
      "max         3924.260000  \n",
      "       loc_ic_t2t_mou_7  loc_ic_t2t_mou_8  loc_ic_t2t_mou_9  loc_ic_t2m_mou_6  \\\n",
      "count       5572.000000       5572.000000       5572.000000       5572.000000   \n",
      "mean          71.043006         68.167663         65.097342        164.100946   \n",
      "std          173.751142        164.810715        177.413518        250.745118   \n",
      "min            0.000000          0.000000          0.000000          0.000000   \n",
      "25%            6.130000          5.010000          3.880000         28.127500   \n",
      "50%           25.390000         22.760000         20.810000         87.910000   \n",
      "75%           71.637500         66.965000         61.282500        199.202500   \n",
      "max         3242.310000       2692.740000       5639.660000       4450.740000   \n",
      "\n",
      "       loc_ic_t2m_mou_7  loc_ic_t2m_mou_8  loc_ic_t2m_mou_9  loc_ic_t2f_mou_6  \\\n",
      "count       5572.000000       5572.000000       5572.000000       5572.000000   \n",
      "mean         169.745971        163.381987        153.744008         16.590273   \n",
      "std          259.486564        247.107508        235.862593         49.618394   \n",
      "min            0.000000          0.000000          0.000000          0.000000   \n",
      "25%           29.570000         26.237500         22.810000          0.000000   \n",
      "50%           88.150000         85.120000         78.135000          2.260000   \n",
      "75%          203.262500        202.932500        189.562500         13.000000   \n",
      "max         4027.030000       3645.510000       3621.740000       1373.090000   \n",
      "\n",
      "       loc_ic_t2f_mou_7  loc_ic_t2f_mou_8  loc_ic_t2f_mou_9  loc_ic_mou_6  \\\n",
      "count       5572.000000       5572.000000       5572.000000   5572.000000   \n",
      "mean          16.789661         14.906314         15.152127    249.598799   \n",
      "std           45.455094         41.019870         46.151868    341.635922   \n",
      "min            0.000000          0.000000          0.000000      0.000000   \n",
      "25%            0.000000          0.000000          0.000000     48.105000   \n",
      "50%            2.540000          2.285000          2.090000    138.810000   \n",
      "75%           13.640000         12.380000         11.582500    316.115000   \n",
      "max          902.790000        765.060000        997.510000   4648.290000   \n",
      "\n",
      "       loc_ic_mou_7  loc_ic_mou_8  loc_ic_mou_9  std_ic_t2t_mou_6  \\\n",
      "count   5572.000000   5572.000000   5572.000000       5572.000000   \n",
      "mean     257.588557    246.465625    234.002970         15.944697   \n",
      "std      356.512932    339.897811    338.484496         89.672014   \n",
      "min        0.000000      0.000000      0.000000          0.000000   \n",
      "25%       51.417500     43.190000     37.950000          0.000000   \n",
      "50%      140.280000    133.890000    122.575000          0.000000   \n",
      "75%      328.435000    311.655000    299.550000          6.450000   \n",
      "max     4164.290000   3839.290000   5845.980000       3038.340000   \n",
      "\n",
      "       std_ic_t2t_mou_7  std_ic_t2t_mou_8  std_ic_t2t_mou_9  std_ic_t2m_mou_6  \n",
      "count       5572.000000       5572.000000       5572.000000       5572.000000  \n",
      "mean          17.322895         15.771904         16.115608         28.970675  \n",
      "std          107.061476         91.901210         96.086697         99.979869  \n",
      "min            0.000000          0.000000          0.000000          0.000000  \n",
      "25%            0.000000          0.000000          0.000000          0.000000  \n",
      "50%            0.000000          0.000000          0.000000          3.220000  \n",
      "75%            6.642500          5.860000          5.082500         21.100000  \n",
      "max         4235.340000       2833.610000       2545.360000       2753.260000  \n",
      "       std_ic_t2m_mou_7  std_ic_t2m_mou_8  std_ic_t2m_mou_9  std_ic_t2f_mou_6  \\\n",
      "count       5572.000000       5572.000000       5572.000000       5572.000000   \n",
      "mean          32.582303         29.633966         27.764279          2.685721   \n",
      "std          121.979554        115.054891        102.909229         15.343111   \n",
      "min            0.000000          0.000000          0.000000          0.000000   \n",
      "25%            0.000000          0.000000          0.000000          0.000000   \n",
      "50%            3.155000          2.210000          1.730000          0.000000   \n",
      "75%           22.210000         19.730000         17.892500          0.300000   \n",
      "max         2497.240000       2734.910000       2205.360000        504.480000   \n",
      "\n",
      "       std_ic_t2f_mou_7  std_ic_t2f_mou_8  std_ic_t2f_mou_9  std_ic_t2o_mou_6  \\\n",
      "count       5572.000000       5572.000000       5572.000000            5572.0   \n",
      "mean           3.184672          2.857035          3.172188               0.0   \n",
      "std           22.292614         17.380129         27.610099               0.0   \n",
      "min            0.000000          0.000000          0.000000               0.0   \n",
      "25%            0.000000          0.000000          0.000000               0.0   \n",
      "50%            0.000000          0.000000          0.000000               0.0   \n",
      "75%            0.350000          0.310000          0.330000               0.0   \n",
      "max          922.380000        728.910000       1431.960000               0.0   \n",
      "\n",
      "       std_ic_t2o_mou_7  std_ic_t2o_mou_8  std_ic_t2o_mou_9  std_ic_mou_6  \\\n",
      "count            5572.0            5572.0            5572.0   5572.000000   \n",
      "mean                0.0               0.0               0.0     47.604377   \n",
      "std                 0.0               0.0               0.0    145.055539   \n",
      "min                 0.0               0.0               0.0      0.000000   \n",
      "25%                 0.0               0.0               0.0      0.230000   \n",
      "50%                 0.0               0.0               0.0      7.750000   \n",
      "75%                 0.0               0.0               0.0     37.582500   \n",
      "max                 0.0               0.0               0.0   3059.430000   \n",
      "\n",
      "       std_ic_mou_7  std_ic_mou_8  std_ic_mou_9  total_ic_mou_6  \\\n",
      "count   5572.000000   5572.000000   5572.000000     5572.000000   \n",
      "mean      53.093146     48.266043     47.055151      309.640980   \n",
      "std      176.436437    159.910956    160.774875      396.418607   \n",
      "min        0.000000      0.000000      0.000000        0.000000   \n",
      "25%        0.130000      0.000000      0.000000       67.227500   \n",
      "50%        7.530000      6.710000      5.430000      184.605000   \n",
      "75%       39.800000     36.110000     32.765000      399.337500   \n",
      "max     4323.530000   3002.530000   3661.580000     4667.610000   \n",
      "\n",
      "       total_ic_mou_7  total_ic_mou_8  total_ic_mou_9  spl_ic_mou_6  \n",
      "count     5572.000000     5572.000000     5572.000000   5572.000000  \n",
      "mean       324.638433      308.842737      294.556701      0.058044  \n",
      "std        429.103084      407.336794      405.332102      0.300229  \n",
      "min          0.000000        0.000000        0.000000      0.000000  \n",
      "25%         71.555000       60.520000       52.252500      0.000000  \n",
      "50%        186.675000      179.150000      160.450000      0.000000  \n",
      "75%        412.427500      395.360000      377.755000      0.000000  \n",
      "max       5689.510000     4270.110000     5861.240000     19.760000  \n",
      "       spl_ic_mou_7  spl_ic_mou_8  spl_ic_mou_9  isd_ic_mou_6  isd_ic_mou_7  \\\n",
      "count   5572.000000   5572.000000   5572.000000   5572.000000   5572.000000   \n",
      "mean       0.026237      0.026371      0.093121     11.455675     12.727606   \n",
      "std        0.367731      0.126431      0.400855     79.757028    100.619750   \n",
      "min        0.000000      0.000000      0.000000      0.000000      0.000000   \n",
      "25%        0.000000      0.000000      0.000000      0.000000      0.000000   \n",
      "50%        0.000000      0.000000      0.000000      0.000000      0.000000   \n",
      "75%        0.000000      0.000000      0.000000      0.000000      0.000000   \n",
      "max       21.330000      6.230000     16.350000   3965.690000   4747.910000   \n",
      "\n",
      "       isd_ic_mou_8  isd_ic_mou_9  ic_others_6  ic_others_7  ic_others_8  \\\n",
      "count   5572.000000   5572.000000  5572.000000  5572.000000  5572.000000   \n",
      "mean      12.964928     12.278658     0.916389     1.195673     1.112522   \n",
      "std       96.491451     87.734257     5.800569     8.167346     7.936539   \n",
      "min        0.000000      0.000000     0.000000     0.000000     0.000000   \n",
      "25%        0.000000      0.000000     0.000000     0.000000     0.000000   \n",
      "50%        0.000000      0.000000     0.000000     0.000000     0.000000   \n",
      "75%        0.000000      0.000000     0.060000     0.000000     0.060000   \n",
      "max     3432.880000   3020.510000   242.060000   252.580000   345.690000   \n",
      "\n",
      "       ic_others_9  total_rech_num_6  total_rech_num_7  total_rech_num_8  \\\n",
      "count  5572.000000       5572.000000       5572.000000       5572.000000   \n",
      "mean      1.119494         13.988514         14.196159         11.731515   \n",
      "std       7.496938          9.199940          9.784416          9.793601   \n",
      "min       0.000000          1.000000          1.000000          0.000000   \n",
      "25%       0.000000          8.000000          8.000000          5.000000   \n",
      "50%       0.000000         12.000000         12.000000          9.000000   \n",
      "75%       0.000000         17.000000         18.000000         15.000000   \n",
      "max     285.560000        116.000000        138.000000        127.000000   \n",
      "\n",
      "       total_rech_num_9  total_rech_amt_6  total_rech_amt_7  total_rech_amt_8  \\\n",
      "count       5572.000000       5572.000000       5572.000000       5572.000000   \n",
      "mean          11.307789        775.038406        791.341529        694.127961   \n",
      "std            9.588623        604.721680        618.062586        622.762058   \n",
      "min            0.000000          0.000000          0.000000          0.000000   \n",
      "25%            5.000000        335.750000        331.750000        252.000000   \n",
      "50%            9.000000        637.000000        655.000000        522.000000   \n",
      "75%           15.000000       1052.000000       1068.000000        958.000000   \n",
      "max          125.000000       7814.000000       7523.000000       6778.000000   \n",
      "\n",
      "       total_rech_amt_9  max_rech_amt_6  \n",
      "count       5572.000000     5572.000000  \n",
      "mean         648.968772      189.915111  \n",
      "std          620.065473      188.403096  \n",
      "min            0.000000        0.000000  \n",
      "25%          220.000000       61.500000  \n",
      "50%          481.000000      154.000000  \n",
      "75%          914.000000      252.000000  \n",
      "max         8055.000000     3000.000000  \n",
      "       max_rech_amt_7  max_rech_amt_8  max_rech_amt_9  last_day_rch_amt_6  \\\n",
      "count     5572.000000     5572.000000     5572.000000         5572.000000   \n",
      "mean       197.960337      186.204953      179.054917          106.436289   \n",
      "std        208.385390      197.307159      193.976927          151.926861   \n",
      "min          0.000000        0.000000        0.000000            0.000000   \n",
      "25%         59.000000       50.000000       46.000000           25.000000   \n",
      "50%        154.000000      152.000000      150.000000           50.000000   \n",
      "75%        252.000000      252.000000      252.000000          145.000000   \n",
      "max       3100.000000     3100.000000     3100.000000         2100.000000   \n",
      "\n",
      "       last_day_rch_amt_7  last_day_rch_amt_8  last_day_rch_amt_9  \\\n",
      "count         5572.000000         5572.000000         5572.000000   \n",
      "mean           109.035894           99.731874           70.510768   \n",
      "std            149.624452          151.530627          137.623917   \n",
      "min              0.000000            0.000000            0.000000   \n",
      "25%             25.000000           14.000000            0.000000   \n",
      "50%             50.000000           41.000000           17.000000   \n",
      "75%            152.000000          144.000000          130.000000   \n",
      "max           2100.000000         3100.000000         3100.000000   \n",
      "\n",
      "       total_rech_data_6  total_rech_data_7  total_rech_data_8  \\\n",
      "count        5572.000000        5572.000000        5572.000000   \n",
      "mean            4.844042           5.262742           4.090991   \n",
      "std             4.476739           4.790633           4.830995   \n",
      "min             1.000000           1.000000           0.000000   \n",
      "25%             2.000000           2.000000           1.000000   \n",
      "50%             3.000000           4.000000           2.000000   \n",
      "75%             7.000000           8.000000           6.000000   \n",
      "max            61.000000          54.000000          60.000000   \n",
      "\n",
      "       total_rech_data_9  max_rech_data_6  max_rech_data_7  max_rech_data_8  \\\n",
      "count        5572.000000      5572.000000      5572.000000      5572.000000   \n",
      "mean            3.179469       154.111989       160.615219       139.199390   \n",
      "std             3.742054       150.341949       157.316052       151.119194   \n",
      "min             0.000000         8.000000         1.000000         0.000000   \n",
      "25%             1.000000        25.000000        25.000000        25.000000   \n",
      "50%             2.000000       152.000000       154.000000       145.000000   \n",
      "75%             4.000000       252.000000       252.000000       252.000000   \n",
      "max            52.000000      1555.000000      1555.000000      1555.000000   \n",
      "\n",
      "       max_rech_data_9  av_rech_amt_data_6  av_rech_amt_data_7  \\\n",
      "count      5572.000000         5572.000000         5572.000000   \n",
      "mean        135.199749          340.848760          366.891473   \n",
      "std         151.159496          303.321661          307.537969   \n",
      "min           0.000000            8.000000            1.000000   \n",
      "25%          25.000000          168.000000          196.000000   \n",
      "50%          98.000000          252.000000          275.000000   \n",
      "75%         252.000000          445.000000          459.250000   \n",
      "max        1555.000000         7546.000000         4365.000000   \n",
      "\n",
      "       av_rech_amt_data_8  av_rech_amt_data_9   vol_2g_mb_6  \n",
      "count         5572.000000         5572.000000   5572.000000  \n",
      "mean           288.765056          260.936246    274.188144  \n",
      "std            297.916974          293.912543    486.797443  \n",
      "min              0.000000            0.000000      0.000000  \n",
      "25%            119.000000           64.750000     14.687500  \n",
      "50%            225.000000          198.000000     80.415000  \n",
      "75%            354.000000          322.625000    351.290000  \n",
      "max           4061.000000         4061.000000  10285.900000  \n"
     ]
    }
   ],
   "source": [
    "print('Summary metrics - Numeric Variables')\n",
    "\n",
    "numeric_df = (high_val_cust.iloc[:,0:20])._get_numeric_data()\n",
    "print(numeric_df.describe())\n",
    "\n",
    "numeric_df = (high_val_cust.iloc[:,20:40])._get_numeric_data()\n",
    "print(numeric_df.describe())\n",
    "  \n",
    "numeric_df = (high_val_cust.iloc[:,40:60])._get_numeric_data()\n",
    "print(numeric_df.describe())\n",
    "\n",
    "numeric_df = (high_val_cust.iloc[:,60:80])._get_numeric_data()\n",
    "print(numeric_df.describe())\n",
    "\n",
    "numeric_df = (high_val_cust.iloc[:,80:100])._get_numeric_data()\n",
    "print(numeric_df.describe())\n",
    "\n",
    "numeric_df = (high_val_cust.iloc[:,100:120])._get_numeric_data()\n",
    "print(numeric_df.describe())\n",
    "\n",
    "numeric_df = (high_val_cust.iloc[:,120:140])._get_numeric_data()\n",
    "print(numeric_df.describe())\n",
    "\n",
    "numeric_df = (high_val_cust.iloc[:,140:160])._get_numeric_data()\n",
    "print(numeric_df.describe())"
   ]
  },
  {
   "cell_type": "code",
   "execution_count": null,
   "metadata": {},
   "outputs": [],
   "source": []
  },
  {
   "cell_type": "code",
   "execution_count": 83,
   "metadata": {},
   "outputs": [],
   "source": [
    "#EDA - Summary\n",
    "# Calls Revenue(3 columns):\n",
    "#Invalid Values : Having minimum values as negatives, indicating some customers are making loss to the company. These columns are either invalid or not adding value to our prediction, can be dropped from the dataset.\n",
    "\n",
    "#Standardise: Revenue columns can be rounded to 2 decimal places.\n",
    "\n",
    "#Minutes of usage(60+ columns):\n",
    "#Usage minutes is generally 0 except for few outliers, for below variables:\n",
    "#Roaming Incoming ISD Incoming Special Incoming Others STD incoming T2F STD outgoing T2F Outgoing Others ISD Outgoing Local Outgoing T2C (Customer care calls)\n",
    "\n",
    "#Most of the columns have outliers.\n",
    "\n",
    "# Aggregating Columns based on Incoming and Outgoing, or Aggregating based on Each Type of Incoming Calls and Outgoing Calls and looking at the metrics will give a better understanding of the data.\n",
    "\n",
    "#Recharge (12 Numeric + 3 Date columns)\n",
    "#Data Type Conversion:\n",
    "\n",
    "#Data in numeric columns are integers, so can be converted to int type.\n",
    "#Date columns need to be converted to date type\n",
    "#Data 2G And 3G(22 Columns)\n",
    "#Most of the columns have median as O and have outliers\n",
    "\n",
    "#vbc_3g columns need column renaming as it needs month to be encoded to its number.\n",
    "\n",
    "#Standardise: Columns can be rounded off to 2 decimal places.\n",
    "\n",
    "#Age on Network (1 Column)\n",
    "#Feature can be derived from AON column.\n",
    "\n",
    "#Churn (Dependent Variable)\n",
    "#There exists a Class Imbalance in the dataset, where actual churn customers are only 6% of the dataset.\n",
    "\n",
    "#Reviewing the Dropped Columns:\n",
    "#More columns will be lost because of dropping missing value columns, while it can be handled to be imputed by considered 0 as missing values follow a pattern where Calls only users have blanks for Data related columns and the vice versa.\n",
    "\n",
    "#Feature Engineering - Thoughts\n",
    "#Derive no. of years the customer is using network from AON\n",
    "#Derive fields to indicate the type of user the customer is: Uses Both Calls and Data, Only Calls, Only Data, Only Incoming calls, Only Outgoing calls, etc.\n",
    "#Bin the customers into different segments based on Service usage, Recharge amount, Usage/Recharge pattern.\n",
    "#Calls to Customer Care is a Key indicator that customer is not happy with the services, derive columns like time over call"
   ]
  },
  {
   "cell_type": "code",
   "execution_count": 138,
   "metadata": {},
   "outputs": [],
   "source": [
    "# create function to anlyze the features across 6th, 7th and 8th month\n",
    "def analyze_feature(feature_start):\n",
    "    plt.rcParams[\"figure.figsize\"] = [17, 7]\n",
    "    fig = plt.figure()\n",
    "    print(\"Churn Stats (mean and standard deviation):\")\n",
    "    cols = {c: feature_start + \"_\" + str(c) for c in [6,7,8]}\n",
    "    print(cols)\n",
    "    frame_data = []\n",
    "    [frame_data.append({\n",
    "        \"mean_6\": high_val_cust[high_val_cust[\"churn\"] == churn][cols[6]].mean(),\n",
    "        \"mean_7\": high_val_cust[high_val_cust[\"churn\"] == churn][cols[7]].mean(),\n",
    "        \"mean_8\": high_val_cust[high_val_cust[\"churn\"] == churn][cols[8]].mean(),\n",
    "        \"std_6\": high_val_cust[high_val_cust[\"churn\"] == churn][cols[6]].std(),\n",
    "        \"std_7\": high_val_cust[high_val_cust[\"churn\"] == churn][cols[7]].std(),\n",
    "        \"std_8\": high_val_cust[high_val_cust[\"churn\"] == churn][cols[8]].std()\n",
    "    }) for churn in [0,1]]\n",
    "    \n",
    "    f,axes = plt.subplots(nrows=1, ncols=3)\n",
    "    sns.boxplot(data=high_val_cust, y=feature_start + \"_6\", x=\"churn\",\n",
    "                hue=\"churn\", linewidth=2.5, showfliers=False, ax=axes[0])\n",
    "    sns.boxplot(data=high_val_cust, y=feature_start + \"_7\",  x=\"churn\",\n",
    "                hue=\"churn\", linewidth=2.5, showfliers=False, ax=axes[1])\n",
    "    sns.boxplot(data=high_val_cust, y=feature_start + \"_8\",  x=\"churn\",\n",
    "                hue=\"churn\", linewidth=2.5, showfliers=False, ax=axes[2])\n",
    "    return pd.DataFrame(frame_data,index={\"Non Churned\",\"Churned\"}).round(2)"
   ]
  },
  {
   "cell_type": "code",
   "execution_count": 139,
   "metadata": {},
   "outputs": [
    {
     "name": "stdout",
     "output_type": "stream",
     "text": [
      "Churn Stats (mean and standard deviation):\n",
      "{6: 'total_rech_amt_6', 7: 'total_rech_amt_7', 8: 'total_rech_amt_8'}\n"
     ]
    },
    {
     "data": {
      "text/html": [
       "<div>\n",
       "<style scoped>\n",
       "    .dataframe tbody tr th:only-of-type {\n",
       "        vertical-align: middle;\n",
       "    }\n",
       "\n",
       "    .dataframe tbody tr th {\n",
       "        vertical-align: top;\n",
       "    }\n",
       "\n",
       "    .dataframe thead th {\n",
       "        text-align: right;\n",
       "    }\n",
       "</style>\n",
       "<table border=\"1\" class=\"dataframe\">\n",
       "  <thead>\n",
       "    <tr style=\"text-align: right;\">\n",
       "      <th></th>\n",
       "      <th>mean_6</th>\n",
       "      <th>mean_7</th>\n",
       "      <th>mean_8</th>\n",
       "      <th>std_6</th>\n",
       "      <th>std_7</th>\n",
       "      <th>std_8</th>\n",
       "    </tr>\n",
       "  </thead>\n",
       "  <tbody>\n",
       "    <tr>\n",
       "      <th>Non Churned</th>\n",
       "      <td>772.04</td>\n",
       "      <td>792.33</td>\n",
       "      <td>713.49</td>\n",
       "      <td>597.24</td>\n",
       "      <td>617.52</td>\n",
       "      <td>621.5</td>\n",
       "    </tr>\n",
       "    <tr>\n",
       "      <th>Churned</th>\n",
       "      <td>828.83</td>\n",
       "      <td>773.61</td>\n",
       "      <td>346.47</td>\n",
       "      <td>725.09</td>\n",
       "      <td>628.48</td>\n",
       "      <td>538.0</td>\n",
       "    </tr>\n",
       "  </tbody>\n",
       "</table>\n",
       "</div>"
      ],
      "text/plain": [
       "             mean_6  mean_7  mean_8   std_6   std_7  std_8\n",
       "Non Churned  772.04  792.33  713.49  597.24  617.52  621.5\n",
       "Churned      828.83  773.61  346.47  725.09  628.48  538.0"
      ]
     },
     "execution_count": 139,
     "metadata": {},
     "output_type": "execute_result"
    },
    {
     "data": {
      "text/plain": [
       "<Figure size 1700x700 with 0 Axes>"
      ]
     },
     "metadata": {},
     "output_type": "display_data"
    },
    {
     "data": {
      "image/png": "[encoded data removed]",
      "text/plain": [
       "<Figure size 1700x700 with 3 Axes>"
      ]
     },
     "metadata": {},
     "output_type": "display_data"
    }
   ],
   "source": [
    "analyze_feature('total_rech_amt')"
   ]
  },
  {
   "cell_type": "code",
   "execution_count": 140,
   "metadata": {},
   "outputs": [
    {
     "data": {
      "text/plain": [
       "Index(['total_rech_amt_6', 'total_rech_amt_7', 'total_rech_amt_8',\n",
       "       'total_rech_amt_9', 'max_rech_amt_6', 'max_rech_amt_7',\n",
       "       'max_rech_amt_8', 'max_rech_amt_9', 'av_rech_amt_data_6',\n",
       "       'av_rech_amt_data_7', 'av_rech_amt_data_8', 'av_rech_amt_data_9',\n",
       "       'total_rech_amt_diff', 'max_rech_amt_diff', 'av_rech_amt_data_diff'],\n",
       "      dtype='object')"
      ]
     },
     "execution_count": 140,
     "metadata": {},
     "output_type": "execute_result"
    }
   ],
   "source": [
    "recharge_amnt_columns =  high_val_cust.columns[high_val_cust.columns.str.contains('rech_amt')]\n",
    "\n",
    "recharge_amnt_columns"
   ]
  },
  {
   "cell_type": "code",
   "execution_count": 141,
   "metadata": {},
   "outputs": [
    {
     "name": "stdout",
     "output_type": "stream",
     "text": [
      "Churn Stats (mean and standard deviation):\n",
      "{6: 'max_rech_amt_6', 7: 'max_rech_amt_7', 8: 'max_rech_amt_8'}\n"
     ]
    },
    {
     "data": {
      "text/html": [
       "<div>\n",
       "<style scoped>\n",
       "    .dataframe tbody tr th:only-of-type {\n",
       "        vertical-align: middle;\n",
       "    }\n",
       "\n",
       "    .dataframe tbody tr th {\n",
       "        vertical-align: top;\n",
       "    }\n",
       "\n",
       "    .dataframe thead th {\n",
       "        text-align: right;\n",
       "    }\n",
       "</style>\n",
       "<table border=\"1\" class=\"dataframe\">\n",
       "  <thead>\n",
       "    <tr style=\"text-align: right;\">\n",
       "      <th></th>\n",
       "      <th>mean_6</th>\n",
       "      <th>mean_7</th>\n",
       "      <th>mean_8</th>\n",
       "      <th>std_6</th>\n",
       "      <th>std_7</th>\n",
       "      <th>std_8</th>\n",
       "    </tr>\n",
       "  </thead>\n",
       "  <tbody>\n",
       "    <tr>\n",
       "      <th>Non Churned</th>\n",
       "      <td>189.16</td>\n",
       "      <td>197.80</td>\n",
       "      <td>189.36</td>\n",
       "      <td>184.49</td>\n",
       "      <td>205.43</td>\n",
       "      <td>193.19</td>\n",
       "    </tr>\n",
       "    <tr>\n",
       "      <th>Churned</th>\n",
       "      <td>203.40</td>\n",
       "      <td>200.78</td>\n",
       "      <td>129.64</td>\n",
       "      <td>248.43</td>\n",
       "      <td>256.10</td>\n",
       "      <td>254.17</td>\n",
       "    </tr>\n",
       "  </tbody>\n",
       "</table>\n",
       "</div>"
      ],
      "text/plain": [
       "             mean_6  mean_7  mean_8   std_6   std_7   std_8\n",
       "Non Churned  189.16  197.80  189.36  184.49  205.43  193.19\n",
       "Churned      203.40  200.78  129.64  248.43  256.10  254.17"
      ]
     },
     "execution_count": 141,
     "metadata": {},
     "output_type": "execute_result"
    },
    {
     "data": {
      "text/plain": [
       "<Figure size 1700x700 with 0 Axes>"
      ]
     },
     "metadata": {},
     "output_type": "display_data"
    },
    {
     "data": {
      "image/png": "[encoded data removed]",
      "text/plain": [
       "<Figure size 1700x700 with 3 Axes>"
      ]
     },
     "metadata": {},
     "output_type": "display_data"
    }
   ],
   "source": [
    "# let's analyze total recharge amount for data:\n",
    "analyze_feature('max_rech_amt')"
   ]
  },
  {
   "cell_type": "code",
   "execution_count": 142,
   "metadata": {},
   "outputs": [
    {
     "data": {
      "text/html": [
       "<div>\n",
       "<style scoped>\n",
       "    .dataframe tbody tr th:only-of-type {\n",
       "        vertical-align: middle;\n",
       "    }\n",
       "\n",
       "    .dataframe tbody tr th {\n",
       "        vertical-align: top;\n",
       "    }\n",
       "\n",
       "    .dataframe thead th {\n",
       "        text-align: right;\n",
       "    }\n",
       "</style>\n",
       "<table border=\"1\" class=\"dataframe\">\n",
       "  <thead>\n",
       "    <tr style=\"text-align: right;\">\n",
       "      <th>night_pck_user_8</th>\n",
       "      <th>-1.0</th>\n",
       "      <th>0.0</th>\n",
       "      <th>1.0</th>\n",
       "    </tr>\n",
       "    <tr>\n",
       "      <th>churn</th>\n",
       "      <th></th>\n",
       "      <th></th>\n",
       "      <th></th>\n",
       "    </tr>\n",
       "  </thead>\n",
       "  <tbody>\n",
       "    <tr>\n",
       "      <th>0</th>\n",
       "      <td>74.590164</td>\n",
       "      <td>97.233202</td>\n",
       "      <td>96.129032</td>\n",
       "    </tr>\n",
       "    <tr>\n",
       "      <th>1</th>\n",
       "      <td>25.409836</td>\n",
       "      <td>2.766798</td>\n",
       "      <td>3.870968</td>\n",
       "    </tr>\n",
       "  </tbody>\n",
       "</table>\n",
       "</div>"
      ],
      "text/plain": [
       "night_pck_user_8       -1.0        0.0        1.0\n",
       "churn                                            \n",
       "0                 74.590164  97.233202  96.129032\n",
       "1                 25.409836   2.766798   3.870968"
      ]
     },
     "execution_count": 142,
     "metadata": {},
     "output_type": "execute_result"
    }
   ],
   "source": [
    "pd.crosstab(high_val_cust.churn, high_val_cust.night_pck_user_8, normalize='columns')*100"
   ]
  },
  {
   "cell_type": "code",
   "execution_count": 143,
   "metadata": {},
   "outputs": [
    {
     "data": {
      "text/html": [
       "<div>\n",
       "<style scoped>\n",
       "    .dataframe tbody tr th:only-of-type {\n",
       "        vertical-align: middle;\n",
       "    }\n",
       "\n",
       "    .dataframe tbody tr th {\n",
       "        vertical-align: top;\n",
       "    }\n",
       "\n",
       "    .dataframe thead th {\n",
       "        text-align: right;\n",
       "    }\n",
       "</style>\n",
       "<table border=\"1\" class=\"dataframe\">\n",
       "  <thead>\n",
       "    <tr style=\"text-align: right;\">\n",
       "      <th>sachet_3g_8</th>\n",
       "      <th>0.0</th>\n",
       "      <th>1.0</th>\n",
       "      <th>2.0</th>\n",
       "      <th>3.0</th>\n",
       "      <th>4.0</th>\n",
       "      <th>5.0</th>\n",
       "      <th>6.0</th>\n",
       "      <th>7.0</th>\n",
       "      <th>8.0</th>\n",
       "      <th>9.0</th>\n",
       "      <th>...</th>\n",
       "      <th>18.0</th>\n",
       "      <th>19.0</th>\n",
       "      <th>20.0</th>\n",
       "      <th>21.0</th>\n",
       "      <th>23.0</th>\n",
       "      <th>25.0</th>\n",
       "      <th>29.0</th>\n",
       "      <th>30.0</th>\n",
       "      <th>38.0</th>\n",
       "      <th>41.0</th>\n",
       "    </tr>\n",
       "    <tr>\n",
       "      <th>churn</th>\n",
       "      <th></th>\n",
       "      <th></th>\n",
       "      <th></th>\n",
       "      <th></th>\n",
       "      <th></th>\n",
       "      <th></th>\n",
       "      <th></th>\n",
       "      <th></th>\n",
       "      <th></th>\n",
       "      <th></th>\n",
       "      <th></th>\n",
       "      <th></th>\n",
       "      <th></th>\n",
       "      <th></th>\n",
       "      <th></th>\n",
       "      <th></th>\n",
       "      <th></th>\n",
       "      <th></th>\n",
       "      <th></th>\n",
       "      <th></th>\n",
       "      <th></th>\n",
       "    </tr>\n",
       "  </thead>\n",
       "  <tbody>\n",
       "    <tr>\n",
       "      <th>0</th>\n",
       "      <td>4154</td>\n",
       "      <td>565</td>\n",
       "      <td>172</td>\n",
       "      <td>90</td>\n",
       "      <td>67</td>\n",
       "      <td>65</td>\n",
       "      <td>38</td>\n",
       "      <td>27</td>\n",
       "      <td>21</td>\n",
       "      <td>15</td>\n",
       "      <td>...</td>\n",
       "      <td>2</td>\n",
       "      <td>1</td>\n",
       "      <td>3</td>\n",
       "      <td>3</td>\n",
       "      <td>2</td>\n",
       "      <td>1</td>\n",
       "      <td>1</td>\n",
       "      <td>1</td>\n",
       "      <td>1</td>\n",
       "      <td>1</td>\n",
       "    </tr>\n",
       "    <tr>\n",
       "      <th>1</th>\n",
       "      <td>259</td>\n",
       "      <td>19</td>\n",
       "      <td>0</td>\n",
       "      <td>5</td>\n",
       "      <td>4</td>\n",
       "      <td>2</td>\n",
       "      <td>1</td>\n",
       "      <td>0</td>\n",
       "      <td>2</td>\n",
       "      <td>0</td>\n",
       "      <td>...</td>\n",
       "      <td>0</td>\n",
       "      <td>0</td>\n",
       "      <td>0</td>\n",
       "      <td>0</td>\n",
       "      <td>0</td>\n",
       "      <td>0</td>\n",
       "      <td>0</td>\n",
       "      <td>0</td>\n",
       "      <td>0</td>\n",
       "      <td>0</td>\n",
       "    </tr>\n",
       "  </tbody>\n",
       "</table>\n",
       "<p>2 rows × 28 columns</p>\n",
       "</div>"
      ],
      "text/plain": [
       "sachet_3g_8  0.0   1.0   2.0   3.0   4.0   5.0   6.0   7.0   8.0   9.0   ...  \\\n",
       "churn                                                                    ...   \n",
       "0            4154   565   172    90    67    65    38    27    21    15  ...   \n",
       "1             259    19     0     5     4     2     1     0     2     0  ...   \n",
       "\n",
       "sachet_3g_8  18.0  19.0  20.0  21.0  23.0  25.0  29.0  30.0  38.0  41.0  \n",
       "churn                                                                    \n",
       "0               2     1     3     3     2     1     1     1     1     1  \n",
       "1               0     0     0     0     0     0     0     0     0     0  \n",
       "\n",
       "[2 rows x 28 columns]"
      ]
     },
     "execution_count": 143,
     "metadata": {},
     "output_type": "execute_result"
    }
   ],
   "source": [
    "pd.crosstab(high_val_cust.churn, high_val_cust.sachet_3g_8)"
   ]
  },
  {
   "cell_type": "code",
   "execution_count": 144,
   "metadata": {},
   "outputs": [],
   "source": [
    "def cap_outliers(array, k=3):\n",
    "    upper_limit = array.mean() + k*array.std()\n",
    "    lower_limit = array.mean() - k*array.std()\n",
    "    array[array<lower_limit] = lower_limit\n",
    "    array[array>upper_limit] = upper_limit\n",
    "    return array"
   ]
  },
  {
   "cell_type": "code",
   "execution_count": 145,
   "metadata": {},
   "outputs": [
    {
     "name": "stdout",
     "output_type": "stream",
     "text": [
      "Array after capping outliers: \n",
      " [-2780     1     2     3     4     5     6     7     8     9    10    11\n",
      "    12    13    14    15    16    17    18    19    20    21    22    23\n",
      "    24    25    26    27    28    29    30    31    32    33    34    35\n",
      "    36    37    38    39    40    41    42    43    44    45    46    47\n",
      "    48    49    50    51    52    53    54    55    56    57    58    59\n",
      "    60    61    62    63    64    65    66    67    68    69    70    71\n",
      "    72    73    74    75    76    77    78    79    80    81    82    83\n",
      "    84    85    86    87    88    89    90    91    92    93    94    95\n",
      "    96    97    98  2877]\n"
     ]
    }
   ],
   "source": [
    "# example of capping\n",
    "sample_array = list(range(100))\n",
    "\n",
    "# add outliers to the data\n",
    "sample_array[0] = -9999\n",
    "sample_array[99] = 9999\n",
    "\n",
    "# cap outliers\n",
    "sample_array = np.array(sample_array)\n",
    "print(\"Array after capping outliers: \\n\", cap_outliers(sample_array, k=2))"
   ]
  },
  {
   "cell_type": "code",
   "execution_count": 146,
   "metadata": {},
   "outputs": [],
   "source": [
    "# cap outliers in the numeric columns\n",
    "high_val_cust[num_cols] = high_val_cust[num_cols].apply(cap_outliers, axis=0)"
   ]
  },
  {
   "cell_type": "code",
   "execution_count": 147,
   "metadata": {},
   "outputs": [
    {
     "data": {
      "text/html": [
       "<div>\n",
       "<style scoped>\n",
       "    .dataframe tbody tr th:only-of-type {\n",
       "        vertical-align: middle;\n",
       "    }\n",
       "\n",
       "    .dataframe tbody tr th {\n",
       "        vertical-align: top;\n",
       "    }\n",
       "\n",
       "    .dataframe thead th {\n",
       "        text-align: right;\n",
       "    }\n",
       "</style>\n",
       "<table border=\"1\" class=\"dataframe\">\n",
       "  <thead>\n",
       "    <tr style=\"text-align: right;\">\n",
       "      <th></th>\n",
       "      <th>loc_og_t2o_mou</th>\n",
       "      <th>std_og_t2o_mou</th>\n",
       "      <th>loc_ic_t2o_mou</th>\n",
       "      <th>arpu_6</th>\n",
       "      <th>arpu_7</th>\n",
       "      <th>arpu_8</th>\n",
       "      <th>arpu_9</th>\n",
       "      <th>onnet_mou_6</th>\n",
       "      <th>onnet_mou_7</th>\n",
       "      <th>onnet_mou_8</th>\n",
       "      <th>...</th>\n",
       "      <th>spl_ic_mou_diff</th>\n",
       "      <th>total_ic_mou_diff</th>\n",
       "      <th>total_rech_num_diff</th>\n",
       "      <th>total_rech_amt_diff</th>\n",
       "      <th>max_rech_amt_diff</th>\n",
       "      <th>total_rech_data_diff</th>\n",
       "      <th>max_rech_data_diff</th>\n",
       "      <th>av_rech_amt_data_diff</th>\n",
       "      <th>vol_2g_mb_diff</th>\n",
       "      <th>vol_3g_mb_diff</th>\n",
       "    </tr>\n",
       "  </thead>\n",
       "  <tbody>\n",
       "    <tr>\n",
       "      <th>count</th>\n",
       "      <td>5572.0</td>\n",
       "      <td>5572.0</td>\n",
       "      <td>5572.0</td>\n",
       "      <td>5572.000000</td>\n",
       "      <td>5572.000000</td>\n",
       "      <td>5572.000000</td>\n",
       "      <td>5572.000000</td>\n",
       "      <td>5572.000000</td>\n",
       "      <td>5572.000000</td>\n",
       "      <td>5572.000000</td>\n",
       "      <td>...</td>\n",
       "      <td>5572.000000</td>\n",
       "      <td>5572.000000</td>\n",
       "      <td>5572.000000</td>\n",
       "      <td>5572.000000</td>\n",
       "      <td>5572.000000</td>\n",
       "      <td>5572.000000</td>\n",
       "      <td>5572.000000</td>\n",
       "      <td>5572.000000</td>\n",
       "      <td>5572.000000</td>\n",
       "      <td>5572.000000</td>\n",
       "    </tr>\n",
       "    <tr>\n",
       "      <th>mean</th>\n",
       "      <td>0.0</td>\n",
       "      <td>0.0</td>\n",
       "      <td>0.0</td>\n",
       "      <td>653.480830</td>\n",
       "      <td>665.109410</td>\n",
       "      <td>593.042781</td>\n",
       "      <td>550.221544</td>\n",
       "      <td>170.343058</td>\n",
       "      <td>174.660746</td>\n",
       "      <td>157.294195</td>\n",
       "      <td>...</td>\n",
       "      <td>-0.011081</td>\n",
       "      <td>-8.425899</td>\n",
       "      <td>-2.382238</td>\n",
       "      <td>-89.728382</td>\n",
       "      <td>-7.044278</td>\n",
       "      <td>-0.989574</td>\n",
       "      <td>-16.832657</td>\n",
       "      <td>-64.958925</td>\n",
       "      <td>-54.590640</td>\n",
       "      <td>-101.711322</td>\n",
       "    </tr>\n",
       "    <tr>\n",
       "      <th>std</th>\n",
       "      <td>0.0</td>\n",
       "      <td>0.0</td>\n",
       "      <td>0.0</td>\n",
       "      <td>461.059918</td>\n",
       "      <td>469.074227</td>\n",
       "      <td>477.604574</td>\n",
       "      <td>473.924772</td>\n",
       "      <td>309.871103</td>\n",
       "      <td>327.812005</td>\n",
       "      <td>297.469567</td>\n",
       "      <td>...</td>\n",
       "      <td>0.119853</td>\n",
       "      <td>188.746181</td>\n",
       "      <td>6.010715</td>\n",
       "      <td>389.686627</td>\n",
       "      <td>102.431025</td>\n",
       "      <td>3.211192</td>\n",
       "      <td>88.355627</td>\n",
       "      <td>219.347634</td>\n",
       "      <td>289.810481</td>\n",
       "      <td>887.397541</td>\n",
       "    </tr>\n",
       "    <tr>\n",
       "      <th>min</th>\n",
       "      <td>0.0</td>\n",
       "      <td>0.0</td>\n",
       "      <td>0.0</td>\n",
       "      <td>0.000000</td>\n",
       "      <td>-0.172000</td>\n",
       "      <td>-17.854000</td>\n",
       "      <td>-43.500000</td>\n",
       "      <td>0.000000</td>\n",
       "      <td>0.000000</td>\n",
       "      <td>0.000000</td>\n",
       "      <td>...</td>\n",
       "      <td>-0.912057</td>\n",
       "      <td>-720.795777</td>\n",
       "      <td>-22.415485</td>\n",
       "      <td>-1391.360118</td>\n",
       "      <td>-404.378676</td>\n",
       "      <td>-11.933422</td>\n",
       "      <td>-328.404811</td>\n",
       "      <td>-794.322337</td>\n",
       "      <td>-1145.401938</td>\n",
       "      <td>-3389.414525</td>\n",
       "    </tr>\n",
       "    <tr>\n",
       "      <th>1%</th>\n",
       "      <td>0.0</td>\n",
       "      <td>0.0</td>\n",
       "      <td>0.0</td>\n",
       "      <td>61.834490</td>\n",
       "      <td>67.232220</td>\n",
       "      <td>0.000000</td>\n",
       "      <td>0.000000</td>\n",
       "      <td>0.000000</td>\n",
       "      <td>0.000000</td>\n",
       "      <td>0.000000</td>\n",
       "      <td>...</td>\n",
       "      <td>-0.376450</td>\n",
       "      <td>-720.795777</td>\n",
       "      <td>-21.500000</td>\n",
       "      <td>-1359.870000</td>\n",
       "      <td>-404.378676</td>\n",
       "      <td>-11.145000</td>\n",
       "      <td>-328.404811</td>\n",
       "      <td>-785.835000</td>\n",
       "      <td>-1145.401938</td>\n",
       "      <td>-3389.414525</td>\n",
       "    </tr>\n",
       "    <tr>\n",
       "      <th>10%</th>\n",
       "      <td>0.0</td>\n",
       "      <td>0.0</td>\n",
       "      <td>0.0</td>\n",
       "      <td>168.375800</td>\n",
       "      <td>178.373200</td>\n",
       "      <td>113.896200</td>\n",
       "      <td>56.391000</td>\n",
       "      <td>0.000000</td>\n",
       "      <td>0.000000</td>\n",
       "      <td>0.000000</td>\n",
       "      <td>...</td>\n",
       "      <td>-0.115000</td>\n",
       "      <td>-175.970500</td>\n",
       "      <td>-9.000000</td>\n",
       "      <td>-534.900000</td>\n",
       "      <td>-104.000000</td>\n",
       "      <td>-5.000000</td>\n",
       "      <td>-130.500000</td>\n",
       "      <td>-302.900000</td>\n",
       "      <td>-353.803500</td>\n",
       "      <td>-1000.888000</td>\n",
       "    </tr>\n",
       "    <tr>\n",
       "      <th>25%</th>\n",
       "      <td>0.0</td>\n",
       "      <td>0.0</td>\n",
       "      <td>0.0</td>\n",
       "      <td>294.649250</td>\n",
       "      <td>294.440250</td>\n",
       "      <td>230.646500</td>\n",
       "      <td>200.308500</td>\n",
       "      <td>6.137500</td>\n",
       "      <td>5.382500</td>\n",
       "      <td>4.510000</td>\n",
       "      <td>...</td>\n",
       "      <td>0.000000</td>\n",
       "      <td>-58.672500</td>\n",
       "      <td>-5.500000</td>\n",
       "      <td>-256.000000</td>\n",
       "      <td>-36.000000</td>\n",
       "      <td>-2.500000</td>\n",
       "      <td>-27.000000</td>\n",
       "      <td>-166.625000</td>\n",
       "      <td>-108.647500</td>\n",
       "      <td>-369.430000</td>\n",
       "    </tr>\n",
       "    <tr>\n",
       "      <th>50%</th>\n",
       "      <td>0.0</td>\n",
       "      <td>0.0</td>\n",
       "      <td>0.0</td>\n",
       "      <td>550.466000</td>\n",
       "      <td>565.459000</td>\n",
       "      <td>462.343500</td>\n",
       "      <td>426.981500</td>\n",
       "      <td>42.485000</td>\n",
       "      <td>40.635000</td>\n",
       "      <td>37.725000</td>\n",
       "      <td>...</td>\n",
       "      <td>0.000000</td>\n",
       "      <td>-2.582500</td>\n",
       "      <td>-2.500000</td>\n",
       "      <td>-69.000000</td>\n",
       "      <td>0.000000</td>\n",
       "      <td>-0.500000</td>\n",
       "      <td>0.000000</td>\n",
       "      <td>-60.000000</td>\n",
       "      <td>-10.602500</td>\n",
       "      <td>0.000000</td>\n",
       "    </tr>\n",
       "    <tr>\n",
       "      <th>75%</th>\n",
       "      <td>0.0</td>\n",
       "      <td>0.0</td>\n",
       "      <td>0.0</td>\n",
       "      <td>890.414750</td>\n",
       "      <td>903.781000</td>\n",
       "      <td>830.591750</td>\n",
       "      <td>781.538000</td>\n",
       "      <td>168.145000</td>\n",
       "      <td>167.172500</td>\n",
       "      <td>151.887500</td>\n",
       "      <td>...</td>\n",
       "      <td>0.000000</td>\n",
       "      <td>45.666250</td>\n",
       "      <td>0.500000</td>\n",
       "      <td>84.125000</td>\n",
       "      <td>22.000000</td>\n",
       "      <td>0.500000</td>\n",
       "      <td>1.000000</td>\n",
       "      <td>34.000000</td>\n",
       "      <td>17.943750</td>\n",
       "      <td>116.573750</td>\n",
       "    </tr>\n",
       "    <tr>\n",
       "      <th>90%</th>\n",
       "      <td>0.0</td>\n",
       "      <td>0.0</td>\n",
       "      <td>0.0</td>\n",
       "      <td>1276.042100</td>\n",
       "      <td>1303.460000</td>\n",
       "      <td>1267.560800</td>\n",
       "      <td>1211.347400</td>\n",
       "      <td>509.768000</td>\n",
       "      <td>515.258000</td>\n",
       "      <td>456.808000</td>\n",
       "      <td>...</td>\n",
       "      <td>0.000000</td>\n",
       "      <td>149.312000</td>\n",
       "      <td>4.000000</td>\n",
       "      <td>326.350000</td>\n",
       "      <td>85.000000</td>\n",
       "      <td>2.500000</td>\n",
       "      <td>57.950000</td>\n",
       "      <td>170.000000</td>\n",
       "      <td>140.695000</td>\n",
       "      <td>680.940000</td>\n",
       "    </tr>\n",
       "    <tr>\n",
       "      <th>95%</th>\n",
       "      <td>0.0</td>\n",
       "      <td>0.0</td>\n",
       "      <td>0.0</td>\n",
       "      <td>1584.288700</td>\n",
       "      <td>1622.810500</td>\n",
       "      <td>1563.845100</td>\n",
       "      <td>1519.888250</td>\n",
       "      <td>894.059500</td>\n",
       "      <td>967.360000</td>\n",
       "      <td>802.339000</td>\n",
       "      <td>...</td>\n",
       "      <td>0.160000</td>\n",
       "      <td>278.546250</td>\n",
       "      <td>7.500000</td>\n",
       "      <td>530.675000</td>\n",
       "      <td>140.225000</td>\n",
       "      <td>4.000000</td>\n",
       "      <td>105.500000</td>\n",
       "      <td>282.409250</td>\n",
       "      <td>338.502000</td>\n",
       "      <td>1252.891750</td>\n",
       "    </tr>\n",
       "    <tr>\n",
       "      <th>99%</th>\n",
       "      <td>0.0</td>\n",
       "      <td>0.0</td>\n",
       "      <td>0.0</td>\n",
       "      <td>2172.096119</td>\n",
       "      <td>2217.979547</td>\n",
       "      <td>2174.208395</td>\n",
       "      <td>2130.811828</td>\n",
       "      <td>1475.681615</td>\n",
       "      <td>1622.216139</td>\n",
       "      <td>1492.553289</td>\n",
       "      <td>...</td>\n",
       "      <td>0.460000</td>\n",
       "      <td>704.201838</td>\n",
       "      <td>16.500000</td>\n",
       "      <td>1128.725000</td>\n",
       "      <td>358.610000</td>\n",
       "      <td>9.000000</td>\n",
       "      <td>227.000000</td>\n",
       "      <td>632.290000</td>\n",
       "      <td>1013.700800</td>\n",
       "      <td>3109.151400</td>\n",
       "    </tr>\n",
       "    <tr>\n",
       "      <th>max</th>\n",
       "      <td>0.0</td>\n",
       "      <td>0.0</td>\n",
       "      <td>0.0</td>\n",
       "      <td>2172.096119</td>\n",
       "      <td>2217.979547</td>\n",
       "      <td>2174.208395</td>\n",
       "      <td>2130.811828</td>\n",
       "      <td>1475.681615</td>\n",
       "      <td>1622.216139</td>\n",
       "      <td>1492.553289</td>\n",
       "      <td>...</td>\n",
       "      <td>0.880519</td>\n",
       "      <td>704.201838</td>\n",
       "      <td>17.693842</td>\n",
       "      <td>1213.236105</td>\n",
       "      <td>388.913134</td>\n",
       "      <td>10.008619</td>\n",
       "      <td>292.076383</td>\n",
       "      <td>664.112215</td>\n",
       "      <td>1035.697795</td>\n",
       "      <td>3182.924630</td>\n",
       "    </tr>\n",
       "  </tbody>\n",
       "</table>\n",
       "<p>13 rows × 213 columns</p>\n",
       "</div>"
      ],
      "text/plain": [
       "       loc_og_t2o_mou  std_og_t2o_mou  loc_ic_t2o_mou       arpu_6  \\\n",
       "count          5572.0          5572.0          5572.0  5572.000000   \n",
       "mean              0.0             0.0             0.0   653.480830   \n",
       "std               0.0             0.0             0.0   461.059918   \n",
       "min               0.0             0.0             0.0     0.000000   \n",
       "1%                0.0             0.0             0.0    61.834490   \n",
       "10%               0.0             0.0             0.0   168.375800   \n",
       "25%               0.0             0.0             0.0   294.649250   \n",
       "50%               0.0             0.0             0.0   550.466000   \n",
       "75%               0.0             0.0             0.0   890.414750   \n",
       "90%               0.0             0.0             0.0  1276.042100   \n",
       "95%               0.0             0.0             0.0  1584.288700   \n",
       "99%               0.0             0.0             0.0  2172.096119   \n",
       "max               0.0             0.0             0.0  2172.096119   \n",
       "\n",
       "            arpu_7       arpu_8       arpu_9  onnet_mou_6  onnet_mou_7  \\\n",
       "count  5572.000000  5572.000000  5572.000000  5572.000000  5572.000000   \n",
       "mean    665.109410   593.042781   550.221544   170.343058   174.660746   \n",
       "std     469.074227   477.604574   473.924772   309.871103   327.812005   \n",
       "min      -0.172000   -17.854000   -43.500000     0.000000     0.000000   \n",
       "1%       67.232220     0.000000     0.000000     0.000000     0.000000   \n",
       "10%     178.373200   113.896200    56.391000     0.000000     0.000000   \n",
       "25%     294.440250   230.646500   200.308500     6.137500     5.382500   \n",
       "50%     565.459000   462.343500   426.981500    42.485000    40.635000   \n",
       "75%     903.781000   830.591750   781.538000   168.145000   167.172500   \n",
       "90%    1303.460000  1267.560800  1211.347400   509.768000   515.258000   \n",
       "95%    1622.810500  1563.845100  1519.888250   894.059500   967.360000   \n",
       "99%    2217.979547  2174.208395  2130.811828  1475.681615  1622.216139   \n",
       "max    2217.979547  2174.208395  2130.811828  1475.681615  1622.216139   \n",
       "\n",
       "       onnet_mou_8  ...  spl_ic_mou_diff  total_ic_mou_diff  \\\n",
       "count  5572.000000  ...      5572.000000        5572.000000   \n",
       "mean    157.294195  ...        -0.011081          -8.425899   \n",
       "std     297.469567  ...         0.119853         188.746181   \n",
       "min       0.000000  ...        -0.912057        -720.795777   \n",
       "1%        0.000000  ...        -0.376450        -720.795777   \n",
       "10%       0.000000  ...        -0.115000        -175.970500   \n",
       "25%       4.510000  ...         0.000000         -58.672500   \n",
       "50%      37.725000  ...         0.000000          -2.582500   \n",
       "75%     151.887500  ...         0.000000          45.666250   \n",
       "90%     456.808000  ...         0.000000         149.312000   \n",
       "95%     802.339000  ...         0.160000         278.546250   \n",
       "99%    1492.553289  ...         0.460000         704.201838   \n",
       "max    1492.553289  ...         0.880519         704.201838   \n",
       "\n",
       "       total_rech_num_diff  total_rech_amt_diff  max_rech_amt_diff  \\\n",
       "count          5572.000000          5572.000000        5572.000000   \n",
       "mean             -2.382238           -89.728382          -7.044278   \n",
       "std               6.010715           389.686627         102.431025   \n",
       "min             -22.415485         -1391.360118        -404.378676   \n",
       "1%              -21.500000         -1359.870000        -404.378676   \n",
       "10%              -9.000000          -534.900000        -104.000000   \n",
       "25%              -5.500000          -256.000000         -36.000000   \n",
       "50%              -2.500000           -69.000000           0.000000   \n",
       "75%               0.500000            84.125000          22.000000   \n",
       "90%               4.000000           326.350000          85.000000   \n",
       "95%               7.500000           530.675000         140.225000   \n",
       "99%              16.500000          1128.725000         358.610000   \n",
       "max              17.693842          1213.236105         388.913134   \n",
       "\n",
       "       total_rech_data_diff  max_rech_data_diff  av_rech_amt_data_diff  \\\n",
       "count           5572.000000         5572.000000            5572.000000   \n",
       "mean              -0.989574          -16.832657             -64.958925   \n",
       "std                3.211192           88.355627             219.347634   \n",
       "min              -11.933422         -328.404811            -794.322337   \n",
       "1%               -11.145000         -328.404811            -785.835000   \n",
       "10%               -5.000000         -130.500000            -302.900000   \n",
       "25%               -2.500000          -27.000000            -166.625000   \n",
       "50%               -0.500000            0.000000             -60.000000   \n",
       "75%                0.500000            1.000000              34.000000   \n",
       "90%                2.500000           57.950000             170.000000   \n",
       "95%                4.000000          105.500000             282.409250   \n",
       "99%                9.000000          227.000000             632.290000   \n",
       "max               10.008619          292.076383             664.112215   \n",
       "\n",
       "       vol_2g_mb_diff  vol_3g_mb_diff  \n",
       "count     5572.000000     5572.000000  \n",
       "mean       -54.590640     -101.711322  \n",
       "std        289.810481      887.397541  \n",
       "min      -1145.401938    -3389.414525  \n",
       "1%       -1145.401938    -3389.414525  \n",
       "10%       -353.803500    -1000.888000  \n",
       "25%       -108.647500     -369.430000  \n",
       "50%        -10.602500        0.000000  \n",
       "75%         17.943750      116.573750  \n",
       "90%        140.695000      680.940000  \n",
       "95%        338.502000     1252.891750  \n",
       "99%       1013.700800     3109.151400  \n",
       "max       1035.697795     3182.924630  \n",
       "\n",
       "[13 rows x 213 columns]"
      ]
     },
     "execution_count": 147,
     "metadata": {},
     "output_type": "execute_result"
    }
   ],
   "source": [
    "high_val_cust.describe(percentiles=[0.01, 0.10,.25,.5,.75,.90,.95,.99])"
   ]
  },
  {
   "cell_type": "code",
   "execution_count": 148,
   "metadata": {},
   "outputs": [],
   "source": [
    "#building the model now\n",
    "\n",
    "# got numeric from\n",
    "high_val_cust['churn'] = pd.to_numeric(high_val_cust['churn'])"
   ]
  },
  {
   "cell_type": "code",
   "execution_count": 149,
   "metadata": {},
   "outputs": [],
   "source": [
    "X = high_val_cust.drop(\"churn\", axis = 1)\n",
    "y = high_val_cust.churn\n",
    "X_train, X_test, y_train, y_test = train_test_split(X, y, test_size = 0.25, random_state = 4, stratify = y)"
   ]
  },
  {
   "cell_type": "code",
   "execution_count": 150,
   "metadata": {},
   "outputs": [
    {
     "data": {
      "text/plain": [
       "fb_user_8\n",
       "-1.0    0.262806\n",
       "0.0     0.068493\n",
       "1.0     0.026798\n",
       "Name: churn, dtype: float64"
      ]
     },
     "execution_count": 150,
     "metadata": {},
     "output_type": "execute_result"
    }
   ],
   "source": [
    "train = pd.concat([X_train, y_train], axis=1)\n",
    "\n",
    "# aggregate the categorical variables\n",
    "train.groupby('night_pck_user_6').churn.mean()\n",
    "train.groupby('night_pck_user_7').churn.mean()\n",
    "train.groupby('night_pck_user_8').churn.mean()\n",
    "train.groupby('fb_user_6').churn.mean()\n",
    "train.groupby('fb_user_7').churn.mean()\n",
    "train.groupby('fb_user_8').churn.mean()"
   ]
  },
  {
   "cell_type": "code",
   "execution_count": 151,
   "metadata": {},
   "outputs": [
    {
     "data": {
      "text/plain": [
       "(1393,)"
      ]
     },
     "execution_count": 151,
     "metadata": {},
     "output_type": "execute_result"
    }
   ],
   "source": [
    "y_test.shape"
   ]
  },
  {
   "cell_type": "code",
   "execution_count": 152,
   "metadata": {},
   "outputs": [
    {
     "data": {
      "text/plain": [
       "(4179,)"
      ]
     },
     "execution_count": 152,
     "metadata": {},
     "output_type": "execute_result"
    }
   ],
   "source": [
    " y_train.shape"
   ]
  },
  {
   "cell_type": "code",
   "execution_count": 153,
   "metadata": {},
   "outputs": [
    {
     "data": {
      "text/plain": [
       "(4179, 219)"
      ]
     },
     "execution_count": 153,
     "metadata": {},
     "output_type": "execute_result"
    }
   ],
   "source": [
    "X_train.shape"
   ]
  },
  {
   "cell_type": "code",
   "execution_count": 154,
   "metadata": {},
   "outputs": [
    {
     "data": {
      "text/plain": [
       "(1393, 219)"
      ]
     },
     "execution_count": 154,
     "metadata": {},
     "output_type": "execute_result"
    }
   ],
   "source": [
    "X_test.shape"
   ]
  },
  {
   "cell_type": "code",
   "execution_count": 155,
   "metadata": {},
   "outputs": [],
   "source": [
    "# replace categories with aggregated values\n",
    "mapping = {'night_pck_user_6' : {-1: 0.099165, 0: 0.066797, 1: 0.087838},\n",
    "           'night_pck_user_7' : {-1: 0.115746, 0: 0.055494, 1: 0.051282},\n",
    "           'night_pck_user_8' : {-1: 0.141108, 0: 0.029023, 1: 0.016194},\n",
    "           'fb_user_6'        : {-1: 0.099165, 0: 0.069460, 1: 0.067124},\n",
    "           'fb_user_7'        : {-1: 0.115746, 0: 0.059305, 1: 0.055082},\n",
    "           'fb_user_8'        : {-1: 0.141108, 0: 0.066887, 1: 0.024463}\n",
    "          }\n",
    "X_train.replace(mapping, inplace = True)\n",
    "X_test.replace(mapping, inplace = True)"
   ]
  },
  {
   "cell_type": "code",
   "execution_count": 156,
   "metadata": {},
   "outputs": [
    {
     "name": "stdout",
     "output_type": "stream",
     "text": [
      "<class 'pandas.core.frame.DataFrame'>\n",
      "Int64Index: 4179 entries, 3822 to 1584\n",
      "Data columns (total 6 columns):\n",
      " #   Column            Non-Null Count  Dtype   \n",
      "---  ------            --------------  -----   \n",
      " 0   night_pck_user_6  4179 non-null   category\n",
      " 1   night_pck_user_7  4179 non-null   category\n",
      " 2   night_pck_user_8  4179 non-null   category\n",
      " 3   fb_user_6         4179 non-null   category\n",
      " 4   fb_user_7         4179 non-null   category\n",
      " 5   fb_user_8         4179 non-null   category\n",
      "dtypes: category(6)\n",
      "memory usage: 57.9 KB\n"
     ]
    }
   ],
   "source": [
    "#datatypes \n",
    "X_train[[col for col in cat_cols if col not in ['churn']]].info()"
   ]
  },
  {
   "cell_type": "markdown",
   "metadata": {},
   "source": [
    "# PCA"
   ]
  },
  {
   "cell_type": "code",
   "execution_count": 157,
   "metadata": {},
   "outputs": [
    {
     "data": {
      "text/plain": [
       "loc_og_t2o_mou      0.0\n",
       "max_rech_data_6     0.0\n",
       "max_rech_amt_7      0.0\n",
       "max_rech_amt_8      0.0\n",
       "max_rech_amt_9      0.0\n",
       "                   ... \n",
       "total_og_mou_7      0.0\n",
       "total_og_mou_8      0.0\n",
       "total_og_mou_9      0.0\n",
       "loc_ic_t2t_mou_6    0.0\n",
       "vol_3g_mb_diff      0.0\n",
       "Length: 220, dtype: float64"
      ]
     },
     "execution_count": 157,
     "metadata": {},
     "output_type": "execute_result"
    }
   ],
   "source": [
    "(high_val_cust.isnull().sum()*100/high_val_cust.shape[0]).sort_values(ascending=False)"
   ]
  },
  {
   "cell_type": "code",
   "execution_count": 158,
   "metadata": {},
   "outputs": [],
   "source": [
    "# apply pca to train data\n",
    "pca = Pipeline([('scaler', StandardScaler()), ('pca', PCA())])"
   ]
  },
  {
   "cell_type": "code",
   "execution_count": 159,
   "metadata": {},
   "outputs": [],
   "source": [
    "pca.fit(X_train)\n",
    "churn_pca = pca.fit_transform(X_train)"
   ]
  },
  {
   "cell_type": "code",
   "execution_count": 107,
   "metadata": {
    "scrolled": true
   },
   "outputs": [
    {
     "name": "stdout",
     "output_type": "stream",
     "text": [
      "0       11.51\n",
      "1       21.20\n",
      "2       27.00\n",
      "3       31.55\n",
      "4       35.25\n",
      "5       38.77\n",
      "6       41.42\n",
      "7       43.63\n",
      "8       45.74\n",
      "9       47.81\n",
      "10      49.78\n",
      "11      51.64\n",
      "12      53.32\n",
      "13      54.84\n",
      "14      56.33\n",
      "15      57.75\n",
      "16      59.07\n",
      "17      60.34\n",
      "18      61.50\n",
      "19      62.63\n",
      "20      63.73\n",
      "21      64.80\n",
      "22      65.79\n",
      "23      66.76\n",
      "24      67.68\n",
      "25      68.57\n",
      "26      69.43\n",
      "27      70.28\n",
      "28      71.12\n",
      "29      71.94\n",
      "        ...  \n",
      "189     99.96\n",
      "190     99.96\n",
      "191     99.97\n",
      "192     99.97\n",
      "193     99.97\n",
      "194     99.98\n",
      "195     99.98\n",
      "196     99.98\n",
      "197     99.98\n",
      "198     99.99\n",
      "199     99.99\n",
      "200     99.99\n",
      "201     99.99\n",
      "202     99.99\n",
      "203    100.00\n",
      "204    100.00\n",
      "205    100.00\n",
      "206    100.00\n",
      "207    100.00\n",
      "208    100.00\n",
      "209    100.00\n",
      "210    100.00\n",
      "211    100.00\n",
      "212    100.00\n",
      "213    100.00\n",
      "214    100.00\n",
      "215    100.00\n",
      "216    100.00\n",
      "217    100.00\n",
      "218    100.00\n",
      "Length: 219, dtype: float64\n"
     ]
    }
   ],
   "source": [
    "# extract pca model from pipeline\n",
    "pca = pca.named_steps['pca']\n",
    "\n",
    "# look at explainded variance of PCA components\n",
    "print(pd.Series(np.round(pca.explained_variance_ratio_.cumsum(), 4)*100))"
   ]
  },
  {
   "cell_type": "code",
   "execution_count": 167,
   "metadata": {
    "scrolled": false
   },
   "outputs": [
    {
     "data": {
      "text/plain": [
       "[<matplotlib.lines.Line2D at 0x7f938a1f5880>]"
      ]
     },
     "execution_count": 167,
     "metadata": {},
     "output_type": "execute_result"
    },
    {
     "data": {
      "image/png": "[encoded data removed]",
      "text/plain": [
       "<Figure size 875x500 with 1 Axes>"
      ]
     },
     "metadata": {},
     "output_type": "display_data"
    }
   ],
   "source": [
    "# plot feature variance\n",
    "features = range(pca.n_components_)\n",
    "cumulative_variance = np.round(np.cumsum(pca.explained_variance_ratio_)*100, decimals=4)\n",
    "plt.figure(figsize=(175/20,100/20)) # 100 elements on y-axis; 175 elements on x-axis; 20 is normalising factor\n",
    "plt.plot(cumulative_variance)"
   ]
  },
  {
   "cell_type": "code",
   "execution_count": 170,
   "metadata": {},
   "outputs": [],
   "source": [
    "# create pipeline\n",
    "PCA_VARS = 60\n",
    "steps = [('scaler', StandardScaler()),(\"pca\", PCA(n_components=PCA_VARS)),(\"logistic\", LogisticRegression(class_weight='balanced'))]\n",
    "pipeline = Pipeline(steps)"
   ]
  },
  {
   "cell_type": "code",
   "execution_count": 171,
   "metadata": {
    "scrolled": true
   },
   "outputs": [
    {
     "data": {
      "text/plain": [
       "0.9827709978463748"
      ]
     },
     "execution_count": 171,
     "metadata": {},
     "output_type": "execute_result"
    }
   ],
   "source": [
    "# fit model\n",
    "pipeline.fit(X_train, y_train)\n",
    "\n",
    "# check score on train data\n",
    "pipeline.score(X_train, y_train)"
   ]
  },
  {
   "cell_type": "code",
   "execution_count": 175,
   "metadata": {},
   "outputs": [
    {
     "name": "stdout",
     "output_type": "stream",
     "text": [
      "[[1286   34]\n",
      " [   5   68]]\n",
      "Sensitivity: \t0.93\n",
      "Specificity: \t0.97\n",
      "AUC:    \t 0.99\n"
     ]
    }
   ],
   "source": [
    "# predicting churn on test data\n",
    "y_pred = pipeline.predict(X_test)\n",
    "\n",
    "# creating confusion matrix\n",
    "print(confusion_matrix(y_test, y_pred))\n",
    "\n",
    "# checking sensitivity and specificity\n",
    "from imblearn.metrics import sensitivity_specificity_support\n",
    "sensitivity, specificity, _ = sensitivity_specificity_support(y_test, y_pred, average='binary')\n",
    "print(\"Sensitivity: \\t\", round(sensitivity, 2), \"\\n\", \"Specificity: \\t\", round(specificity, 2), sep='')\n",
    "\n",
    "# checking area under curve\n",
    "y_pred_prob = pipeline.predict_proba(X_test)[:, 1]\n",
    "print(\"AUC:    \\t\", round(roc_auc_score(y_test, y_pred_prob),2))"
   ]
  },
  {
   "cell_type": "markdown",
   "metadata": {},
   "source": [
    "# Hyperparameter tuning"
   ]
  },
  {
   "cell_type": "code",
   "execution_count": 176,
   "metadata": {},
   "outputs": [],
   "source": [
    "logistic = LogisticRegression(class_weight={0:0.1, 1: 0.9})"
   ]
  },
  {
   "cell_type": "code",
   "execution_count": 177,
   "metadata": {},
   "outputs": [],
   "source": [
    "steps = [(\"scaler\", StandardScaler()),(\"pca\", PCA()),(\"logistic\", logistic)]"
   ]
  },
  {
   "cell_type": "code",
   "execution_count": 178,
   "metadata": {},
   "outputs": [],
   "source": [
    "# Compiling them\n",
    "pca_logistic = Pipeline(steps)"
   ]
  },
  {
   "cell_type": "code",
   "execution_count": 179,
   "metadata": {},
   "outputs": [],
   "source": [
    "param = {'pca__n_components': [60, 80], 'logistic__C': [0.1, 0.4, 0.5], 'logistic__penalty': ['l1', 'l2']}"
   ]
  },
  {
   "cell_type": "code",
   "execution_count": 180,
   "metadata": {},
   "outputs": [],
   "source": [
    "# 5Folds\n",
    "fold = StratifiedKFold(n_splits = 5, shuffle = True, random_state = 20)"
   ]
  },
  {
   "cell_type": "code",
   "execution_count": 181,
   "metadata": {},
   "outputs": [],
   "source": [
    "# Model\n",
    "model = GridSearchCV(estimator = pca_logistic, cv = fold, param_grid = param, scoring='roc_auc', n_jobs=-1, verbose=1)"
   ]
  },
  {
   "cell_type": "code",
   "execution_count": 182,
   "metadata": {},
   "outputs": [
    {
     "name": "stdout",
     "output_type": "stream",
     "text": [
      "Fitting 5 folds for each of 12 candidates, totalling 60 fits\n"
     ]
    },
    {
     "data": {
      "text/html": [
       "<style>#sk-container-id-1 {color: black;}#sk-container-id-1 pre{padding: 0;}#sk-container-id-1 div.sk-toggleable {background-color: white;}#sk-container-id-1 label.sk-toggleable__label {cursor: pointer;display: block;width: 100%;margin-bottom: 0;padding: 0.3em;box-sizing: border-box;text-align: center;}#sk-container-id-1 label.sk-toggleable__label-arrow:before {content: \"▸\";float: left;margin-right: 0.25em;color: #696969;}#sk-container-id-1 label.sk-toggleable__label-arrow:hover:before {color: black;}#sk-container-id-1 div.sk-estimator:hover label.sk-toggleable__label-arrow:before {color: black;}#sk-container-id-1 div.sk-toggleable__content {max-height: 0;max-width: 0;overflow: hidden;text-align: left;background-color: #f0f8ff;}#sk-container-id-1 div.sk-toggleable__content pre {margin: 0.2em;color: black;border-radius: 0.25em;background-color: #f0f8ff;}#sk-container-id-1 input.sk-toggleable__control:checked~div.sk-toggleable__content {max-height: 200px;max-width: 100%;overflow: auto;}#sk-container-id-1 input.sk-toggleable__control:checked~label.sk-toggleable__label-arrow:before {content: \"▾\";}#sk-container-id-1 div.sk-estimator input.sk-toggleable__control:checked~label.sk-toggleable__label {background-color: #d4ebff;}#sk-container-id-1 div.sk-label input.sk-toggleable__control:checked~label.sk-toggleable__label {background-color: #d4ebff;}#sk-container-id-1 input.sk-hidden--visually {border: 0;clip: rect(1px 1px 1px 1px);clip: rect(1px, 1px, 1px, 1px);height: 1px;margin: -1px;overflow: hidden;padding: 0;position: absolute;width: 1px;}#sk-container-id-1 div.sk-estimator {font-family: monospace;background-color: #f0f8ff;border: 1px dotted black;border-radius: 0.25em;box-sizing: border-box;margin-bottom: 0.5em;}#sk-container-id-1 div.sk-estimator:hover {background-color: #d4ebff;}#sk-container-id-1 div.sk-parallel-item::after {content: \"\";width: 100%;border-bottom: 1px solid gray;flex-grow: 1;}#sk-container-id-1 div.sk-label:hover label.sk-toggleable__label {background-color: #d4ebff;}#sk-container-id-1 div.sk-serial::before {content: \"\";position: absolute;border-left: 1px solid gray;box-sizing: border-box;top: 0;bottom: 0;left: 50%;z-index: 0;}#sk-container-id-1 div.sk-serial {display: flex;flex-direction: column;align-items: center;background-color: white;padding-right: 0.2em;padding-left: 0.2em;position: relative;}#sk-container-id-1 div.sk-item {position: relative;z-index: 1;}#sk-container-id-1 div.sk-parallel {display: flex;align-items: stretch;justify-content: center;background-color: white;position: relative;}#sk-container-id-1 div.sk-item::before, #sk-container-id-1 div.sk-parallel-item::before {content: \"\";position: absolute;border-left: 1px solid gray;box-sizing: border-box;top: 0;bottom: 0;left: 50%;z-index: -1;}#sk-container-id-1 div.sk-parallel-item {display: flex;flex-direction: column;z-index: 1;position: relative;background-color: white;}#sk-container-id-1 div.sk-parallel-item:first-child::after {align-self: flex-end;width: 50%;}#sk-container-id-1 div.sk-parallel-item:last-child::after {align-self: flex-start;width: 50%;}#sk-container-id-1 div.sk-parallel-item:only-child::after {width: 0;}#sk-container-id-1 div.sk-dashed-wrapped {border: 1px dashed gray;margin: 0 0.4em 0.5em 0.4em;box-sizing: border-box;padding-bottom: 0.4em;background-color: white;}#sk-container-id-1 div.sk-label label {font-family: monospace;font-weight: bold;display: inline-block;line-height: 1.2em;}#sk-container-id-1 div.sk-label-container {text-align: center;}#sk-container-id-1 div.sk-container {/* jupyter's `normalize.less` sets `[hidden] { display: none; }` but bootstrap.min.css set `[hidden] { display: none !important; }` so we also need the `!important` here to be able to override the default hidden behavior on the sphinx rendered scikit-learn.org. See: https://github.com/scikit-learn/scikit-learn/issues/21755 */display: inline-block !important;position: relative;}#sk-container-id-1 div.sk-text-repr-fallback {display: none;}</style><div id=\"sk-container-id-1\" class=\"sk-top-container\"><div class=\"sk-text-repr-fallback\"><pre>GridSearchCV(cv=StratifiedKFold(n_splits=5, random_state=20, shuffle=True),\n",
       "             estimator=Pipeline(steps=[(&#x27;scaler&#x27;, StandardScaler()),\n",
       "                                       (&#x27;pca&#x27;, PCA()),\n",
       "                                       (&#x27;logistic&#x27;,\n",
       "                                        LogisticRegression(class_weight={0: 0.1,\n",
       "                                                                         1: 0.9}))]),\n",
       "             n_jobs=-1,\n",
       "             param_grid={&#x27;logistic__C&#x27;: [0.1, 0.4, 0.5],\n",
       "                         &#x27;logistic__penalty&#x27;: [&#x27;l1&#x27;, &#x27;l2&#x27;],\n",
       "                         &#x27;pca__n_components&#x27;: [60, 80]},\n",
       "             scoring=&#x27;roc_auc&#x27;, verbose=1)</pre><b>In a Jupyter environment, please rerun this cell to show the HTML representation or trust the notebook. <br />On GitHub, the HTML representation is unable to render, please try loading this page with nbviewer.org.</b></div><div class=\"sk-container\" hidden><div class=\"sk-item sk-dashed-wrapped\"><div class=\"sk-label-container\"><div class=\"sk-label sk-toggleable\"><input class=\"sk-toggleable__control sk-hidden--visually\" id=\"sk-estimator-id-1\" type=\"checkbox\" ><label for=\"sk-estimator-id-1\" class=\"sk-toggleable__label sk-toggleable__label-arrow\">GridSearchCV</label><div class=\"sk-toggleable__content\"><pre>GridSearchCV(cv=StratifiedKFold(n_splits=5, random_state=20, shuffle=True),\n",
       "             estimator=Pipeline(steps=[(&#x27;scaler&#x27;, StandardScaler()),\n",
       "                                       (&#x27;pca&#x27;, PCA()),\n",
       "                                       (&#x27;logistic&#x27;,\n",
       "                                        LogisticRegression(class_weight={0: 0.1,\n",
       "                                                                         1: 0.9}))]),\n",
       "             n_jobs=-1,\n",
       "             param_grid={&#x27;logistic__C&#x27;: [0.1, 0.4, 0.5],\n",
       "                         &#x27;logistic__penalty&#x27;: [&#x27;l1&#x27;, &#x27;l2&#x27;],\n",
       "                         &#x27;pca__n_components&#x27;: [60, 80]},\n",
       "             scoring=&#x27;roc_auc&#x27;, verbose=1)</pre></div></div></div><div class=\"sk-parallel\"><div class=\"sk-parallel-item\"><div class=\"sk-item\"><div class=\"sk-label-container\"><div class=\"sk-label sk-toggleable\"><input class=\"sk-toggleable__control sk-hidden--visually\" id=\"sk-estimator-id-2\" type=\"checkbox\" ><label for=\"sk-estimator-id-2\" class=\"sk-toggleable__label sk-toggleable__label-arrow\">estimator: Pipeline</label><div class=\"sk-toggleable__content\"><pre>Pipeline(steps=[(&#x27;scaler&#x27;, StandardScaler()), (&#x27;pca&#x27;, PCA()),\n",
       "                (&#x27;logistic&#x27;,\n",
       "                 LogisticRegression(class_weight={0: 0.1, 1: 0.9}))])</pre></div></div></div><div class=\"sk-serial\"><div class=\"sk-item\"><div class=\"sk-serial\"><div class=\"sk-item\"><div class=\"sk-estimator sk-toggleable\"><input class=\"sk-toggleable__control sk-hidden--visually\" id=\"sk-estimator-id-3\" type=\"checkbox\" ><label for=\"sk-estimator-id-3\" class=\"sk-toggleable__label sk-toggleable__label-arrow\">StandardScaler</label><div class=\"sk-toggleable__content\"><pre>StandardScaler()</pre></div></div></div><div class=\"sk-item\"><div class=\"sk-estimator sk-toggleable\"><input class=\"sk-toggleable__control sk-hidden--visually\" id=\"sk-estimator-id-4\" type=\"checkbox\" ><label for=\"sk-estimator-id-4\" class=\"sk-toggleable__label sk-toggleable__label-arrow\">PCA</label><div class=\"sk-toggleable__content\"><pre>PCA()</pre></div></div></div><div class=\"sk-item\"><div class=\"sk-estimator sk-toggleable\"><input class=\"sk-toggleable__control sk-hidden--visually\" id=\"sk-estimator-id-5\" type=\"checkbox\" ><label for=\"sk-estimator-id-5\" class=\"sk-toggleable__label sk-toggleable__label-arrow\">LogisticRegression</label><div class=\"sk-toggleable__content\"><pre>LogisticRegression(class_weight={0: 0.1, 1: 0.9})</pre></div></div></div></div></div></div></div></div></div></div></div></div>"
      ],
      "text/plain": [
       "GridSearchCV(cv=StratifiedKFold(n_splits=5, random_state=20, shuffle=True),\n",
       "             estimator=Pipeline(steps=[('scaler', StandardScaler()),\n",
       "                                       ('pca', PCA()),\n",
       "                                       ('logistic',\n",
       "                                        LogisticRegression(class_weight={0: 0.1,\n",
       "                                                                         1: 0.9}))]),\n",
       "             n_jobs=-1,\n",
       "             param_grid={'logistic__C': [0.1, 0.4, 0.5],\n",
       "                         'logistic__penalty': ['l1', 'l2'],\n",
       "                         'pca__n_components': [60, 80]},\n",
       "             scoring='roc_auc', verbose=1)"
      ]
     },
     "execution_count": 182,
     "metadata": {},
     "output_type": "execute_result"
    }
   ],
   "source": [
    "# fitting the model\n",
    "model.fit(X_train, y_train)"
   ]
  },
  {
   "cell_type": "code",
   "execution_count": 183,
   "metadata": {
    "scrolled": true
   },
   "outputs": [
    {
     "data": {
      "text/html": [
       "<div>\n",
       "<style scoped>\n",
       "    .dataframe tbody tr th:only-of-type {\n",
       "        vertical-align: middle;\n",
       "    }\n",
       "\n",
       "    .dataframe tbody tr th {\n",
       "        vertical-align: top;\n",
       "    }\n",
       "\n",
       "    .dataframe thead th {\n",
       "        text-align: right;\n",
       "    }\n",
       "</style>\n",
       "<table border=\"1\" class=\"dataframe\">\n",
       "  <thead>\n",
       "    <tr style=\"text-align: right;\">\n",
       "      <th></th>\n",
       "      <th>mean_fit_time</th>\n",
       "      <th>std_fit_time</th>\n",
       "      <th>mean_score_time</th>\n",
       "      <th>std_score_time</th>\n",
       "      <th>param_logistic__C</th>\n",
       "      <th>param_logistic__penalty</th>\n",
       "      <th>param_pca__n_components</th>\n",
       "      <th>params</th>\n",
       "      <th>split0_test_score</th>\n",
       "      <th>split1_test_score</th>\n",
       "      <th>split2_test_score</th>\n",
       "      <th>split3_test_score</th>\n",
       "      <th>split4_test_score</th>\n",
       "      <th>mean_test_score</th>\n",
       "      <th>std_test_score</th>\n",
       "      <th>rank_test_score</th>\n",
       "    </tr>\n",
       "  </thead>\n",
       "  <tbody>\n",
       "    <tr>\n",
       "      <th>0</th>\n",
       "      <td>0.378756</td>\n",
       "      <td>0.002000</td>\n",
       "      <td>0.000000</td>\n",
       "      <td>0.000000</td>\n",
       "      <td>0.1</td>\n",
       "      <td>l1</td>\n",
       "      <td>60</td>\n",
       "      <td>{'logistic__C': 0.1, 'logistic__penalty': 'l1'...</td>\n",
       "      <td>NaN</td>\n",
       "      <td>NaN</td>\n",
       "      <td>NaN</td>\n",
       "      <td>NaN</td>\n",
       "      <td>NaN</td>\n",
       "      <td>NaN</td>\n",
       "      <td>NaN</td>\n",
       "      <td>7</td>\n",
       "    </tr>\n",
       "    <tr>\n",
       "      <th>1</th>\n",
       "      <td>0.331012</td>\n",
       "      <td>0.097151</td>\n",
       "      <td>0.000000</td>\n",
       "      <td>0.000000</td>\n",
       "      <td>0.1</td>\n",
       "      <td>l1</td>\n",
       "      <td>80</td>\n",
       "      <td>{'logistic__C': 0.1, 'logistic__penalty': 'l1'...</td>\n",
       "      <td>NaN</td>\n",
       "      <td>NaN</td>\n",
       "      <td>NaN</td>\n",
       "      <td>NaN</td>\n",
       "      <td>NaN</td>\n",
       "      <td>NaN</td>\n",
       "      <td>NaN</td>\n",
       "      <td>7</td>\n",
       "    </tr>\n",
       "    <tr>\n",
       "      <th>2</th>\n",
       "      <td>0.201560</td>\n",
       "      <td>0.007941</td>\n",
       "      <td>0.012146</td>\n",
       "      <td>0.002330</td>\n",
       "      <td>0.1</td>\n",
       "      <td>l2</td>\n",
       "      <td>60</td>\n",
       "      <td>{'logistic__C': 0.1, 'logistic__penalty': 'l2'...</td>\n",
       "      <td>0.993256</td>\n",
       "      <td>0.993687</td>\n",
       "      <td>0.993027</td>\n",
       "      <td>0.996123</td>\n",
       "      <td>0.992443</td>\n",
       "      <td>0.993707</td>\n",
       "      <td>0.001273</td>\n",
       "      <td>6</td>\n",
       "    </tr>\n",
       "    <tr>\n",
       "      <th>3</th>\n",
       "      <td>0.214001</td>\n",
       "      <td>0.007021</td>\n",
       "      <td>0.013745</td>\n",
       "      <td>0.003216</td>\n",
       "      <td>0.1</td>\n",
       "      <td>l2</td>\n",
       "      <td>80</td>\n",
       "      <td>{'logistic__C': 0.1, 'logistic__penalty': 'l2'...</td>\n",
       "      <td>0.993457</td>\n",
       "      <td>0.994289</td>\n",
       "      <td>0.993543</td>\n",
       "      <td>0.997050</td>\n",
       "      <td>0.991610</td>\n",
       "      <td>0.993990</td>\n",
       "      <td>0.001766</td>\n",
       "      <td>5</td>\n",
       "    </tr>\n",
       "    <tr>\n",
       "      <th>4</th>\n",
       "      <td>0.144990</td>\n",
       "      <td>0.006718</td>\n",
       "      <td>0.000000</td>\n",
       "      <td>0.000000</td>\n",
       "      <td>0.4</td>\n",
       "      <td>l1</td>\n",
       "      <td>60</td>\n",
       "      <td>{'logistic__C': 0.4, 'logistic__penalty': 'l1'...</td>\n",
       "      <td>NaN</td>\n",
       "      <td>NaN</td>\n",
       "      <td>NaN</td>\n",
       "      <td>NaN</td>\n",
       "      <td>NaN</td>\n",
       "      <td>NaN</td>\n",
       "      <td>NaN</td>\n",
       "      <td>7</td>\n",
       "    </tr>\n",
       "    <tr>\n",
       "      <th>5</th>\n",
       "      <td>0.179254</td>\n",
       "      <td>0.004427</td>\n",
       "      <td>0.000000</td>\n",
       "      <td>0.000000</td>\n",
       "      <td>0.4</td>\n",
       "      <td>l1</td>\n",
       "      <td>80</td>\n",
       "      <td>{'logistic__C': 0.4, 'logistic__penalty': 'l1'...</td>\n",
       "      <td>NaN</td>\n",
       "      <td>NaN</td>\n",
       "      <td>NaN</td>\n",
       "      <td>NaN</td>\n",
       "      <td>NaN</td>\n",
       "      <td>NaN</td>\n",
       "      <td>NaN</td>\n",
       "      <td>7</td>\n",
       "    </tr>\n",
       "    <tr>\n",
       "      <th>6</th>\n",
       "      <td>0.197364</td>\n",
       "      <td>0.008887</td>\n",
       "      <td>0.014739</td>\n",
       "      <td>0.001000</td>\n",
       "      <td>0.4</td>\n",
       "      <td>l2</td>\n",
       "      <td>60</td>\n",
       "      <td>{'logistic__C': 0.4, 'logistic__penalty': 'l2'...</td>\n",
       "      <td>0.994031</td>\n",
       "      <td>0.994663</td>\n",
       "      <td>0.994835</td>\n",
       "      <td>0.997078</td>\n",
       "      <td>0.993363</td>\n",
       "      <td>0.994794</td>\n",
       "      <td>0.001254</td>\n",
       "      <td>4</td>\n",
       "    </tr>\n",
       "    <tr>\n",
       "      <th>7</th>\n",
       "      <td>0.243376</td>\n",
       "      <td>0.010171</td>\n",
       "      <td>0.015660</td>\n",
       "      <td>0.002133</td>\n",
       "      <td>0.4</td>\n",
       "      <td>l2</td>\n",
       "      <td>80</td>\n",
       "      <td>{'logistic__C': 0.4, 'logistic__penalty': 'l2'...</td>\n",
       "      <td>0.994749</td>\n",
       "      <td>0.995236</td>\n",
       "      <td>0.994663</td>\n",
       "      <td>0.997977</td>\n",
       "      <td>0.992932</td>\n",
       "      <td>0.995111</td>\n",
       "      <td>0.001632</td>\n",
       "      <td>3</td>\n",
       "    </tr>\n",
       "    <tr>\n",
       "      <th>8</th>\n",
       "      <td>0.147773</td>\n",
       "      <td>0.010622</td>\n",
       "      <td>0.000000</td>\n",
       "      <td>0.000000</td>\n",
       "      <td>0.5</td>\n",
       "      <td>l1</td>\n",
       "      <td>60</td>\n",
       "      <td>{'logistic__C': 0.5, 'logistic__penalty': 'l1'...</td>\n",
       "      <td>NaN</td>\n",
       "      <td>NaN</td>\n",
       "      <td>NaN</td>\n",
       "      <td>NaN</td>\n",
       "      <td>NaN</td>\n",
       "      <td>NaN</td>\n",
       "      <td>NaN</td>\n",
       "      <td>7</td>\n",
       "    </tr>\n",
       "    <tr>\n",
       "      <th>9</th>\n",
       "      <td>0.228030</td>\n",
       "      <td>0.037095</td>\n",
       "      <td>0.000000</td>\n",
       "      <td>0.000000</td>\n",
       "      <td>0.5</td>\n",
       "      <td>l1</td>\n",
       "      <td>80</td>\n",
       "      <td>{'logistic__C': 0.5, 'logistic__penalty': 'l1'...</td>\n",
       "      <td>NaN</td>\n",
       "      <td>NaN</td>\n",
       "      <td>NaN</td>\n",
       "      <td>NaN</td>\n",
       "      <td>NaN</td>\n",
       "      <td>NaN</td>\n",
       "      <td>NaN</td>\n",
       "      <td>7</td>\n",
       "    </tr>\n",
       "    <tr>\n",
       "      <th>10</th>\n",
       "      <td>0.412482</td>\n",
       "      <td>0.021170</td>\n",
       "      <td>0.032547</td>\n",
       "      <td>0.009058</td>\n",
       "      <td>0.5</td>\n",
       "      <td>l2</td>\n",
       "      <td>60</td>\n",
       "      <td>{'logistic__C': 0.5, 'logistic__penalty': 'l2'...</td>\n",
       "      <td>0.994318</td>\n",
       "      <td>0.995093</td>\n",
       "      <td>0.994978</td>\n",
       "      <td>0.997921</td>\n",
       "      <td>0.993277</td>\n",
       "      <td>0.995117</td>\n",
       "      <td>0.001543</td>\n",
       "      <td>2</td>\n",
       "    </tr>\n",
       "    <tr>\n",
       "      <th>11</th>\n",
       "      <td>0.311456</td>\n",
       "      <td>0.038481</td>\n",
       "      <td>0.011973</td>\n",
       "      <td>0.003443</td>\n",
       "      <td>0.5</td>\n",
       "      <td>l2</td>\n",
       "      <td>80</td>\n",
       "      <td>{'logistic__C': 0.5, 'logistic__penalty': 'l2'...</td>\n",
       "      <td>0.994921</td>\n",
       "      <td>0.995265</td>\n",
       "      <td>0.995036</td>\n",
       "      <td>0.997949</td>\n",
       "      <td>0.993363</td>\n",
       "      <td>0.995307</td>\n",
       "      <td>0.001482</td>\n",
       "      <td>1</td>\n",
       "    </tr>\n",
       "  </tbody>\n",
       "</table>\n",
       "</div>"
      ],
      "text/plain": [
       "    mean_fit_time  std_fit_time  mean_score_time  std_score_time  \\\n",
       "0        0.378756      0.002000         0.000000        0.000000   \n",
       "1        0.331012      0.097151         0.000000        0.000000   \n",
       "2        0.201560      0.007941         0.012146        0.002330   \n",
       "3        0.214001      0.007021         0.013745        0.003216   \n",
       "4        0.144990      0.006718         0.000000        0.000000   \n",
       "5        0.179254      0.004427         0.000000        0.000000   \n",
       "6        0.197364      0.008887         0.014739        0.001000   \n",
       "7        0.243376      0.010171         0.015660        0.002133   \n",
       "8        0.147773      0.010622         0.000000        0.000000   \n",
       "9        0.228030      0.037095         0.000000        0.000000   \n",
       "10       0.412482      0.021170         0.032547        0.009058   \n",
       "11       0.311456      0.038481         0.011973        0.003443   \n",
       "\n",
       "   param_logistic__C param_logistic__penalty param_pca__n_components  \\\n",
       "0                0.1                      l1                      60   \n",
       "1                0.1                      l1                      80   \n",
       "2                0.1                      l2                      60   \n",
       "3                0.1                      l2                      80   \n",
       "4                0.4                      l1                      60   \n",
       "5                0.4                      l1                      80   \n",
       "6                0.4                      l2                      60   \n",
       "7                0.4                      l2                      80   \n",
       "8                0.5                      l1                      60   \n",
       "9                0.5                      l1                      80   \n",
       "10               0.5                      l2                      60   \n",
       "11               0.5                      l2                      80   \n",
       "\n",
       "                                               params  split0_test_score  \\\n",
       "0   {'logistic__C': 0.1, 'logistic__penalty': 'l1'...                NaN   \n",
       "1   {'logistic__C': 0.1, 'logistic__penalty': 'l1'...                NaN   \n",
       "2   {'logistic__C': 0.1, 'logistic__penalty': 'l2'...           0.993256   \n",
       "3   {'logistic__C': 0.1, 'logistic__penalty': 'l2'...           0.993457   \n",
       "4   {'logistic__C': 0.4, 'logistic__penalty': 'l1'...                NaN   \n",
       "5   {'logistic__C': 0.4, 'logistic__penalty': 'l1'...                NaN   \n",
       "6   {'logistic__C': 0.4, 'logistic__penalty': 'l2'...           0.994031   \n",
       "7   {'logistic__C': 0.4, 'logistic__penalty': 'l2'...           0.994749   \n",
       "8   {'logistic__C': 0.5, 'logistic__penalty': 'l1'...                NaN   \n",
       "9   {'logistic__C': 0.5, 'logistic__penalty': 'l1'...                NaN   \n",
       "10  {'logistic__C': 0.5, 'logistic__penalty': 'l2'...           0.994318   \n",
       "11  {'logistic__C': 0.5, 'logistic__penalty': 'l2'...           0.994921   \n",
       "\n",
       "    split1_test_score  split2_test_score  split3_test_score  \\\n",
       "0                 NaN                NaN                NaN   \n",
       "1                 NaN                NaN                NaN   \n",
       "2            0.993687           0.993027           0.996123   \n",
       "3            0.994289           0.993543           0.997050   \n",
       "4                 NaN                NaN                NaN   \n",
       "5                 NaN                NaN                NaN   \n",
       "6            0.994663           0.994835           0.997078   \n",
       "7            0.995236           0.994663           0.997977   \n",
       "8                 NaN                NaN                NaN   \n",
       "9                 NaN                NaN                NaN   \n",
       "10           0.995093           0.994978           0.997921   \n",
       "11           0.995265           0.995036           0.997949   \n",
       "\n",
       "    split4_test_score  mean_test_score  std_test_score  rank_test_score  \n",
       "0                 NaN              NaN             NaN                7  \n",
       "1                 NaN              NaN             NaN                7  \n",
       "2            0.992443         0.993707        0.001273                6  \n",
       "3            0.991610         0.993990        0.001766                5  \n",
       "4                 NaN              NaN             NaN                7  \n",
       "5                 NaN              NaN             NaN                7  \n",
       "6            0.993363         0.994794        0.001254                4  \n",
       "7            0.992932         0.995111        0.001632                3  \n",
       "8                 NaN              NaN             NaN                7  \n",
       "9                 NaN              NaN             NaN                7  \n",
       "10           0.993277         0.995117        0.001543                2  \n",
       "11           0.993363         0.995307        0.001482                1  "
      ]
     },
     "execution_count": 183,
     "metadata": {},
     "output_type": "execute_result"
    }
   ],
   "source": [
    "# cross validation\n",
    "pd.DataFrame(model.cv_results_)"
   ]
  },
  {
   "cell_type": "code",
   "execution_count": 184,
   "metadata": {},
   "outputs": [
    {
     "data": {
      "text/plain": [
       "0.995306703107387"
      ]
     },
     "execution_count": 184,
     "metadata": {},
     "output_type": "execute_result"
    }
   ],
   "source": [
    "# best hyperparameters score\n",
    "model.best_score_"
   ]
  },
  {
   "cell_type": "code",
   "execution_count": 185,
   "metadata": {},
   "outputs": [
    {
     "data": {
      "text/plain": [
       "{'logistic__C': 0.5, 'logistic__penalty': 'l2', 'pca__n_components': 80}"
      ]
     },
     "execution_count": 185,
     "metadata": {},
     "output_type": "execute_result"
    }
   ],
   "source": [
    "# best hyperparameters\n",
    "model.best_params_"
   ]
  },
  {
   "cell_type": "code",
   "execution_count": 186,
   "metadata": {},
   "outputs": [
    {
     "name": "stdout",
     "output_type": "stream",
     "text": [
      "[[1275   45]\n",
      " [   7   66]]\n",
      "Sensitivity: \t0.9\n",
      "Specificity: \t0.97\n",
      "AUC:    \t 0.985\n"
     ]
    }
   ],
   "source": [
    "# predicting churn on test data\n",
    "y_pred = model.predict(X_test)\n",
    "\n",
    "# creating onfusion matrix\n",
    "print(confusion_matrix(y_test, y_pred))\n",
    "\n",
    "# checking sensitivity and specificity\n",
    "from imblearn.metrics import sensitivity_specificity_support\n",
    "sensitivity, specificity, _ = sensitivity_specificity_support(y_test, y_pred, average='binary')\n",
    "print(\"Sensitivity: \\t\", round(sensitivity, 2), \"\\n\", \"Specificity: \\t\", round(specificity, 2), sep='')\n",
    "\n",
    "# checking area under curve\n",
    "y_pred_prob = model.predict_proba(X_test)[:, 1]\n",
    "print(\"AUC:    \\t\", round(roc_auc_score(y_test, y_pred_prob),3))"
   ]
  },
  {
   "cell_type": "markdown",
   "metadata": {},
   "source": [
    "Using random forest"
   ]
  },
  {
   "cell_type": "code",
   "execution_count": 187,
   "metadata": {},
   "outputs": [],
   "source": [
    "frt = RandomForestClassifier(class_weight={0:0.1, 1: 0.9}, n_jobs = -1)"
   ]
  },
  {
   "cell_type": "code",
   "execution_count": 188,
   "metadata": {},
   "outputs": [],
   "source": [
    "param = {\"criterion\": ['gini', 'entropy'], \"max_features\": [1]}"
   ]
  },
  {
   "cell_type": "code",
   "execution_count": 189,
   "metadata": {},
   "outputs": [],
   "source": [
    "# creating folds\n",
    "fold = StratifiedKFold(n_splits = 5, shuffle = True, random_state = 20)"
   ]
  },
  {
   "cell_type": "code",
   "execution_count": 190,
   "metadata": {},
   "outputs": [],
   "source": [
    "# Grid search\n",
    "model = GridSearchCV(estimator=frt, cv=fold, param_grid=param, scoring='roc_auc', n_jobs=-1, verbose=1)"
   ]
  },
  {
   "cell_type": "code",
   "execution_count": 191,
   "metadata": {},
   "outputs": [
    {
     "name": "stdout",
     "output_type": "stream",
     "text": [
      "Fitting 5 folds for each of 2 candidates, totalling 10 fits\n"
     ]
    },
    {
     "data": {
      "text/html": [
       "<style>#sk-container-id-2 {color: black;}#sk-container-id-2 pre{padding: 0;}#sk-container-id-2 div.sk-toggleable {background-color: white;}#sk-container-id-2 label.sk-toggleable__label {cursor: pointer;display: block;width: 100%;margin-bottom: 0;padding: 0.3em;box-sizing: border-box;text-align: center;}#sk-container-id-2 label.sk-toggleable__label-arrow:before {content: \"▸\";float: left;margin-right: 0.25em;color: #696969;}#sk-container-id-2 label.sk-toggleable__label-arrow:hover:before {color: black;}#sk-container-id-2 div.sk-estimator:hover label.sk-toggleable__label-arrow:before {color: black;}#sk-container-id-2 div.sk-toggleable__content {max-height: 0;max-width: 0;overflow: hidden;text-align: left;background-color: #f0f8ff;}#sk-container-id-2 div.sk-toggleable__content pre {margin: 0.2em;color: black;border-radius: 0.25em;background-color: #f0f8ff;}#sk-container-id-2 input.sk-toggleable__control:checked~div.sk-toggleable__content {max-height: 200px;max-width: 100%;overflow: auto;}#sk-container-id-2 input.sk-toggleable__control:checked~label.sk-toggleable__label-arrow:before {content: \"▾\";}#sk-container-id-2 div.sk-estimator input.sk-toggleable__control:checked~label.sk-toggleable__label {background-color: #d4ebff;}#sk-container-id-2 div.sk-label input.sk-toggleable__control:checked~label.sk-toggleable__label {background-color: #d4ebff;}#sk-container-id-2 input.sk-hidden--visually {border: 0;clip: rect(1px 1px 1px 1px);clip: rect(1px, 1px, 1px, 1px);height: 1px;margin: -1px;overflow: hidden;padding: 0;position: absolute;width: 1px;}#sk-container-id-2 div.sk-estimator {font-family: monospace;background-color: #f0f8ff;border: 1px dotted black;border-radius: 0.25em;box-sizing: border-box;margin-bottom: 0.5em;}#sk-container-id-2 div.sk-estimator:hover {background-color: #d4ebff;}#sk-container-id-2 div.sk-parallel-item::after {content: \"\";width: 100%;border-bottom: 1px solid gray;flex-grow: 1;}#sk-container-id-2 div.sk-label:hover label.sk-toggleable__label {background-color: #d4ebff;}#sk-container-id-2 div.sk-serial::before {content: \"\";position: absolute;border-left: 1px solid gray;box-sizing: border-box;top: 0;bottom: 0;left: 50%;z-index: 0;}#sk-container-id-2 div.sk-serial {display: flex;flex-direction: column;align-items: center;background-color: white;padding-right: 0.2em;padding-left: 0.2em;position: relative;}#sk-container-id-2 div.sk-item {position: relative;z-index: 1;}#sk-container-id-2 div.sk-parallel {display: flex;align-items: stretch;justify-content: center;background-color: white;position: relative;}#sk-container-id-2 div.sk-item::before, #sk-container-id-2 div.sk-parallel-item::before {content: \"\";position: absolute;border-left: 1px solid gray;box-sizing: border-box;top: 0;bottom: 0;left: 50%;z-index: -1;}#sk-container-id-2 div.sk-parallel-item {display: flex;flex-direction: column;z-index: 1;position: relative;background-color: white;}#sk-container-id-2 div.sk-parallel-item:first-child::after {align-self: flex-end;width: 50%;}#sk-container-id-2 div.sk-parallel-item:last-child::after {align-self: flex-start;width: 50%;}#sk-container-id-2 div.sk-parallel-item:only-child::after {width: 0;}#sk-container-id-2 div.sk-dashed-wrapped {border: 1px dashed gray;margin: 0 0.4em 0.5em 0.4em;box-sizing: border-box;padding-bottom: 0.4em;background-color: white;}#sk-container-id-2 div.sk-label label {font-family: monospace;font-weight: bold;display: inline-block;line-height: 1.2em;}#sk-container-id-2 div.sk-label-container {text-align: center;}#sk-container-id-2 div.sk-container {/* jupyter's `normalize.less` sets `[hidden] { display: none; }` but bootstrap.min.css set `[hidden] { display: none !important; }` so we also need the `!important` here to be able to override the default hidden behavior on the sphinx rendered scikit-learn.org. See: https://github.com/scikit-learn/scikit-learn/issues/21755 */display: inline-block !important;position: relative;}#sk-container-id-2 div.sk-text-repr-fallback {display: none;}</style><div id=\"sk-container-id-2\" class=\"sk-top-container\"><div class=\"sk-text-repr-fallback\"><pre>GridSearchCV(cv=StratifiedKFold(n_splits=5, random_state=20, shuffle=True),\n",
       "             estimator=RandomForestClassifier(class_weight={0: 0.1, 1: 0.9},\n",
       "                                              n_jobs=-1),\n",
       "             n_jobs=-1,\n",
       "             param_grid={&#x27;criterion&#x27;: [&#x27;gini&#x27;, &#x27;entropy&#x27;], &#x27;max_features&#x27;: [1]},\n",
       "             scoring=&#x27;roc_auc&#x27;, verbose=1)</pre><b>In a Jupyter environment, please rerun this cell to show the HTML representation or trust the notebook. <br />On GitHub, the HTML representation is unable to render, please try loading this page with nbviewer.org.</b></div><div class=\"sk-container\" hidden><div class=\"sk-item sk-dashed-wrapped\"><div class=\"sk-label-container\"><div class=\"sk-label sk-toggleable\"><input class=\"sk-toggleable__control sk-hidden--visually\" id=\"sk-estimator-id-6\" type=\"checkbox\" ><label for=\"sk-estimator-id-6\" class=\"sk-toggleable__label sk-toggleable__label-arrow\">GridSearchCV</label><div class=\"sk-toggleable__content\"><pre>GridSearchCV(cv=StratifiedKFold(n_splits=5, random_state=20, shuffle=True),\n",
       "             estimator=RandomForestClassifier(class_weight={0: 0.1, 1: 0.9},\n",
       "                                              n_jobs=-1),\n",
       "             n_jobs=-1,\n",
       "             param_grid={&#x27;criterion&#x27;: [&#x27;gini&#x27;, &#x27;entropy&#x27;], &#x27;max_features&#x27;: [1]},\n",
       "             scoring=&#x27;roc_auc&#x27;, verbose=1)</pre></div></div></div><div class=\"sk-parallel\"><div class=\"sk-parallel-item\"><div class=\"sk-item\"><div class=\"sk-label-container\"><div class=\"sk-label sk-toggleable\"><input class=\"sk-toggleable__control sk-hidden--visually\" id=\"sk-estimator-id-7\" type=\"checkbox\" ><label for=\"sk-estimator-id-7\" class=\"sk-toggleable__label sk-toggleable__label-arrow\">estimator: RandomForestClassifier</label><div class=\"sk-toggleable__content\"><pre>RandomForestClassifier(class_weight={0: 0.1, 1: 0.9}, n_jobs=-1)</pre></div></div></div><div class=\"sk-serial\"><div class=\"sk-item\"><div class=\"sk-estimator sk-toggleable\"><input class=\"sk-toggleable__control sk-hidden--visually\" id=\"sk-estimator-id-8\" type=\"checkbox\" ><label for=\"sk-estimator-id-8\" class=\"sk-toggleable__label sk-toggleable__label-arrow\">RandomForestClassifier</label><div class=\"sk-toggleable__content\"><pre>RandomForestClassifier(class_weight={0: 0.1, 1: 0.9}, n_jobs=-1)</pre></div></div></div></div></div></div></div></div></div></div>"
      ],
      "text/plain": [
       "GridSearchCV(cv=StratifiedKFold(n_splits=5, random_state=20, shuffle=True),\n",
       "             estimator=RandomForestClassifier(class_weight={0: 0.1, 1: 0.9},\n",
       "                                              n_jobs=-1),\n",
       "             n_jobs=-1,\n",
       "             param_grid={'criterion': ['gini', 'entropy'], 'max_features': [1]},\n",
       "             scoring='roc_auc', verbose=1)"
      ]
     },
     "execution_count": 191,
     "metadata": {},
     "output_type": "execute_result"
    }
   ],
   "source": [
    "# fitting the model\n",
    "model.fit(X_train, y_train)"
   ]
  },
  {
   "cell_type": "code",
   "execution_count": 192,
   "metadata": {},
   "outputs": [
    {
     "data": {
      "text/plain": [
       "0.9985424241553567"
      ]
     },
     "execution_count": 192,
     "metadata": {},
     "output_type": "execute_result"
    }
   ],
   "source": [
    "# best hyperparameters score\n",
    "model.best_score_"
   ]
  },
  {
   "cell_type": "code",
   "execution_count": 193,
   "metadata": {},
   "outputs": [
    {
     "data": {
      "text/plain": [
       "{'criterion': 'gini', 'max_features': 1}"
      ]
     },
     "execution_count": 193,
     "metadata": {},
     "output_type": "execute_result"
    }
   ],
   "source": [
    "# best hyperparameters\n",
    "model.best_params_"
   ]
  },
  {
   "cell_type": "code",
   "execution_count": 131,
   "metadata": {},
   "outputs": [
    {
     "name": "stdout",
     "output_type": "stream",
     "text": [
      "[[6859   22]\n",
      " [  62  546]]\n",
      "Sensitivity: \t0.9\n",
      "Specificity: \t1.0\n",
      "AUC:    \t 1.0\n"
     ]
    }
   ],
   "source": [
    "# predicting churn on test data\n",
    "y_pred = model.predict(X_test)\n",
    "\n",
    "# creating onfusion matrix\n",
    "print(confusion_matrix(y_test, y_pred))\n",
    "\n",
    "# checking sensitivity and specificity\n",
    "from imblearn.metrics import sensitivity_specificity_support\n",
    "sensitivity, specificity, _ = sensitivity_specificity_support(y_test, y_pred, average='binary')\n",
    "print(\"Sensitivity: \\t\", round(sensitivity, 2), \"\\n\", \"Specificity: \\t\", round(specificity, 2), sep='')\n",
    "\n",
    "# checking area under curve\n",
    "y_pred_prob = model.predict_proba(X_test)[:, 1]\n",
    "print(\"AUC:    \\t\", round(roc_auc_score(y_test, y_pred_prob),2))"
   ]
  },
  {
   "cell_type": "markdown",
   "metadata": {},
   "source": [
    "Looks like random forest is overfitting and the sensitivity is very low. So going with logistic and PCA"
   ]
  },
  {
   "cell_type": "code",
   "execution_count": 194,
   "metadata": {},
   "outputs": [],
   "source": [
    "# run a random forest model on train data\n",
    "max_features = int(round(np.sqrt(X_train.shape[1])))\n",
    "rand_frt_model = RandomForestClassifier(n_estimators=100, max_features = max_features, class_weight={0:0.1, 1: 0.9}, oob_score=True, random_state=20, verbose=1)"
   ]
  },
  {
   "cell_type": "code",
   "execution_count": 195,
   "metadata": {
    "scrolled": true
   },
   "outputs": [
    {
     "name": "stderr",
     "output_type": "stream",
     "text": [
      "[Parallel(n_jobs=1)]: Done  49 tasks      | elapsed:    0.4s\n"
     ]
    },
    {
     "data": {
      "text/html": [
       "<style>#sk-container-id-3 {color: black;}#sk-container-id-3 pre{padding: 0;}#sk-container-id-3 div.sk-toggleable {background-color: white;}#sk-container-id-3 label.sk-toggleable__label {cursor: pointer;display: block;width: 100%;margin-bottom: 0;padding: 0.3em;box-sizing: border-box;text-align: center;}#sk-container-id-3 label.sk-toggleable__label-arrow:before {content: \"▸\";float: left;margin-right: 0.25em;color: #696969;}#sk-container-id-3 label.sk-toggleable__label-arrow:hover:before {color: black;}#sk-container-id-3 div.sk-estimator:hover label.sk-toggleable__label-arrow:before {color: black;}#sk-container-id-3 div.sk-toggleable__content {max-height: 0;max-width: 0;overflow: hidden;text-align: left;background-color: #f0f8ff;}#sk-container-id-3 div.sk-toggleable__content pre {margin: 0.2em;color: black;border-radius: 0.25em;background-color: #f0f8ff;}#sk-container-id-3 input.sk-toggleable__control:checked~div.sk-toggleable__content {max-height: 200px;max-width: 100%;overflow: auto;}#sk-container-id-3 input.sk-toggleable__control:checked~label.sk-toggleable__label-arrow:before {content: \"▾\";}#sk-container-id-3 div.sk-estimator input.sk-toggleable__control:checked~label.sk-toggleable__label {background-color: #d4ebff;}#sk-container-id-3 div.sk-label input.sk-toggleable__control:checked~label.sk-toggleable__label {background-color: #d4ebff;}#sk-container-id-3 input.sk-hidden--visually {border: 0;clip: rect(1px 1px 1px 1px);clip: rect(1px, 1px, 1px, 1px);height: 1px;margin: -1px;overflow: hidden;padding: 0;position: absolute;width: 1px;}#sk-container-id-3 div.sk-estimator {font-family: monospace;background-color: #f0f8ff;border: 1px dotted black;border-radius: 0.25em;box-sizing: border-box;margin-bottom: 0.5em;}#sk-container-id-3 div.sk-estimator:hover {background-color: #d4ebff;}#sk-container-id-3 div.sk-parallel-item::after {content: \"\";width: 100%;border-bottom: 1px solid gray;flex-grow: 1;}#sk-container-id-3 div.sk-label:hover label.sk-toggleable__label {background-color: #d4ebff;}#sk-container-id-3 div.sk-serial::before {content: \"\";position: absolute;border-left: 1px solid gray;box-sizing: border-box;top: 0;bottom: 0;left: 50%;z-index: 0;}#sk-container-id-3 div.sk-serial {display: flex;flex-direction: column;align-items: center;background-color: white;padding-right: 0.2em;padding-left: 0.2em;position: relative;}#sk-container-id-3 div.sk-item {position: relative;z-index: 1;}#sk-container-id-3 div.sk-parallel {display: flex;align-items: stretch;justify-content: center;background-color: white;position: relative;}#sk-container-id-3 div.sk-item::before, #sk-container-id-3 div.sk-parallel-item::before {content: \"\";position: absolute;border-left: 1px solid gray;box-sizing: border-box;top: 0;bottom: 0;left: 50%;z-index: -1;}#sk-container-id-3 div.sk-parallel-item {display: flex;flex-direction: column;z-index: 1;position: relative;background-color: white;}#sk-container-id-3 div.sk-parallel-item:first-child::after {align-self: flex-end;width: 50%;}#sk-container-id-3 div.sk-parallel-item:last-child::after {align-self: flex-start;width: 50%;}#sk-container-id-3 div.sk-parallel-item:only-child::after {width: 0;}#sk-container-id-3 div.sk-dashed-wrapped {border: 1px dashed gray;margin: 0 0.4em 0.5em 0.4em;box-sizing: border-box;padding-bottom: 0.4em;background-color: white;}#sk-container-id-3 div.sk-label label {font-family: monospace;font-weight: bold;display: inline-block;line-height: 1.2em;}#sk-container-id-3 div.sk-label-container {text-align: center;}#sk-container-id-3 div.sk-container {/* jupyter's `normalize.less` sets `[hidden] { display: none; }` but bootstrap.min.css set `[hidden] { display: none !important; }` so we also need the `!important` here to be able to override the default hidden behavior on the sphinx rendered scikit-learn.org. See: https://github.com/scikit-learn/scikit-learn/issues/21755 */display: inline-block !important;position: relative;}#sk-container-id-3 div.sk-text-repr-fallback {display: none;}</style><div id=\"sk-container-id-3\" class=\"sk-top-container\"><div class=\"sk-text-repr-fallback\"><pre>RandomForestClassifier(class_weight={0: 0.1, 1: 0.9}, max_features=15,\n",
       "                       oob_score=True, random_state=20, verbose=1)</pre><b>In a Jupyter environment, please rerun this cell to show the HTML representation or trust the notebook. <br />On GitHub, the HTML representation is unable to render, please try loading this page with nbviewer.org.</b></div><div class=\"sk-container\" hidden><div class=\"sk-item\"><div class=\"sk-estimator sk-toggleable\"><input class=\"sk-toggleable__control sk-hidden--visually\" id=\"sk-estimator-id-9\" type=\"checkbox\" checked><label for=\"sk-estimator-id-9\" class=\"sk-toggleable__label sk-toggleable__label-arrow\">RandomForestClassifier</label><div class=\"sk-toggleable__content\"><pre>RandomForestClassifier(class_weight={0: 0.1, 1: 0.9}, max_features=15,\n",
       "                       oob_score=True, random_state=20, verbose=1)</pre></div></div></div></div></div>"
      ],
      "text/plain": [
       "RandomForestClassifier(class_weight={0: 0.1, 1: 0.9}, max_features=15,\n",
       "                       oob_score=True, random_state=20, verbose=1)"
      ]
     },
     "execution_count": 195,
     "metadata": {},
     "output_type": "execute_result"
    }
   ],
   "source": [
    "# fiting the model\n",
    "rand_frt_model.fit(X_train, y_train)"
   ]
  },
  {
   "cell_type": "code",
   "execution_count": 196,
   "metadata": {},
   "outputs": [
    {
     "data": {
      "text/plain": [
       "0.9995214166068438"
      ]
     },
     "execution_count": 196,
     "metadata": {},
     "output_type": "execute_result"
    }
   ],
   "source": [
    "# checking OOB score\n",
    "rand_frt_model.oob_score_"
   ]
  },
  {
   "cell_type": "code",
   "execution_count": 197,
   "metadata": {},
   "outputs": [
    {
     "name": "stdout",
     "output_type": "stream",
     "text": [
      "[[1319    1]\n",
      " [   3   70]]\n",
      "Sensitivity: \t0.96\n",
      "Specificity: \t1.0\n",
      "ROC:    \t 1.0\n"
     ]
    },
    {
     "name": "stderr",
     "output_type": "stream",
     "text": [
      "[Parallel(n_jobs=1)]: Done  49 tasks      | elapsed:    0.0s\n",
      "[Parallel(n_jobs=1)]: Done  49 tasks      | elapsed:    0.0s\n"
     ]
    }
   ],
   "source": [
    "# predicting churn on test data\n",
    "y_pred = rand_frt_model.predict(X_test)\n",
    "\n",
    "# creating onfusion matrix\n",
    "print(confusion_matrix(y_test, y_pred))\n",
    "\n",
    "# checking sensitivity and specificity\n",
    "sensitivity, specificity, _ = sensitivity_specificity_support(y_test, y_pred, average='binary')\n",
    "print(\"Sensitivity: \\t\", round(sensitivity, 2), \"\\n\", \"Specificity: \\t\", round(specificity, 2), sep='')\n",
    "\n",
    "# checking area under curve\n",
    "y_pred_prob = rand_frt_model.predict_proba(X_test)[:, 1]\n",
    "print(\"ROC:    \\t\", round(roc_auc_score(y_test, y_pred_prob),2))"
   ]
  },
  {
   "cell_type": "code",
   "execution_count": 198,
   "metadata": {},
   "outputs": [],
   "source": [
    "# predictors\n",
    "feature = high_val_cust.drop('churn', axis=1).columns"
   ]
  },
  {
   "cell_type": "code",
   "execution_count": 199,
   "metadata": {},
   "outputs": [],
   "source": [
    "# feature_importance\n",
    "importance = rand_frt_model.feature_importances_"
   ]
  },
  {
   "cell_type": "code",
   "execution_count": 200,
   "metadata": {},
   "outputs": [],
   "source": [
    "# creating the dataframe\n",
    "feature_imp = pd.DataFrame({'variables': feature, 'importance_percentage': importance*100})\n",
    "feature_imp = feature_imp[['variables', 'importance_percentage']]"
   ]
  },
  {
   "cell_type": "code",
   "execution_count": 201,
   "metadata": {},
   "outputs": [
    {
     "name": "stdout",
     "output_type": "stream",
     "text": [
      "Sum of importance= 100.0\n"
     ]
    },
    {
     "data": {
      "text/html": [
       "<div>\n",
       "<style scoped>\n",
       "    .dataframe tbody tr th:only-of-type {\n",
       "        vertical-align: middle;\n",
       "    }\n",
       "\n",
       "    .dataframe tbody tr th {\n",
       "        vertical-align: top;\n",
       "    }\n",
       "\n",
       "    .dataframe thead th {\n",
       "        text-align: right;\n",
       "    }\n",
       "</style>\n",
       "<table border=\"1\" class=\"dataframe\">\n",
       "  <thead>\n",
       "    <tr style=\"text-align: right;\">\n",
       "      <th></th>\n",
       "      <th>variables</th>\n",
       "      <th>importance_percentage</th>\n",
       "    </tr>\n",
       "  </thead>\n",
       "  <tbody>\n",
       "    <tr>\n",
       "      <th>0</th>\n",
       "      <td>total_ic_mou_9</td>\n",
       "      <td>8.135319</td>\n",
       "    </tr>\n",
       "    <tr>\n",
       "      <th>1</th>\n",
       "      <td>loc_ic_mou_9</td>\n",
       "      <td>7.854984</td>\n",
       "    </tr>\n",
       "    <tr>\n",
       "      <th>2</th>\n",
       "      <td>loc_ic_t2m_mou_9</td>\n",
       "      <td>7.730029</td>\n",
       "    </tr>\n",
       "    <tr>\n",
       "      <th>3</th>\n",
       "      <td>arpu_9</td>\n",
       "      <td>5.943081</td>\n",
       "    </tr>\n",
       "    <tr>\n",
       "      <th>4</th>\n",
       "      <td>max_rech_amt_9</td>\n",
       "      <td>5.759793</td>\n",
       "    </tr>\n",
       "    <tr>\n",
       "      <th>...</th>\n",
       "      <td>...</td>\n",
       "      <td>...</td>\n",
       "    </tr>\n",
       "    <tr>\n",
       "      <th>214</th>\n",
       "      <td>std_og_t2c_mou_6</td>\n",
       "      <td>0.000000</td>\n",
       "    </tr>\n",
       "    <tr>\n",
       "      <th>215</th>\n",
       "      <td>std_og_t2f_mou_7</td>\n",
       "      <td>0.000000</td>\n",
       "    </tr>\n",
       "    <tr>\n",
       "      <th>216</th>\n",
       "      <td>roam_og_mou_6</td>\n",
       "      <td>0.000000</td>\n",
       "    </tr>\n",
       "    <tr>\n",
       "      <th>217</th>\n",
       "      <td>loc_ic_t2o_mou</td>\n",
       "      <td>0.000000</td>\n",
       "    </tr>\n",
       "    <tr>\n",
       "      <th>218</th>\n",
       "      <td>std_ic_t2o_mou_8</td>\n",
       "      <td>0.000000</td>\n",
       "    </tr>\n",
       "  </tbody>\n",
       "</table>\n",
       "<p>219 rows × 2 columns</p>\n",
       "</div>"
      ],
      "text/plain": [
       "            variables  importance_percentage\n",
       "0      total_ic_mou_9               8.135319\n",
       "1        loc_ic_mou_9               7.854984\n",
       "2    loc_ic_t2m_mou_9               7.730029\n",
       "3              arpu_9               5.943081\n",
       "4      max_rech_amt_9               5.759793\n",
       "..                ...                    ...\n",
       "214  std_og_t2c_mou_6               0.000000\n",
       "215  std_og_t2f_mou_7               0.000000\n",
       "216     roam_og_mou_6               0.000000\n",
       "217    loc_ic_t2o_mou               0.000000\n",
       "218  std_ic_t2o_mou_8               0.000000\n",
       "\n",
       "[219 rows x 2 columns]"
      ]
     },
     "execution_count": 201,
     "metadata": {},
     "output_type": "execute_result"
    }
   ],
   "source": [
    "# sorting the features\n",
    "feature_imp = feature_imp.sort_values('importance_percentage', ascending=False).reset_index(drop=True)\n",
    "print(\"Sum of importance=\", feature_imp.importance_percentage.sum())\n",
    "feature_imp"
   ]
  },
  {
   "cell_type": "code",
   "execution_count": 202,
   "metadata": {},
   "outputs": [],
   "source": [
    "# extract top 'n' features\n",
    "top_features = feature_imp.variables[0:50]"
   ]
  },
  {
   "cell_type": "code",
   "execution_count": 205,
   "metadata": {},
   "outputs": [
    {
     "data": {
      "image/png": "[encoded data removed]",
      "text/plain": [
       "<Figure size 1500x1500 with 2 Axes>"
      ]
     },
     "metadata": {},
     "output_type": "display_data"
    }
   ],
   "source": [
    "plt.figure(figsize=(15, 15))  # Adjust the figure size as needed\n",
    "\n",
    "# Define a custom color map for the heatmap\n",
    "mycmap = sns.diverging_palette(199, 359, s=99, center=\"light\", as_cmap=True)\n",
    "\n",
    "# Create the correlation heatmap without annotations\n",
    "sns.heatmap(data=X_train[top_features].corr(), center=0, cmap=mycmap, annot=False)\n",
    "\n",
    "plt.show()\n"
   ]
  },
  {
   "cell_type": "code",
   "execution_count": 206,
   "metadata": {},
   "outputs": [],
   "source": [
    "# Selecting features that are relevent\n",
    "top_features = ['total_ic_mou_8', 'total_rech_amt_diff', 'total_og_mou_8', 'arpu_8', 'roam_ic_mou_8', 'roam_og_mou_8', 'std_ic_mou_8', 'av_rech_amt_data_8', 'std_og_mou_8']\n",
    "X_train = X_train[top_features]\n",
    "X_test = X_test[top_features]"
   ]
  },
  {
   "cell_type": "code",
   "execution_count": 207,
   "metadata": {},
   "outputs": [],
   "source": [
    "# logistic regression\n",
    "step = [('scaler', StandardScaler()),(\"logistic\", LogisticRegression(class_weight={0:0.1, 1:0.9}))]\n",
    "\n",
    "# compiling\n",
    "logistic = Pipeline(step)\n",
    "\n",
    "# hyperparameter\n",
    "param = {'logistic__C': [0.1, 0.5, 1, 2, 3, 4, 5, 10], 'logistic__penalty': ['l1', 'l2']}\n",
    "\n",
    "# 5 folds\n",
    "fold = StratifiedKFold(n_splits = 5, shuffle = True, random_state = 4)\n",
    "\n",
    "# creating gridsearch\n",
    "model = GridSearchCV(estimator = logistic, cv = fold, param_grid = param, scoring = 'roc_auc', n_jobs = -1, verbose = 1)"
   ]
  },
  {
   "cell_type": "code",
   "execution_count": 208,
   "metadata": {},
   "outputs": [
    {
     "name": "stdout",
     "output_type": "stream",
     "text": [
      "Fitting 5 folds for each of 16 candidates, totalling 80 fits\n"
     ]
    },
    {
     "data": {
      "text/html": [
       "<style>#sk-container-id-4 {color: black;}#sk-container-id-4 pre{padding: 0;}#sk-container-id-4 div.sk-toggleable {background-color: white;}#sk-container-id-4 label.sk-toggleable__label {cursor: pointer;display: block;width: 100%;margin-bottom: 0;padding: 0.3em;box-sizing: border-box;text-align: center;}#sk-container-id-4 label.sk-toggleable__label-arrow:before {content: \"▸\";float: left;margin-right: 0.25em;color: #696969;}#sk-container-id-4 label.sk-toggleable__label-arrow:hover:before {color: black;}#sk-container-id-4 div.sk-estimator:hover label.sk-toggleable__label-arrow:before {color: black;}#sk-container-id-4 div.sk-toggleable__content {max-height: 0;max-width: 0;overflow: hidden;text-align: left;background-color: #f0f8ff;}#sk-container-id-4 div.sk-toggleable__content pre {margin: 0.2em;color: black;border-radius: 0.25em;background-color: #f0f8ff;}#sk-container-id-4 input.sk-toggleable__control:checked~div.sk-toggleable__content {max-height: 200px;max-width: 100%;overflow: auto;}#sk-container-id-4 input.sk-toggleable__control:checked~label.sk-toggleable__label-arrow:before {content: \"▾\";}#sk-container-id-4 div.sk-estimator input.sk-toggleable__control:checked~label.sk-toggleable__label {background-color: #d4ebff;}#sk-container-id-4 div.sk-label input.sk-toggleable__control:checked~label.sk-toggleable__label {background-color: #d4ebff;}#sk-container-id-4 input.sk-hidden--visually {border: 0;clip: rect(1px 1px 1px 1px);clip: rect(1px, 1px, 1px, 1px);height: 1px;margin: -1px;overflow: hidden;padding: 0;position: absolute;width: 1px;}#sk-container-id-4 div.sk-estimator {font-family: monospace;background-color: #f0f8ff;border: 1px dotted black;border-radius: 0.25em;box-sizing: border-box;margin-bottom: 0.5em;}#sk-container-id-4 div.sk-estimator:hover {background-color: #d4ebff;}#sk-container-id-4 div.sk-parallel-item::after {content: \"\";width: 100%;border-bottom: 1px solid gray;flex-grow: 1;}#sk-container-id-4 div.sk-label:hover label.sk-toggleable__label {background-color: #d4ebff;}#sk-container-id-4 div.sk-serial::before {content: \"\";position: absolute;border-left: 1px solid gray;box-sizing: border-box;top: 0;bottom: 0;left: 50%;z-index: 0;}#sk-container-id-4 div.sk-serial {display: flex;flex-direction: column;align-items: center;background-color: white;padding-right: 0.2em;padding-left: 0.2em;position: relative;}#sk-container-id-4 div.sk-item {position: relative;z-index: 1;}#sk-container-id-4 div.sk-parallel {display: flex;align-items: stretch;justify-content: center;background-color: white;position: relative;}#sk-container-id-4 div.sk-item::before, #sk-container-id-4 div.sk-parallel-item::before {content: \"\";position: absolute;border-left: 1px solid gray;box-sizing: border-box;top: 0;bottom: 0;left: 50%;z-index: -1;}#sk-container-id-4 div.sk-parallel-item {display: flex;flex-direction: column;z-index: 1;position: relative;background-color: white;}#sk-container-id-4 div.sk-parallel-item:first-child::after {align-self: flex-end;width: 50%;}#sk-container-id-4 div.sk-parallel-item:last-child::after {align-self: flex-start;width: 50%;}#sk-container-id-4 div.sk-parallel-item:only-child::after {width: 0;}#sk-container-id-4 div.sk-dashed-wrapped {border: 1px dashed gray;margin: 0 0.4em 0.5em 0.4em;box-sizing: border-box;padding-bottom: 0.4em;background-color: white;}#sk-container-id-4 div.sk-label label {font-family: monospace;font-weight: bold;display: inline-block;line-height: 1.2em;}#sk-container-id-4 div.sk-label-container {text-align: center;}#sk-container-id-4 div.sk-container {/* jupyter's `normalize.less` sets `[hidden] { display: none; }` but bootstrap.min.css set `[hidden] { display: none !important; }` so we also need the `!important` here to be able to override the default hidden behavior on the sphinx rendered scikit-learn.org. See: https://github.com/scikit-learn/scikit-learn/issues/21755 */display: inline-block !important;position: relative;}#sk-container-id-4 div.sk-text-repr-fallback {display: none;}</style><div id=\"sk-container-id-4\" class=\"sk-top-container\"><div class=\"sk-text-repr-fallback\"><pre>GridSearchCV(cv=StratifiedKFold(n_splits=5, random_state=4, shuffle=True),\n",
       "             estimator=Pipeline(steps=[(&#x27;scaler&#x27;, StandardScaler()),\n",
       "                                       (&#x27;logistic&#x27;,\n",
       "                                        LogisticRegression(class_weight={0: 0.1,\n",
       "                                                                         1: 0.9}))]),\n",
       "             n_jobs=-1,\n",
       "             param_grid={&#x27;logistic__C&#x27;: [0.1, 0.5, 1, 2, 3, 4, 5, 10],\n",
       "                         &#x27;logistic__penalty&#x27;: [&#x27;l1&#x27;, &#x27;l2&#x27;]},\n",
       "             scoring=&#x27;roc_auc&#x27;, verbose=1)</pre><b>In a Jupyter environment, please rerun this cell to show the HTML representation or trust the notebook. <br />On GitHub, the HTML representation is unable to render, please try loading this page with nbviewer.org.</b></div><div class=\"sk-container\" hidden><div class=\"sk-item sk-dashed-wrapped\"><div class=\"sk-label-container\"><div class=\"sk-label sk-toggleable\"><input class=\"sk-toggleable__control sk-hidden--visually\" id=\"sk-estimator-id-10\" type=\"checkbox\" ><label for=\"sk-estimator-id-10\" class=\"sk-toggleable__label sk-toggleable__label-arrow\">GridSearchCV</label><div class=\"sk-toggleable__content\"><pre>GridSearchCV(cv=StratifiedKFold(n_splits=5, random_state=4, shuffle=True),\n",
       "             estimator=Pipeline(steps=[(&#x27;scaler&#x27;, StandardScaler()),\n",
       "                                       (&#x27;logistic&#x27;,\n",
       "                                        LogisticRegression(class_weight={0: 0.1,\n",
       "                                                                         1: 0.9}))]),\n",
       "             n_jobs=-1,\n",
       "             param_grid={&#x27;logistic__C&#x27;: [0.1, 0.5, 1, 2, 3, 4, 5, 10],\n",
       "                         &#x27;logistic__penalty&#x27;: [&#x27;l1&#x27;, &#x27;l2&#x27;]},\n",
       "             scoring=&#x27;roc_auc&#x27;, verbose=1)</pre></div></div></div><div class=\"sk-parallel\"><div class=\"sk-parallel-item\"><div class=\"sk-item\"><div class=\"sk-label-container\"><div class=\"sk-label sk-toggleable\"><input class=\"sk-toggleable__control sk-hidden--visually\" id=\"sk-estimator-id-11\" type=\"checkbox\" ><label for=\"sk-estimator-id-11\" class=\"sk-toggleable__label sk-toggleable__label-arrow\">estimator: Pipeline</label><div class=\"sk-toggleable__content\"><pre>Pipeline(steps=[(&#x27;scaler&#x27;, StandardScaler()),\n",
       "                (&#x27;logistic&#x27;,\n",
       "                 LogisticRegression(class_weight={0: 0.1, 1: 0.9}))])</pre></div></div></div><div class=\"sk-serial\"><div class=\"sk-item\"><div class=\"sk-serial\"><div class=\"sk-item\"><div class=\"sk-estimator sk-toggleable\"><input class=\"sk-toggleable__control sk-hidden--visually\" id=\"sk-estimator-id-12\" type=\"checkbox\" ><label for=\"sk-estimator-id-12\" class=\"sk-toggleable__label sk-toggleable__label-arrow\">StandardScaler</label><div class=\"sk-toggleable__content\"><pre>StandardScaler()</pre></div></div></div><div class=\"sk-item\"><div class=\"sk-estimator sk-toggleable\"><input class=\"sk-toggleable__control sk-hidden--visually\" id=\"sk-estimator-id-13\" type=\"checkbox\" ><label for=\"sk-estimator-id-13\" class=\"sk-toggleable__label sk-toggleable__label-arrow\">LogisticRegression</label><div class=\"sk-toggleable__content\"><pre>LogisticRegression(class_weight={0: 0.1, 1: 0.9})</pre></div></div></div></div></div></div></div></div></div></div></div></div>"
      ],
      "text/plain": [
       "GridSearchCV(cv=StratifiedKFold(n_splits=5, random_state=4, shuffle=True),\n",
       "             estimator=Pipeline(steps=[('scaler', StandardScaler()),\n",
       "                                       ('logistic',\n",
       "                                        LogisticRegression(class_weight={0: 0.1,\n",
       "                                                                         1: 0.9}))]),\n",
       "             n_jobs=-1,\n",
       "             param_grid={'logistic__C': [0.1, 0.5, 1, 2, 3, 4, 5, 10],\n",
       "                         'logistic__penalty': ['l1', 'l2']},\n",
       "             scoring='roc_auc', verbose=1)"
      ]
     },
     "execution_count": 208,
     "metadata": {},
     "output_type": "execute_result"
    }
   ],
   "source": [
    "# fitting the model\n",
    "model.fit(X_train, y_train)"
   ]
  },
  {
   "cell_type": "code",
   "execution_count": 209,
   "metadata": {},
   "outputs": [
    {
     "data": {
      "text/plain": [
       "0.8583746556473828"
      ]
     },
     "execution_count": 209,
     "metadata": {},
     "output_type": "execute_result"
    }
   ],
   "source": [
    "# best hyperparameters score\n",
    "model.best_score_"
   ]
  },
  {
   "cell_type": "code",
   "execution_count": 210,
   "metadata": {},
   "outputs": [
    {
     "data": {
      "text/plain": [
       "{'logistic__C': 10, 'logistic__penalty': 'l2'}"
      ]
     },
     "execution_count": 210,
     "metadata": {},
     "output_type": "execute_result"
    }
   ],
   "source": [
    "# best hyperparameters\n",
    "model.best_params_"
   ]
  },
  {
   "cell_type": "code",
   "execution_count": 211,
   "metadata": {
    "scrolled": false
   },
   "outputs": [
    {
     "name": "stdout",
     "output_type": "stream",
     "text": [
      "[[1179  141]\n",
      " [  25   48]]\n",
      "Sensitivity: \t0.66\n",
      "Specificity: \t0.89\n",
      "ROC:    \t 0.8\n"
     ]
    }
   ],
   "source": [
    "# predicting churn on test data\n",
    "y_pred = model.predict(X_test)\n",
    "\n",
    "# creating onfusion matrix\n",
    "print(confusion_matrix(y_test, y_pred))\n",
    "\n",
    "# checking sensitivity and specificity\n",
    "sensitivity, specificity, _ = sensitivity_specificity_support(y_test, y_pred, average='binary')\n",
    "print(\"Sensitivity: \\t\", round(sensitivity, 2), \"\\n\", \"Specificity: \\t\", round(specificity, 2), sep='')\n",
    "\n",
    "# checking area under curve\n",
    "y_pred_prob = model.predict_proba(X_test)[:, 1]\n",
    "print(\"ROC:    \\t\", round(roc_auc_score(y_test, y_pred_prob),2))"
   ]
  },
  {
   "cell_type": "code",
   "execution_count": 212,
   "metadata": {},
   "outputs": [],
   "source": [
    "logistic_model = model.best_estimator_.named_steps['logistic']"
   ]
  },
  {
   "cell_type": "code",
   "execution_count": 213,
   "metadata": {},
   "outputs": [],
   "source": [
    "# intercept\n",
    "intercept_df = pd.DataFrame(logistic_model.intercept_.reshape((1,1)), columns = ['intercept'])"
   ]
  },
  {
   "cell_type": "code",
   "execution_count": 214,
   "metadata": {},
   "outputs": [],
   "source": [
    "# coefficients\n",
    "coefficient = logistic_model.coef_.reshape((9, 1)).tolist()\n",
    "coefficient = [val for sublist in coefficient for val in sublist]\n",
    "coefficient = [round(coefficient, 3) for coefficient in coefficient]\n",
    "logistic_feature = list(X_train.columns)\n",
    "coefficients_df = pd.DataFrame(logistic_model.coef_, columns=logistic_feature)"
   ]
  },
  {
   "cell_type": "code",
   "execution_count": 215,
   "metadata": {},
   "outputs": [
    {
     "data": {
      "text/html": [
       "<div>\n",
       "<style scoped>\n",
       "    .dataframe tbody tr th:only-of-type {\n",
       "        vertical-align: middle;\n",
       "    }\n",
       "\n",
       "    .dataframe tbody tr th {\n",
       "        vertical-align: top;\n",
       "    }\n",
       "\n",
       "    .dataframe thead th {\n",
       "        text-align: right;\n",
       "    }\n",
       "</style>\n",
       "<table border=\"1\" class=\"dataframe\">\n",
       "  <thead>\n",
       "    <tr style=\"text-align: right;\">\n",
       "      <th></th>\n",
       "      <th>intercept</th>\n",
       "      <th>total_ic_mou_8</th>\n",
       "      <th>total_rech_amt_diff</th>\n",
       "      <th>total_og_mou_8</th>\n",
       "      <th>arpu_8</th>\n",
       "      <th>roam_ic_mou_8</th>\n",
       "      <th>roam_og_mou_8</th>\n",
       "      <th>std_ic_mou_8</th>\n",
       "      <th>av_rech_amt_data_8</th>\n",
       "      <th>std_og_mou_8</th>\n",
       "    </tr>\n",
       "  </thead>\n",
       "  <tbody>\n",
       "    <tr>\n",
       "      <th>0</th>\n",
       "      <td>-1.902812</td>\n",
       "      <td>-0.900783</td>\n",
       "      <td>-0.79648</td>\n",
       "      <td>-1.390654</td>\n",
       "      <td>0.583311</td>\n",
       "      <td>0.034502</td>\n",
       "      <td>0.076822</td>\n",
       "      <td>0.036364</td>\n",
       "      <td>-1.107152</td>\n",
       "      <td>0.585987</td>\n",
       "    </tr>\n",
       "  </tbody>\n",
       "</table>\n",
       "</div>"
      ],
      "text/plain": [
       "   intercept  total_ic_mou_8  total_rech_amt_diff  total_og_mou_8    arpu_8  \\\n",
       "0  -1.902812       -0.900783             -0.79648       -1.390654  0.583311   \n",
       "\n",
       "   roam_ic_mou_8  roam_og_mou_8  std_ic_mou_8  av_rech_amt_data_8  \\\n",
       "0       0.034502       0.076822      0.036364           -1.107152   \n",
       "\n",
       "   std_og_mou_8  \n",
       "0      0.585987  "
      ]
     },
     "execution_count": 215,
     "metadata": {},
     "output_type": "execute_result"
    }
   ],
   "source": [
    "# concatenate dataframes\n",
    "coefficients = pd.concat([intercept_df, coefficients_df], axis=1)\n",
    "coefficients"
   ]
  },
  {
   "cell_type": "markdown",
   "metadata": {},
   "source": [
    "### Steps to help reduce churn\n",
    "- <br> Give special; discounts to customers according to their usage\n",
    "- <br> Provide additional internet services on recharge.\n",
    "- <br> Speak to customers to fulfil their desires.\n",
    "- <br> Lower tariffs on data usage,a better 2G area coverage where 3G is not available.\n",
    "- <br> Expansion of 3G network where 3G is currently not available."
   ]
  },
  {
   "cell_type": "markdown",
   "metadata": {},
   "source": [
    "Less number of **high value customer** are churing but for last **6 month** no new high valued cusotmer is onboarded which is concerning and company should concentrate on that aspect.\n",
    "\n",
    "Customers with less than 4 years of tenure are more likely to churn and company should concentrate more on that segment by rolling out new schems to that group.\n",
    "\n",
    "Average revenue per user seems to be most important feature in determining churn prediction.\n",
    "\n",
    "Incoming and Outgoing Calls on romaing for 8th month are strong indicators of churn behaviour\n",
    "\n",
    "Local Outgoing calls made to landline , fixedline , mobile and call center provides a strong indicator of churn behaviour.\n",
    "\n",
    "Better 2G/3G area coverage where 2G/3G services are not good, it's strong indicator of churn behaviour."
   ]
  },
  {
   "cell_type": "code",
   "execution_count": null,
   "metadata": {},
   "outputs": [],
   "source": []
  }
 ],
 "metadata": {
  "kernelspec": {
   "display_name": "Python 3 (ipykernel)",
   "language": "python",
   "name": "python3"
  },
  "language_info": {
   "codemirror_mode": {
    "name": "ipython",
    "version": 3
   },
   "file_extension": ".py",
   "mimetype": "text/x-python",
   "name": "python",
   "nbconvert_exporter": "python",
   "pygments_lexer": "ipython3",
   "version": "3.9.13"
  }
 },
 "nbformat": 4,
 "nbformat_minor": 2
}
